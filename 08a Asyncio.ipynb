{
 "cells": [
  {
   "cell_type": "markdown",
   "metadata": {},
   "source": [
    "# asyncio and Concurrent Programming for IO Bound Tasks\n",
    "\n",
    "foundation for multiple Python asynchronous frameworks:\n",
    "* high-performance network\n",
    "* web-servers\n",
    "* database connection libraries\n",
    "* distributed task queues\n",
    "\n",
    "2 levels of APIs available - but we will only explore the high level APIs. The low level APIs are for library and framework development. \n",
    "\n",
    "*Warning*, asyncio can get quite complicated when you dive deep.\n",
    "\n",
    "(High level API)[https://docs.python.org/3.9/library/asyncio-api-index.html]:\n",
    "* Coroutines and Tasks\n",
    "* Streams\n",
    "* Synchronization Primitives\n",
    "* Subprocesses\n",
    "* Queues\n",
    "* Exceptions\n"
   ]
  },
  {
   "cell_type": "markdown",
   "metadata": {},
   "source": [
    "## Event loops\n",
    "Event loop runs in a thread (typically main) and executes all callbacks and tasks\n",
    "\n",
    "If a task is running, no other task can be running in the same thread\n",
    "\n",
    "When task executes an await expression: running task is suspended & event loop executes next task.\n",
    "\n"
   ]
  },
  {
   "cell_type": "markdown",
   "metadata": {},
   "source": [
    "## coroutines\n",
    "Code, similar to functions, that are declared with \"async def\"\n",
    "\n",
    "\"Preffered\" way to write asynchio applications\n",
    "\n",
    "Let's look at Hello World: -run this in a python file or at the python REPL"
   ]
  },
  {
   "cell_type": "code",
   "execution_count": null,
   "metadata": {},
   "outputs": [],
   "source": [
    "import asyncio\n",
    "\n",
    "async def main():\n",
    "    print('hello')\n",
    "    await asyncio.sleep(1)\n",
    "    print('world')\n",
    "\n",
    "asyncio.run(main())"
   ]
  },
  {
   "cell_type": "markdown",
   "metadata": {},
   "source": [
    "Just calling \"main()\" won't work.  Try it and tell me what happens. \n",
    "\n",
    "\n",
    "### 3 way to run a coroutine\n",
    "* asynchio.run() runs the top-level entry point \"main()\" function (as shown above)\n",
    "* Await on a couroutine (as shown below)"
   ]
  },
  {
   "cell_type": "code",
   "execution_count": null,
   "metadata": {},
   "outputs": [],
   "source": [
    "import asyncio\n",
    "import time\n",
    "\n",
    "async def say_after(delay, what):\n",
    "    await asyncio.sleep(delay)\n",
    "    print(what)\n",
    "\n",
    "async def main():\n",
    "    print(f\"started at {time.strftime('%X')}\")\n",
    "\n",
    "    await say_after(1, 'hello')\n",
    "    await say_after(2, 'world')\n",
    "\n",
    "    print(f\"finished at {time.strftime('%X')}\")\n",
    "\n",
    "asyncio.run(main())"
   ]
  },
  {
   "cell_type": "markdown",
   "metadata": {},
   "source": [
    "* or thirdly, use asyncio.create_task() function to run coroutines concurrently as asyncio Tasks."
   ]
  },
  {
   "cell_type": "code",
   "execution_count": 3,
   "metadata": {},
   "outputs": [],
   "source": [
    "async def main():\n",
    "    task1 = asyncio.create_task(\n",
    "        say_after(1, 'hello'))\n",
    "\n",
    "    task2 = asyncio.create_task(\n",
    "        say_after(2, 'world'))\n",
    "\n",
    "    print(f\"started at {time.strftime('%X')}\")\n",
    "\n",
    "    # Wait until both tasks are completed (should take\n",
    "    # around 2 seconds.)\n",
    "    await task1\n",
    "    await task2\n",
    "\n",
    "    print(f\"finished at {time.strftime('%X')}\")"
   ]
  },
  {
   "cell_type": "markdown",
   "metadata": {},
   "source": [
    "\"Awaitable\" objects are: coroutines, Tasks, Futures and anything else that can be used in an await epression.\n",
    "\n",
    "coroutines are awaitables and can be awaited from other coroutines as we will see. They come in 2 favors: \n",
    "\n",
    "* coroutine function: an async def function;\n",
    "\n",
    "* coroutine object: an object returned by calling a coroutine function\n",
    "\n"
   ]
  },
  {
   "cell_type": "code",
   "execution_count": null,
   "metadata": {},
   "outputs": [],
   "source": [
    "import asyncio\n",
    "\n",
    "async def knights():\n",
    "    return \"Ni!\"\n",
    "\n",
    "async def main():\n",
    "    # Nothing happens if we just call \"knights()\".\n",
    "    # A coroutine object is created but not awaited,\n",
    "    # so it *won't run at all*.\n",
    "    knights()\n",
    "\n",
    "    # Let's do it differently now and await it:\n",
    "    print(await knights())  # will print \"Ni!\".\n",
    "\n",
    "asyncio.run(main())"
   ]
  },
  {
   "cell_type": "markdown",
   "metadata": {},
   "source": [
    "Tasks are created by e.g. asyncio.create_task(). When coroutines are wrapped into a Task, it is scheduled to run... soon. \n",
    "\n",
    "Gather collects the tasks from all the awaitables, and returns a list of all the successful tasks. The order is the order of the positional arguments passed to gather. \n",
    "\n",
    "Let's look at our fact example but this time concurrently."
   ]
  },
  {
   "cell_type": "code",
   "execution_count": null,
   "metadata": {},
   "outputs": [],
   "source": [
    "import asyncio\n",
    "\n",
    "async def factorial(name, number):\n",
    "    f = 1\n",
    "    for i in range(2, number + 1):\n",
    "        print(f\"Task {name}: Compute factorial({number}), currently i={i}...\")\n",
    "        await asyncio.sleep(1)\n",
    "        f *= i\n",
    "    print(f\"Task {name}: factorial({number}) = {f}\")\n",
    "    return f\n",
    "\n",
    "async def main():\n",
    "    # Schedule three calls *concurrently*:\n",
    "    L = await asyncio.gather(\n",
    "        factorial(\"A\", 2),\n",
    "        factorial(\"B\", 3),\n",
    "        factorial(\"C\", 4),\n",
    "        factorial(\"D\", 5),\n",
    "    )\n",
    "    print(L)\n",
    "\n",
    "asyncio.run(main())"
   ]
  },
  {
   "cell_type": "markdown",
   "metadata": {},
   "source": []
  },
  {
   "cell_type": "markdown",
   "metadata": {},
   "source": [
    "## Exercises:\n",
    "1. Write a set of tasks to get information from 10-ish web sites asynchronously (import requests):\n",
    "choose 10 urls\n",
    "\n"
   ]
  },
  {
   "cell_type": "markdown",
   "metadata": {},
   "source": []
  }
 ],
 "metadata": {
  "interpreter": {
   "hash": "f2dae7b8263cf48ae2a1e3e9322b329ad42c2d28af1ff5f49870594264262771"
  },
  "kernelspec": {
   "display_name": "Python 3.8.8 64-bit ('data-train': conda)",
   "name": "python3"
  },
  "language_info": {
   "codemirror_mode": {
    "name": "ipython",
    "version": 3
   },
   "file_extension": ".py",
   "mimetype": "text/x-python",
   "name": "python",
   "nbconvert_exporter": "python",
   "pygments_lexer": "ipython3",
   "version": "3.8.8"
  },
  "orig_nbformat": 4
 },
 "nbformat": 4,
 "nbformat_minor": 2
}
