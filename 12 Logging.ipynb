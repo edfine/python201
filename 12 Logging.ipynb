{
 "cells": [
  {
   "cell_type": "markdown",
   "metadata": {
    "slideshow": {
     "slide_type": "slide"
    }
   },
   "source": [
    "# Logging"
   ]
  },
  {
   "cell_type": "markdown",
   "metadata": {
    "slideshow": {
     "slide_type": "subslide"
    }
   },
   "source": [
    "# Logging\n",
    "* Logging is a means of tracking events that happen when some software runs\n",
    "* We add logging calls to our code to indicate that certain events have occurred\n",
    "* Events have an importance which we, the developer, ascribe to the event; the importance can also be called the level or severity\n",
    "* There are set of convenience functions for simple logging usage: debug(), info(), warning(), error(), and critical()\n",
    "* When should we use logging? When we do use logging, which states should we use?\n",
    "* Python provides a standard and configurable logging facility. You can set up the collection\n",
    "of loggers &amp; handlers separately from their actual *use* in your program"
   ]
  },
  {
   "cell_type": "markdown",
   "metadata": {
    "slideshow": {
     "slide_type": "subslide"
    }
   },
   "source": [
    "![alt-text](loggingLevels.jpg \"Logging Levels\")"
   ]
  },
  {
   "cell_type": "code",
   "execution_count": null,
   "metadata": {},
   "outputs": [],
   "source": [
    "print('warning')"
   ]
  },
  {
   "cell_type": "code",
   "execution_count": null,
   "metadata": {
    "slideshow": {
     "slide_type": "subslide"
    }
   },
   "outputs": [],
   "source": [
    "import logging\n",
    "from importlib import reload\n",
    "# need to reload logging module because Jupyter already imports and\n",
    "# sets up a logger\n",
    "# you don't need to do this outside of Jupyter\n",
    "reload(logging)\n",
    "logging.warning('Watch out!')\n",
    "logging.info('not important')"
   ]
  },
  {
   "cell_type": "code",
   "execution_count": null,
   "metadata": {
    "slideshow": {
     "slide_type": "subslide"
    }
   },
   "outputs": [],
   "source": [
    "#import logging\n",
    "from importlib import reload\n",
    "reload(logging)\n",
    "logging.basicConfig(filename='example.log',\n",
    "                    filemode='w',\n",
    "                    level=logging.DEBUG)\n",
    "\n",
    "logging.debug('This message should go to the log file')\n",
    "logging.info('So should this')\n",
    "logging.warning('And this, too')\n",
    "\n",
    "with open('example.log', 'r') as f:\n",
    "    for line in f:\n",
    "        print(line, end='')"
   ]
  },
  {
   "cell_type": "code",
   "execution_count": null,
   "metadata": {},
   "outputs": [],
   "source": [
    "%%bash\n",
    "cat example.log"
   ]
  },
  {
   "cell_type": "code",
   "execution_count": null,
   "metadata": {},
   "outputs": [],
   "source": [
    "# same example but with more detailed logging\n",
    "# configuration\n",
    "# ...instead of basicConfig\n",
    "#import logging\n",
    "from importlib import reload\n",
    "reload(logging)\n",
    "logger = logging.getLogger()\n",
    "fhandler = logging.FileHandler(filename='example2.log', mode='w')\n",
    "formatter = logging.Formatter('%(asctime)s - %(levelname)s - %(message)s')\n",
    "fhandler.setFormatter(formatter)\n",
    "logger.addHandler(fhandler)\n",
    "logger.setLevel(logging.DEBUG)\n",
    "\n",
    "logging.debug('This message should go to the log file')\n",
    "logging.info('So should this')\n",
    "logging.warning('And this, too')\n",
    "\n",
    "with open('example2.log', 'r') as f:\n",
    "    for line in f:\n",
    "        print(line, end='')"
   ]
  },
  {
   "cell_type": "code",
   "execution_count": null,
   "metadata": {
    "slideshow": {
     "slide_type": "subslide"
    }
   },
   "outputs": [],
   "source": [
    "# Example of setting the log level via the command line\n",
    "import logging\n",
    "import sys\n",
    "\n",
    "LEVELS = { 'debug': logging.DEBUG,\n",
    "            'info': logging.INFO,\n",
    "            'warning': logging.WARNING,\n",
    "            'error': logging.ERROR,\n",
    "            'critical': logging.CRITICAL\n",
    "}\n",
    "\n",
    "if len(sys.argv) > 1:\n",
    "    level_name = sys.argv[1]\n",
    "    level = LEVELS.get(level_name, logging.NOTSET)\n",
    "    logging.basicConfig(level=level)\n",
    "\n",
    "logging.debug('This is a debug message')\n",
    "logging.info('This is an info message')\n",
    "logging.warning('This is a warning message')\n",
    "logging.error('This is an error message')\n",
    "logging.critical('This is a critical error message')"
   ]
  },
  {
   "cell_type": "code",
   "execution_count": null,
   "metadata": {},
   "outputs": [],
   "source": [
    "%%bash\n",
    "python3 logargv.py debug"
   ]
  },
  {
   "cell_type": "code",
   "execution_count": null,
   "metadata": {
    "slideshow": {
     "slide_type": "subslide"
    }
   },
   "outputs": [],
   "source": [
    "from importlib import reload\n",
    "reload(logging)\n",
    "\n",
    "logging.basicConfig(level=logging.WARNING)\n",
    "\n",
    "logger1 = logging.getLogger('module1')\n",
    "logger2 = logging.getLogger('module2')\n",
    "\n",
    "logger1.warning('This message comes from one module')\n",
    "logger2.warning('And this message comes from another module')\n",
    "\n",
    "logger2.setLevel(logging.CRITICAL)\n",
    "logger2.warning('We will not see this...')"
   ]
  },
  {
   "cell_type": "markdown",
   "metadata": {
    "slideshow": {
     "slide_type": "subslide"
    }
   },
   "source": [
    "### Lab: Logging\n",
    "* create two classes, each of which declares its own logger\n",
    "* add a method to each class which uses the logger from its class\n",
    "* instantiate the classes and invoke the methods to demonstrate that both loggers are being used"
   ]
  },
  {
   "cell_type": "code",
   "execution_count": null,
   "metadata": {},
   "outputs": [],
   "source": []
  }
 ],
 "metadata": {
  "celltoolbar": "Slideshow",
  "kernelspec": {
   "display_name": "Python 3",
   "language": "python",
   "name": "python3"
  },
  "language_info": {
   "codemirror_mode": {
    "name": "ipython",
    "version": 3
   },
   "file_extension": ".py",
   "mimetype": "text/x-python",
   "name": "python",
   "nbconvert_exporter": "python",
   "pygments_lexer": "ipython3",
   "version": "3.8.8"
  }
 },
 "nbformat": 4,
 "nbformat_minor": 4
}
