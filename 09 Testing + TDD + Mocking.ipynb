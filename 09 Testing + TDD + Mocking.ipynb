{
 "cells": [
  {
   "cell_type": "markdown",
   "metadata": {
    "slideshow": {
     "slide_type": "slide"
    }
   },
   "source": [
    "# Test-Driven Development/Unit Testing/Mocking"
   ]
  },
  {
   "cell_type": "markdown",
   "metadata": {
    "slideshow": {
     "slide_type": "subslide"
    }
   },
   "source": [
    "## Test-Driven Development\n",
    "* not a library or an API, but rather, TDD is a way of developing software\n",
    "* Python includes awesome support for TDD right out of the box\n",
    "* unit testing has been an integral part of Python since version 2.1 (2001)\n",
    "* numerous improvements since then\n",
    "* no excuse for avoiding testing!"
   ]
  },
  {
   "cell_type": "code",
   "execution_count": null,
   "metadata": {
    "slideshow": {
     "slide_type": "subslide"
    }
   },
   "outputs": [],
   "source": [
    "from IPython.display import Image\n",
    "Image('TDDflowchart.png')"
   ]
  },
  {
   "cell_type": "markdown",
   "metadata": {
    "slideshow": {
     "slide_type": "subslide"
    }
   },
   "source": [
    "## Unit Testing\n",
    "* the smallest testable parts of an application, called units, are individually and independently scrutinized to ensure they work\n",
    "* your functions/methods/procedures should do ONE thing (and do it well)–testing that thing should be relatively easy to explain\n",
    "* exercise the !$%@!$# out of the unit to be sure it works, especially with corner cases, not just the expected cases\n",
    "* sometimes called \"white box testing\""
   ]
  },
  {
   "cell_type": "markdown",
   "metadata": {
    "slideshow": {
     "slide_type": "subslide"
    }
   },
   "source": [
    "## Integration Testing\n",
    "* unit testing = testing a single unit of code, isolated from other units\n",
    "* integration testing = exercising 2+ units together, with the goal being to check whether these units have been integrated correctly\n",
    " * if any step fails, the integration test fails, but we must investigate (sometimes deeply) to find out where the failure actually occurred\n",
    " * if unit tests don't pass, there is no point in going further with an integration test"
   ]
  },
  {
   "cell_type": "markdown",
   "metadata": {
    "slideshow": {
     "slide_type": "subslide"
    }
   },
   "source": [
    "## TDD is NOT REALLY ABOUT TESTING!\n",
    "* traditionally, unit testing and developer testing are about writing tests to verify the code works…\n",
    "* …whereas main focus of TDD is not about testing\n",
    "* writing a test before the code is implemented changes the way we think when we implement functionality\n",
    " * resulting code is more testable\n",
    " * usually simple, elegant design\n",
    " * easier to read and maintain\n",
    " * why?\n",
    "* so really about writing better code, and we get an automated test suite as a nice side effect"
   ]
  },
  {
   "cell_type": "markdown",
   "metadata": {
    "slideshow": {
     "slide_type": "subslide"
    }
   },
   "source": [
    "## TDD tests\n",
    "* usually require no setup, vs. traditional unit tests\n",
    "* fast to run, since we run them often during development (sometimes called \"micro tests\")\n",
    "* tests that drive the development forward\n",
    "* not necessarily cover all imaginable scenarios\n",
    " * e.g., file processing function might be tested with a file that exists, a file that's unreadable, a file that doesn't exist, but not necessarily with a 1TB file\n",
    "* \"TDD is about writing better, cleaner, more maintainable code, and only incidentally about testing.\""
   ]
  },
  {
   "cell_type": "markdown",
   "metadata": {
    "slideshow": {
     "slide_type": "subslide"
    }
   },
   "source": [
    "## TDD Testing Recap\n",
    "* TDD testing general rules\n",
    " * run fast\n",
    " * standalone\n",
    " * independent\n",
    " * run full test suite before/after coding sessions\n",
    " * write a broken unit test when interrupting your work"
   ]
  },
  {
   "cell_type": "markdown",
   "metadata": {
    "slideshow": {
     "slide_type": "subslide"
    }
   },
   "source": [
    "## A Sample Class"
   ]
  },
  {
   "cell_type": "code",
   "execution_count": null,
   "metadata": {},
   "outputs": [],
   "source": [
    "class FunnyList(list):\n",
    "    def __init__(self, item):\n",
    "        \"\"\"Allows us to create a FunnyList not only from a list,\n",
    "           but ALSO from a single element\n",
    "        \"\"\"\n",
    "        if isinstance(item, list):\n",
    "            return super().__init__(item)\n",
    "        else:\n",
    "            return super().__init__([item])\n",
    "    \n",
    "    def __eq__(self, other):\n",
    "        \"\"\"Check for equality without concern for order.\n",
    "           If the sorted versions of two FunnyLists are the\n",
    "           same, then we deem the FunnyLists to be the same.\n",
    "        \"\"\"\n",
    "        return sorted(self) == sorted(other)\n",
    "\n",
    "    def __ne__(self, other):\n",
    "        return sorted(self) != sorted(other)\n",
    "\n",
    "    def __add__(self, thing):\n",
    "        \"\"\"Add to a FunnyList. Distinguish between adding a\n",
    "           list/FunnyList, and something else.\n",
    "        \"\"\"\n",
    "        if not isinstance(thing, list):\n",
    "            return FunnyList(super().__add__([thing]))\n",
    "\n",
    "        return FunnyList(super().__add__(thing))\n",
    "    \n",
    "    def __iadd__(self, thing):\n",
    "        \"\"\"Same as above except this is += instead of +.\"\"\"\n",
    "        if issubclass(thing.__class__, list):\n",
    "            return self + thing\n",
    "        else:\n",
    "            return self + [thing]"
   ]
  },
  {
   "cell_type": "code",
   "execution_count": null,
   "metadata": {},
   "outputs": [],
   "source": [
    "fl = FunnyList([1, 2])\n",
    "fl += 3\n",
    "fl, type(fl)"
   ]
  },
  {
   "cell_type": "code",
   "execution_count": null,
   "metadata": {},
   "outputs": [],
   "source": [
    "fl1 = FunnyList([1, 2, 3])\n",
    "fl2 = FunnyList([3, 2, 1])\n",
    "fl1 == fl2"
   ]
  },
  {
   "cell_type": "code",
   "execution_count": null,
   "metadata": {},
   "outputs": [],
   "source": [
    "f1 = FunnyList([1, 2, 3])\n",
    "f2 = FunnyList(4)\n",
    "f1 + f2"
   ]
  },
  {
   "cell_type": "code",
   "execution_count": null,
   "metadata": {},
   "outputs": [],
   "source": [
    "l1 = [1, 2, 3]\n",
    "l2 = [4, 5, 6]\n",
    "l1 + l2"
   ]
  },
  {
   "cell_type": "code",
   "execution_count": null,
   "metadata": {},
   "outputs": [],
   "source": [
    "f1 + 5"
   ]
  },
  {
   "cell_type": "code",
   "execution_count": null,
   "metadata": {},
   "outputs": [],
   "source": [
    "f1 = FunnyList(['list1'])\n",
    "f2 = FunnyList(2)\n",
    "f1, f2"
   ]
  },
  {
   "cell_type": "code",
   "execution_count": null,
   "metadata": {
    "scrolled": true
   },
   "outputs": [],
   "source": [
    "l1 + [5]"
   ]
  },
  {
   "cell_type": "markdown",
   "metadata": {
    "slideshow": {
     "slide_type": "subslide"
    }
   },
   "source": [
    "## Testing our sample class"
   ]
  },
  {
   "cell_type": "code",
   "execution_count": null,
   "metadata": {},
   "outputs": [],
   "source": [
    "!cat funnylist3.py"
   ]
  },
  {
   "cell_type": "code",
   "execution_count": null,
   "metadata": {},
   "outputs": [],
   "source": [
    "from funnylist3 import FunnyList\n",
    "import unittest # Python's unit test module\n",
    "\n",
    "class TestFunnyList(unittest.TestCase):\n",
    "    def setUp(self):\n",
    "        self.list1 = [1, 2, 3] # Python list\n",
    "        self.list2 = [3, 2, 1]\n",
    "        self.sclist = sorted(self.list1 + self.list2)\n",
    "        self.fl1 = FunnyList(self.list1)\n",
    "        self.fl2 = FunnyList(self.list2)\n",
    "    \n",
    "#     def test_init(self):\n",
    "#         self.assertEqual(self.fl1, self.list1) # should be same\n",
    "#         self.assertEqual(self.fl2, self.list2) # should be same\n",
    "        \n",
    "    def test_equal(self):\n",
    "        self.assertTrue(self.fl1 == self.fl2)\n",
    "\n",
    "#     def test_add_two(self):\n",
    "#         self.fl3 = self.fl1 + self.fl2\n",
    "#         self.assertEqual(sorted(self.fl3), self.sclist)\n",
    "\n",
    "#     def test_plus_equals_list(self):\n",
    "#         self.fl3 = self.fl1 + self.fl2\n",
    "#         self.fl1 += self.fl2\n",
    "#         self.assertEqual(self.fl3, self.fl1)\n",
    "   \n",
    "    def test_plus_obj(self):\n",
    "        self.list1.append(4)\n",
    "        self.fl1 = self.fl1 + 4\n",
    "        self.assertEqual(self.list1, self.fl1)\n",
    "\n",
    "#     def test_plus_equals_obj(self):\n",
    "#         self.list1.append(4)\n",
    "#         self.fl1 += 4\n",
    "#         self.assertEqual(self.list1, self.fl1)\n",
    "        \n",
    "'''command line run\n",
    "if __name__ == '__main__':\n",
    "    unittest.main()\n",
    "'''\n",
    "\n",
    "'''Jupyter run'''\n",
    "suite = unittest.TestLoader().loadTestsFromTestCase(TestFunnyList)\n",
    "unittest.TextTestRunner().run(suite)\n"
   ]
  },
  {
   "cell_type": "code",
   "execution_count": null,
   "metadata": {
    "scrolled": true
   },
   "outputs": [],
   "source": [
    "!cat testfunnylist.py"
   ]
  },
  {
   "cell_type": "code",
   "execution_count": null,
   "metadata": {},
   "outputs": [],
   "source": [
    "!python3 testfunnylist.py"
   ]
  },
  {
   "cell_type": "markdown",
   "metadata": {
    "slideshow": {
     "slide_type": "subslide"
    }
   },
   "source": [
    "## Test Coverage\n",
    "* before we hand off our code, we want to be sure all tests are passing\n",
    "* ...and we have 100% coverage"
   ]
  },
  {
   "cell_type": "code",
   "execution_count": null,
   "metadata": {},
   "outputs": [],
   "source": [
    "%%bash\n",
    "coverage run testfunnylist.py"
   ]
  },
  {
   "cell_type": "code",
   "execution_count": null,
   "metadata": {},
   "outputs": [],
   "source": [
    "%%bash\n",
    "#conda install coverage -y\n",
    "coverage report -m"
   ]
  },
  {
   "cell_type": "code",
   "execution_count": null,
   "metadata": {},
   "outputs": [],
   "source": [
    "!coverage html"
   ]
  },
  {
   "cell_type": "code",
   "execution_count": null,
   "metadata": {},
   "outputs": [],
   "source": [
    "!cat -n funnylist.py"
   ]
  },
  {
   "cell_type": "markdown",
   "metadata": {
    "slideshow": {
     "slide_type": "subslide"
    }
   },
   "source": [
    "## Dirty Services\n",
    "* often, our code interacts with \"dirty\" services, i.e., those which have undesirable side effects\n",
    " * inserting into database\n",
    " * posting on the web\n",
    " * system calls / interact with OS\n",
    "* …as a developer, you care more that your code correctly called the system function for ejecting a CD rather than experiencing the CD tray open every time a test is run"
   ]
  },
  {
   "cell_type": "markdown",
   "metadata": {
    "slideshow": {
     "slide_type": "subslide"
    }
   },
   "source": [
    "## Mocking\n",
    "* to deal with these kinds of services, we can use the __`mock`__ subpackage of the __`unitttest`__ library\n",
    "* included as of Python 3.3…before that you need to download it via PyPI\n",
    "* a mock object is one that is substituted for a real object in a test case\n",
    "* unlike ordinary unit tests that assert on the state of an object, mock objects are used to test that interactions between multiple objects occurs as they should\n",
    "* writing test cases with mocks make our tests smarter, faster, and able to reveal more about how the software actually works"
   ]
  },
  {
   "cell_type": "markdown",
   "metadata": {
    "slideshow": {
     "slide_type": "subslide"
    }
   },
   "source": [
    "## Road to Mocking\n",
    "* let's consider a simple function to remove a file"
   ]
  },
  {
   "cell_type": "code",
   "execution_count": null,
   "metadata": {},
   "outputs": [],
   "source": [
    "# rm.py\n",
    "import os\n",
    "\n",
    "def rm(filename):\n",
    "    os.remove(filename)"
   ]
  },
  {
   "cell_type": "markdown",
   "metadata": {},
   "source": [
    "1. first we'll write a test that creates a file and ensures our function removes it\n",
    "2. then we'll create our own mock function to demonstrate mocking and explain how it works \"under the hood\"\n",
    "3. finally, we'll use unitest.mock"
   ]
  },
  {
   "cell_type": "markdown",
   "metadata": {
    "slideshow": {
     "slide_type": "subslide"
    }
   },
   "source": [
    "## Testing our simple `rm` function"
   ]
  },
  {
   "cell_type": "code",
   "execution_count": null,
   "metadata": {
    "scrolled": true
   },
   "outputs": [],
   "source": [
    "from rm import rm\n",
    "import os.path\n",
    "import tempfile\n",
    "import unittest\n",
    "\n",
    "class RmTestCase(unittest.TestCase):\n",
    "    def setUp(self):\n",
    "        self.tmpfilepath = os.path.join(tempfile.gettempdir(), \"tmp-testfile\")\n",
    "        with open(self.tmpfilepath, \"w\") as f:\n",
    "            f.write(\"Delete me!\")\n",
    "        \n",
    "    def test_rm(self):\n",
    "        # remove the file\n",
    "        rm(self.tmpfilepath)\n",
    "        # test that it was actually removed\n",
    "        self.assertFalse(os.path.isfile(self.tmpfilepath),\n",
    "                         \"Failed to remove the file.\")\n",
    "\n",
    "'''\n",
    "if __name__ == '__main__':\n",
    "    unittest.main()\n",
    "'''\n",
    "\n",
    "'''IPython run'''\n",
    "suite = unittest.TestLoader().loadTestsFromTestCase(RmTestCase)\n",
    "unittest.TextTestRunner().run(suite)"
   ]
  },
  {
   "cell_type": "markdown",
   "metadata": {
    "slideshow": {
     "slide_type": "subslide"
    }
   },
   "source": [
    "## Let's create our own mock object"
   ]
  },
  {
   "cell_type": "code",
   "execution_count": null,
   "metadata": {},
   "outputs": [],
   "source": [
    "class Mock():\n",
    "    def __init__(self, retval=None):\n",
    "        self.called = False # have we been called?\n",
    "        self.params = ()    # what params were sent to us?\n",
    "        self.retval = retval\n",
    "        \n",
    "    '''__call__() is a magic method that allows the object to\n",
    "    called like a function'''\n",
    "    def __call__(self, *args, **kwargs):\n",
    "        self.called = True\n",
    "        self.params = (args, kwargs)\n",
    "        return self.retval"
   ]
  },
  {
   "cell_type": "code",
   "execution_count": null,
   "metadata": {},
   "outputs": [],
   "source": [
    "from mymock import Mock\n",
    "m = Mock(593) # creates a Mock object, retval = 593\n",
    "m.called, m.retval, m.params"
   ]
  },
  {
   "cell_type": "code",
   "execution_count": null,
   "metadata": {},
   "outputs": [],
   "source": [
    "m('posparam1', 'posparam2', 'foo', x=5, Debug=True) # call the mock object like a function"
   ]
  },
  {
   "cell_type": "code",
   "execution_count": null,
   "metadata": {},
   "outputs": [],
   "source": [
    "m.called"
   ]
  },
  {
   "cell_type": "code",
   "execution_count": null,
   "metadata": {},
   "outputs": [],
   "source": [
    "m.params"
   ]
  },
  {
   "cell_type": "markdown",
   "metadata": {
    "slideshow": {
     "slide_type": "subslide"
    }
   },
   "source": [
    "## Using our mock object to avoid actually removing anything!"
   ]
  },
  {
   "cell_type": "code",
   "execution_count": null,
   "metadata": {},
   "outputs": [],
   "source": [
    "import unittest\n",
    "from mymock import Mock\n",
    "\n",
    "rm = Mock() # makes it so when I call rm,\n",
    "            # I'm actually calling the mock\n",
    "\n",
    "class RmTestCase(unittest.TestCase):\n",
    "    def setUp(self):\n",
    "        pass # no longer have to create a file\n",
    "    \n",
    "    def test_rm(self):\n",
    "        rm('tempfile') # call mocked rm\n",
    "        self.assertTrue(rm.called == True)\n",
    "        print('rm.params =', rm.params)\n",
    "        self.assertTrue(rm.params[0][0] == 'tempfile')\n",
    "\n",
    "# unittest.main()\n",
    "suite = unittest.TestLoader().loadTestsFromTestCase(RmTestCase)\n",
    "unittest.TextTestRunner().run(suite)"
   ]
  },
  {
   "cell_type": "markdown",
   "metadata": {
    "slideshow": {
     "slide_type": "subslide"
    }
   },
   "source": [
    "## Using unittest.mock"
   ]
  },
  {
   "cell_type": "code",
   "execution_count": null,
   "metadata": {
    "scrolled": true,
    "slideshow": {
     "slide_type": "-"
    }
   },
   "outputs": [],
   "source": [
    "from rm import rm # my rm function\n",
    "from unittest import mock\n",
    "import unittest\n",
    "\n",
    "class RmTestCase(unittest.TestCase):\n",
    "    # The @mock.patch decorator results in the target imported\n",
    "    # and the specified object is replaced with a new mock object\n",
    "    # ...and passed as an argument to the decorated function.\n",
    "    \n",
    "    # Note that we must patch rm where it is used (rm.os), not\n",
    "    # where it's from. So we will be creating a mock for the os\n",
    "    # module inside the rm module, and the created mock is passed\n",
    "    # to the decorated function.\n",
    "    # test_rm = mock.patch(test_rm, mocked_object)\n",
    "    @mock.patch('rm.os')\n",
    "    def test_rm(self, mock_os):\n",
    "        rm('foo')\n",
    "        # test that rm called os.remove with the right parameters\n",
    "        mock_os.remove.assert_called_with('foo')\n",
    "\n",
    "# unittest.main()\n",
    "suite = unittest.TestLoader().loadTestsFromTestCase(RmTestCase)\n",
    "unittest.TextTestRunner().run(suite)"
   ]
  },
  {
   "cell_type": "markdown",
   "metadata": {
    "slideshow": {
     "slide_type": "subslide"
    }
   },
   "source": [
    "## Let's make `rm` a little smarter"
   ]
  },
  {
   "cell_type": "code",
   "execution_count": null,
   "metadata": {},
   "outputs": [],
   "source": [
    "# rm2.py\n",
    "import os\n",
    "import os.path\n",
    "\n",
    "def rm(filename):\n",
    "    if os.path.isfile(filename):\n",
    "        os.remove(filename)"
   ]
  },
  {
   "cell_type": "code",
   "execution_count": null,
   "metadata": {},
   "outputs": [],
   "source": [
    "from rm2 import rm\n",
    "from unittest import mock\n",
    "import unittest\n",
    "\n",
    "class RmTestCase(unittest.TestCase):\n",
    "    # test_rm = mock.patch(mock.patch(test_rm, mock for 'rm2.os'), mock for 'rm2.os.path')\n",
    "    @mock.patch('rm2.os.path')\n",
    "    @mock.patch('rm2.os')\n",
    "    def test_rm(self, mock_os, mock_path):\n",
    "        mock_path.isfile.return_value = False\n",
    "        \n",
    "        rm('any path')\n",
    "        \n",
    "        self.assertFalse(mock_os.remove.called, ''' \n",
    "                Tried to remove when file not present.''')\n",
    "        # make the file 'exist'\n",
    "        mock_path.isfile.return_value = True\n",
    "        \n",
    "        rm('any path')\n",
    "        mock_os.remove.assert_called_with('any path')\n",
    "\n",
    "# unittest.main()\n",
    "suite = unittest.TestLoader().loadTestsFromTestCase(RmTestCase)\n",
    "unittest.TextTestRunner().run(suite)"
   ]
  },
  {
   "cell_type": "markdown",
   "metadata": {
    "slideshow": {
     "slide_type": "subslide"
    }
   },
   "source": [
    "## What about mocks for objects?"
   ]
  },
  {
   "cell_type": "code",
   "execution_count": null,
   "metadata": {},
   "outputs": [],
   "source": [
    "import os\n",
    "import os.path\n",
    "\n",
    "class RemovalService():\n",
    "    '''A service for removing objects from the filesystem'''\n",
    "\n",
    "    def rm(self, filename):\n",
    "        if os.path.isfile(filename):\n",
    "            os.remove(filename)\n",
    "            \n",
    "class UploadService():\n",
    "    '''Upload a file and remove it once the upload is complete'''\n",
    "    \n",
    "    def __init__(self, removal_service):\n",
    "        self.removal_service = removal_service\n",
    "        \n",
    "    def upload_complete(self, filename):\n",
    "        self.removal_service.rm(filename)"
   ]
  },
  {
   "cell_type": "markdown",
   "metadata": {
    "slideshow": {
     "slide_type": "subslide"
    }
   },
   "source": [
    "## ...now we have a file removal service and an upload service that depends on it\n",
    "* how do we test __`UploadService`__?\n",
    " 1. either mock out the __`RemovalService.rm`__ method itself\n",
    " 2. OR supply a mocked instance in the constructor of __`UploadService`__"
   ]
  },
  {
   "cell_type": "markdown",
   "metadata": {},
   "source": [
    "## Option 1: mock out method itself using `@mock.patch.object`"
   ]
  },
  {
   "cell_type": "code",
   "execution_count": null,
   "metadata": {},
   "outputs": [],
   "source": [
    "from services import RemovalService, UploadService\n",
    "from unittest import mock\n",
    "import unittest\n",
    "\n",
    "class UploadServiceTestCase(unittest.TestCase):\n",
    "    # mock out \n",
    "    @mock.patch.object(RemovalService, 'rm')\n",
    "    def test_upload_complete(self, mock_rm):\n",
    "        # when we create a RemovalService object...\n",
    "        # ...the rm method will automatically be mocked\n",
    "        removal_service = RemovalService()\n",
    "\n",
    "        ref = UploadService(removal_service)\n",
    "\n",
    "        # call upload_complete, which should, in turn, call `rm`:\n",
    "        ref.upload_complete(\"my uploaded file\")\n",
    "        \n",
    "        # check that it called the rm method of any RemovalService\n",
    "        #mock_rm.assert_called_with(\"my uploaded file\")\n",
    "        \n",
    "        # check that it called the rm method of _our_ removal_service\n",
    "        removal_service.rm.assert_called_with(\"my uploaded file\")\n",
    "\n",
    "# unittest.main()\n",
    "suite = unittest.TestLoader().loadTestsFromTestCase(UploadServiceTestCase)\n",
    "unittest.TextTestRunner().run(suite)"
   ]
  },
  {
   "cell_type": "markdown",
   "metadata": {
    "slideshow": {
     "slide_type": "subslide"
    }
   },
   "source": [
    "## Option 2: supply a mocked instance to UploadService"
   ]
  },
  {
   "cell_type": "code",
   "execution_count": null,
   "metadata": {},
   "outputs": [],
   "source": [
    "from services import RemovalService, UploadService\n",
    "from unittest import mock\n",
    "import unittest\n",
    "\n",
    "class UploadServiceTestCase(unittest.TestCase):\n",
    "    def test_upload_complete(self):\n",
    "        # build our dependencies\n",
    "        mock_removal_service = mock.create_autospec(RemovalService)\n",
    "        ref = UploadService(mock_removal_service)\n",
    "        \n",
    "        # call upload_complete, which should, in turn, call `rm`:\n",
    "        ref.upload_complete(\"my uploaded file\")\n",
    "        \n",
    "        # test that it called the rm method\n",
    "        mock_removal_service.rm.assert_called_with(\"my uploaded file\")\n",
    "\n",
    "#unittest.main()\n",
    "suite = unittest.TestLoader().loadTestsFromTestCase(UploadServiceTestCase)\n",
    "unittest.TextTestRunner().run(suite)"
   ]
  },
  {
   "cell_type": "markdown",
   "metadata": {
    "slideshow": {
     "slide_type": "subslide"
    }
   },
   "source": [
    "## autospec"
   ]
  },
  {
   "cell_type": "code",
   "execution_count": null,
   "metadata": {},
   "outputs": [],
   "source": [
    "from unittest.mock import Mock\n",
    "\n",
    "def function(a, b, c):\n",
    "    # ...\n",
    "    return \"foo\"\n",
    "\n",
    "mockfunc = Mock()\n",
    "mockfunc(1, 2, 3)"
   ]
  },
  {
   "cell_type": "code",
   "execution_count": null,
   "metadata": {},
   "outputs": [],
   "source": [
    "mockfunc.called"
   ]
  },
  {
   "cell_type": "code",
   "execution_count": null,
   "metadata": {},
   "outputs": [],
   "source": [
    "mockfunc.call_args"
   ]
  },
  {
   "cell_type": "code",
   "execution_count": null,
   "metadata": {},
   "outputs": [],
   "source": [
    "# ...but we need not call the function with the correct number of args\n",
    "mockfunc(1)\n",
    "mockfunc.call_args"
   ]
  },
  {
   "cell_type": "code",
   "execution_count": null,
   "metadata": {},
   "outputs": [],
   "source": [
    "from unittest.mock import create_autospec\n",
    "mockfunc = create_autospec(function, return_value='foo')\n",
    "mockfunc(1, 2, 3)"
   ]
  },
  {
   "cell_type": "markdown",
   "metadata": {
    "slideshow": {
     "slide_type": "subslide"
    }
   },
   "source": [
    "## Lab: Unittest/Mocking\n",
    "1. Write at least two unit tests for the Word class in Notebook 02.\n",
    "2. Write a method which interacts with a not-yet-implemented library function named foo(), which takes exactly 2 arguments and returns the sum of those arguments. Use an autospec-ed mock in place of foo().\n",
    "2. Using the examples as a template, create a method which changes the permissions (__`os.chmod()`__) on a file, and use mocks to avoid actually changing a file's permissions"
   ]
  },
  {
   "cell_type": "code",
   "execution_count": null,
   "metadata": {},
   "outputs": [],
   "source": []
  }
 ],
 "metadata": {
  "celltoolbar": "Slideshow",
  "kernelspec": {
   "display_name": "Python 3",
   "language": "python",
   "name": "python3"
  },
  "language_info": {
   "codemirror_mode": {
    "name": "ipython",
    "version": 3
   },
   "file_extension": ".py",
   "mimetype": "text/x-python",
   "name": "python",
   "nbconvert_exporter": "python",
   "pygments_lexer": "ipython3",
   "version": "3.8.8"
  }
 },
 "nbformat": 4,
 "nbformat_minor": 1
}
