{
 "cells": [
  {
   "cell_type": "markdown",
   "metadata": {},
   "source": [
    "Here are an updated set of labs for afternoon.\n",
    "\n",
    "## Philosophy\n",
    "\n",
    "We will have several exercises to practice and focus on areas that might want more study.  Some are easier and some are harder and may require some areas that are a stretch from what we have already covered.  Take them at your own pace and learn what you need.  \n",
    "\n"
   ]
  },
  {
   "cell_type": "markdown",
   "metadata": {},
   "source": [
    "## Part 1 OOP Practice:\n",
    "\n",
    "-1 Create a Vehicle class without any variables and methods\n",
    "\n",
    "-2 Create a Vehicle class with max_speed and mileage instance attributes\n",
    "\n",
    "-3 Create a Bus object that will inherit all of the variables and methods of the Vehicle class and display it.\n",
    "\n",
    "-4 Modify your Bus class that inherits from the Vehicle class. Give the capacity argument of Bus.seating_capacity a default value of 50. \n",
    "\n",
    "-5 Define property on Vehicle that should have the same value for every class instance\n",
    "Define a class attribute”color” with a default value white. I.e., Every Vehicle should be white.\n",
    "\n",
    "Expect the following output:\n",
    "\n",
    "Color: White, Vehicle name: School Volvo, Speed: 180, Mileage: 12\n",
    "\n",
    "Color: White, Vehicle name: Audi Q5, Speed: 240, Mileage: 18"
   ]
  },
  {
   "cell_type": "code",
   "execution_count": null,
   "metadata": {
    "vscode": {
     "languageId": "plaintext"
    }
   },
   "outputs": [],
   "source": []
  },
  {
   "cell_type": "markdown",
   "metadata": {},
   "source": [
    "### Make a Sudoku Generator Algorithm using OOP.\n",
    "\n",
    "Your task is to design an algorithm used to create a Sudoku Grid. The generated Sudoku grid should have enough clues (numbers in cells) to be solvable resulting in a unique solution.\n",
    "\n",
    "Sudoku?\n",
    "\n",
    "A Sudoku game is number-placement puzzle. The objective is to fill a 9×9 grid with digits so that each column, each row, and each of the nine 3×3 subgrids that compose the grid (also called “boxes”, “blocks”, or “regions”) contain all of the digits from 1 to 9. The puzzle setter provides a partially completed grid, which for a well-posed puzzle has a single solution.\n",
    "Our aim for this challenge is not to generate a Sudoku solver algorithm but instead to create an algorithm to be used by a puzzle setter to produce a well-posed Sudoku grid: a grid with a unique solution. For instance the output of our algorithm could be a grid such as this one:\n",
    "\n",
    "![sudoku-grid.png](sudoku-grid.png)\n",
    "\n",
    "Did You Know?\n",
    "Sudoku fanatics have long claimed that the smallest number of starting clues a Sudoku puzzle can contain is 17. There are effectively numerous examples of grids with 17 clues that have a unique solution but we have never found a well-posed grid with only 16 clues. This suggests that the minimum number of clues to provide in a grid is 17.\n",
    "\n",
    "This key fact might be useful to help you solve this challenge more effectively.\n",
    "\n",
    "Sudoku Solver Algorithm\n",
    "\n",
    "Your Sudoku Generator algorithm may need to use a Sudoku Solver Algorithm in order to test whether a generated grid is solvable and to check that it only gives a single solution.\n",
    "The most common type of Sudoku Solver Algorithm is based on a backtracking algorithm used to investigate all possible solutions of a given grid.\n",
    "\n",
    "You can find an example of such an algorithm by investigating the code provided in this Python Challenge: Sudoku Solver using a Backtracking Algorithm\n",
    "\n",
    "Extension Task:\n",
    "\n",
    "Sudoku puzzles are often given a difficulty level such as “Beginner – Intermediate – Advanced – Expert”.\n",
    "How could your algorithm be adapted to estimate the difficulty level of a Sudoku grid?\n",
    "Should different algorithms be used to generate Sudoku grids for a specific difficulty level?"
   ]
  },
  {
   "cell_type": "markdown",
   "metadata": {},
   "source": [
    "### Exceptions Handling\n",
    "\n",
    "A very common use case for inheritance is the creation of a custom exception hierarchy. Because we use the class of an exception to determine whether it should be caught by a particular except block, it is useful for us to define custom classes for exceptions which we want to raise in our code. Using inheritance in our classes is useful because if an except block catches a particular exception class, it will also catch its child classes (because a child class is its parent class). That means that we can efficiently write except blocks which handle groups of related exceptions, just by arranging them in a logical hierarchy. Our exception classes should inherit from Python’s built-in exception classes. They often won’t need to contain any additional attributes or methods.\n",
    "\n",
    "Write a simple program which loops over a list of user data (tuples containing a username, email and age) and adds each user to a directory if the user is at least 16 years old. You do not need to store the age. Write a simple exception hierarchy which defines a different exception for each of these error conditions:\n",
    "\n",
    "the username is not unique\n",
    "the age is not a positive integer\n",
    "the user is under 16\n",
    "the email address is not valid (a simple check for a username, the @ symbol and a domain name is sufficient)\n",
    "Raise these exceptions in your program where appropriate. Whenever an exception occurs, your program should move onto the next set of data in the list. Print a different error message for each different kind of exception.\n",
    "\n",
    "Think about where else it would be a good idea to use a custom class, and what kind of collection type would be most appropriate for your directory.\n",
    "\n",
    "You can consider an email address to be valid if it contains one @ symbol and has a non-empty username and domain name – you don’t need to check for valid characters. You can assume that the age is already an integer value."
   ]
  },
  {
   "cell_type": "markdown",
   "metadata": {},
   "source": []
  }
 ],
 "metadata": {
  "language_info": {
   "name": "python"
  },
  "orig_nbformat": 4
 },
 "nbformat": 4,
 "nbformat_minor": 2
}
