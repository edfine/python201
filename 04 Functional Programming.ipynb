{
 "cells": [
  {
   "cell_type": "markdown",
   "metadata": {
    "slideshow": {
     "slide_type": "slide"
    }
   },
   "source": [
    "# Functional Programming"
   ]
  },
  {
   "cell_type": "markdown",
   "metadata": {
    "slideshow": {
     "slide_type": "subslide"
    }
   },
   "source": [
    "## Python Functions\n",
    "* functions are \"first class\" objects, i.e., a program entity that can be created at runtime\n",
    " * assigned to a variable or element in a data structure\n",
    " * passed as an argument to a function\n",
    " * returned as the result of a function"
   ]
  },
  {
   "cell_type": "code",
   "execution_count": null,
   "metadata": {
    "slideshow": {
     "slide_type": "subslide"
    }
   },
   "outputs": [],
   "source": [
    "def fact(n):\n",
    "    '''returns n!\n",
    "    '''\n",
    "    if n < 2:\n",
    "        return 1\n",
    "    else:\n",
    "        return n * fact(n - 1)\n",
    "    \n",
    "fact(3), fact(52)"
   ]
  },
  {
   "cell_type": "code",
   "execution_count": null,
   "metadata": {
    "tags": []
   },
   "outputs": [],
   "source": [
    "help(fact)"
   ]
  },
  {
   "cell_type": "code",
   "execution_count": null,
   "metadata": {},
   "outputs": [],
   "source": [
    "fact.__doc__"
   ]
  },
  {
   "cell_type": "code",
   "execution_count": null,
   "metadata": {},
   "outputs": [],
   "source": [
    "type(fact)"
   ]
  },
  {
   "cell_type": "code",
   "execution_count": null,
   "metadata": {},
   "outputs": [],
   "source": [
    "f = fact # let's take a look at www.pythontutor.com\n",
    "f"
   ]
  },
  {
   "cell_type": "code",
   "execution_count": null,
   "metadata": {},
   "outputs": [],
   "source": [
    "f(8)"
   ]
  },
  {
   "cell_type": "markdown",
   "metadata": {
    "slideshow": {
     "slide_type": "subslide"
    }
   },
   "source": [
    "## Lambda Functions\n",
    "* the __`lambda`__ keyword creates an *anonymous* function within a Python expression\n",
    "* body of __`lambda`__ functions limited to pure expressions, i.e.,\n",
    " * no assignments\n",
    " * no Python statements such as __`while`__, __`try`__, etc.\n",
    "* best use of __`lambda`__ is in the context of an argument list"
   ]
  },
  {
   "cell_type": "code",
   "execution_count": null,
   "metadata": {},
   "outputs": [],
   "source": [
    "fruits = ['strawberry', 'banana', 'fig', 'apple', 'cherry','kiwi']\n",
    "fruits"
   ]
  },
  {
   "cell_type": "code",
   "execution_count": null,
   "metadata": {},
   "outputs": [],
   "source": [
    "def backwards(word):\n",
    "    return word[::-1]\n",
    "\n",
    "backwards('Incredible Hulk')"
   ]
  },
  {
   "cell_type": "code",
   "execution_count": null,
   "metadata": {},
   "outputs": [],
   "source": [
    "sorted(fruits, key=backwards)"
   ]
  },
  {
   "cell_type": "code",
   "execution_count": null,
   "metadata": {
    "scrolled": true
   },
   "outputs": [],
   "source": [
    "sorted(fruits, key=lambda word: word[::-1])"
   ]
  },
  {
   "cell_type": "code",
   "execution_count": null,
   "metadata": {},
   "outputs": [],
   "source": [
    "# how about sorting the list of fruits by the slice \n",
    "# (no pun intended) which discards the first and last characters,\n",
    "# e.g., 'anan', 'ppl', etc.\n",
    "\n",
    "sorted(fruits, key=lambda w: w[1:-1])"
   ]
  },
  {
   "cell_type": "markdown",
   "metadata": {
    "slideshow": {
     "slide_type": "subslide"
    }
   },
   "source": [
    "## `map()`\n",
    "* takes a function as its first argument returns an iterable where each item is the result of applying the function to successive elements of the second argument (an iterable)"
   ]
  },
  {
   "cell_type": "code",
   "execution_count": null,
   "metadata": {},
   "outputs": [],
   "source": [
    "map(fact, range(9))"
   ]
  },
  {
   "cell_type": "code",
   "execution_count": null,
   "metadata": {},
   "outputs": [],
   "source": [
    "list(map(fact, range(9)))"
   ]
  },
  {
   "cell_type": "code",
   "execution_count": null,
   "metadata": {},
   "outputs": [],
   "source": [
    "# how about mapping '*' to a string?\n",
    "# or mapping '**' to numbers?\n",
    "list(map(lambda x: x * 2, 'Monte Python'))"
   ]
  },
  {
   "cell_type": "code",
   "execution_count": null,
   "metadata": {},
   "outputs": [],
   "source": [
    "list(map(lambda x: x ** 3, range(1, 10)))\n",
    "# [x ** 3 for x in range(1, 10)]"
   ]
  },
  {
   "cell_type": "markdown",
   "metadata": {
    "slideshow": {
     "slide_type": "subslide"
    }
   },
   "source": [
    "## Higher-Order Functions\n",
    "* a function that takes another function as an argument or returns a function as a result\n",
    " * __`map()`__ (as well as __`filter()`__ and __`reduce()`__)\n",
    " * __`sorted()`__–takes an optional key arg which lets you provide a function which is applied to each item for sorting"
   ]
  },
  {
   "cell_type": "code",
   "execution_count": null,
   "metadata": {},
   "outputs": [],
   "source": [
    "fruits = ['strawberry', 'banana', 'fig', 'apple', 'cherry', 'kiwi']\n",
    "sorted(fruits)"
   ]
  },
  {
   "cell_type": "code",
   "execution_count": null,
   "metadata": {
    "tags": []
   },
   "outputs": [],
   "source": [
    "print(id(len))\n",
    "sorted(fruits, key=len, reverse=True)"
   ]
  },
  {
   "cell_type": "markdown",
   "metadata": {
    "slideshow": {
     "slide_type": "subslide"
    }
   },
   "source": [
    "## filter\n",
    "* applies its first arg, a function, to its second argument"
   ]
  },
  {
   "cell_type": "code",
   "execution_count": null,
   "metadata": {
    "slideshow": {
     "slide_type": "-"
    }
   },
   "outputs": [],
   "source": [
    "list(range(6))"
   ]
  },
  {
   "cell_type": "code",
   "execution_count": null,
   "metadata": {},
   "outputs": [],
   "source": [
    "def odd(num):\n",
    "    return num % 2\n",
    "\n",
    "list(filter(odd, range(20)))"
   ]
  },
  {
   "cell_type": "code",
   "execution_count": null,
   "metadata": {},
   "outputs": [],
   "source": [
    "list(filter(lambda num: num % 2, range(20)))"
   ]
  },
  {
   "cell_type": "code",
   "execution_count": null,
   "metadata": {},
   "outputs": [],
   "source": [
    "# using filter and lambda, pull out all numbers\n",
    "# divisible by 3 from a list of random numbers\n",
    "mylist = [33, 35, -3, 20, 6, 9, 20]\n",
    "list(filter(lambda num: num % 3 == 0, mylist))"
   ]
  },
  {
   "cell_type": "markdown",
   "metadata": {
    "slideshow": {
     "slide_type": "slide"
    }
   },
   "source": [
    "# Lab: filter\n",
    "* use __`filter()`__ to identify all the words in a list which begin with a vowel\n",
    "* modify your code which displays the last 10 lines of a file using a __`deque`__ such that you only display the lines which contain a specific string, e.g., 'happy', or match a certain regex pattern, e.g., 'error.*5[012]'"
   ]
  },
  {
   "cell_type": "markdown",
   "metadata": {
    "slideshow": {
     "slide_type": "subslide"
    }
   },
   "source": [
    "## We can further combine functions..."
   ]
  },
  {
   "cell_type": "code",
   "execution_count": null,
   "metadata": {
    "slideshow": {
     "slide_type": "subslide"
    }
   },
   "outputs": [],
   "source": [
    "list(map(fact, filter(odd, range(12))))"
   ]
  },
  {
   "cell_type": "markdown",
   "metadata": {},
   "source": [
    "## The preceding would normally be done with a list comprehension..."
   ]
  },
  {
   "cell_type": "code",
   "execution_count": null,
   "metadata": {},
   "outputs": [],
   "source": [
    "[fact(num) for num in range(1, 12, 2)]"
   ]
  },
  {
   "cell_type": "markdown",
   "metadata": {},
   "source": [
    "## ...but you may run into stuff like the above in legacy code"
   ]
  },
  {
   "cell_type": "markdown",
   "metadata": {
    "slideshow": {
     "slide_type": "subslide"
    }
   },
   "source": [
    "## reduce()\n",
    "* produces a single aggregate result from a sequence of any finite iterable object\n",
    "* was built in to Python 2, but \"demoted\" to the __`functools`__ module in Python 3\n",
    "* most common use of __`reduce()`__, summation, is better served by the __`sum()`__ builtin\n",
    "* many examples of __`reduce()`__ are clearer when written as __`for`__ loops"
   ]
  },
  {
   "cell_type": "code",
   "execution_count": null,
   "metadata": {
    "tags": []
   },
   "outputs": [],
   "source": [
    "from operator import add\n",
    "help(add)"
   ]
  },
  {
   "cell_type": "code",
   "execution_count": null,
   "metadata": {},
   "outputs": [],
   "source": [
    "from functools import reduce # no need to import in Python 2\n",
    "from operator import add\n",
    "reduce(add, range(101))"
   ]
  },
  {
   "cell_type": "code",
   "execution_count": null,
   "metadata": {},
   "outputs": [],
   "source": [
    "sum(range(101))"
   ]
  },
  {
   "cell_type": "code",
   "execution_count": null,
   "metadata": {},
   "outputs": [],
   "source": [
    "%%python2\n",
    "print(range(101))\n",
    "# range(), xrange()"
   ]
  },
  {
   "cell_type": "code",
   "execution_count": null,
   "metadata": {},
   "outputs": [],
   "source": [
    "print(range(101))"
   ]
  },
  {
   "cell_type": "markdown",
   "metadata": {},
   "source": [
    "## Python's __`functools`__ module\n",
    "* contains tools which  act on _higher-order functions_"
   ]
  },
  {
   "cell_type": "markdown",
   "metadata": {},
   "source": [
    "## If you have a function which needs to remember its results, rather than compute them each time..."
   ]
  },
  {
   "cell_type": "code",
   "execution_count": null,
   "metadata": {},
   "outputs": [],
   "source": [
    "from functools import lru_cache\n",
    "\n",
    "@lru_cache(maxsize=None)\n",
    "def fact(n):\n",
    "    '''returns n!\n",
    "    '''\n",
    "    if n < 2:\n",
    "        return 1\n",
    "    else:\n",
    "        return n * fact(n - 1)\n",
    "    \n",
    "fact_list = [fact(n) for n in range (25)]\n",
    "fact.cache_info()"
   ]
  },
  {
   "cell_type": "markdown",
   "metadata": {},
   "source": [
    "## Or what if you want to _freeze_ some of a functions arguments in order to make a simplified version..."
   ]
  },
  {
   "cell_type": "code",
   "execution_count": null,
   "metadata": {},
   "outputs": [],
   "source": [
    "from functools import partial\n",
    "\n",
    "basetwo = partial(int, base=2)\n",
    "basetwo.__doc__ = 'Convert base 2 string to an int.'\n",
    "basetwo('10010')"
   ]
  },
  {
   "cell_type": "code",
   "execution_count": null,
   "metadata": {},
   "outputs": [],
   "source": [
    "basetwo.__doc__"
   ]
  },
  {
   "cell_type": "code",
   "execution_count": null,
   "metadata": {
    "tags": []
   },
   "outputs": [],
   "source": [
    "import math\n",
    "help(math.log2)"
   ]
  },
  {
   "cell_type": "code",
   "execution_count": null,
   "metadata": {},
   "outputs": [],
   "source": [
    "math.log()"
   ]
  },
  {
   "cell_type": "markdown",
   "metadata": {},
   "source": [
    "## Lab: Partials\n",
    "* create a __`print_no_nl()`__ function which allows you to print something without a trailing newline, without having to specify __`end=''`__\n",
    "* also make a __`print_no_sp()`__ without having to specify __`sep=''`__\n",
    "* how about a __`sorted_r()`__ function for reverse sorting?"
   ]
  },
  {
   "cell_type": "code",
   "execution_count": null,
   "metadata": {},
   "outputs": [],
   "source": []
  }
 ],
 "metadata": {
  "celltoolbar": "Slideshow",
  "kernelspec": {
   "name": "python390jvsc74a57bd0e3058198972756bd0e79ad61c52cda810b0e121f2a8a2982a0b69af47a922b39",
   "display_name": "Python 3.9.0 64-bit ('deep_discovery': conda)"
  },
  "language_info": {
   "codemirror_mode": {
    "name": "ipython",
    "version": 3
   },
   "file_extension": ".py",
   "mimetype": "text/x-python",
   "name": "python",
   "nbconvert_exporter": "python",
   "pygments_lexer": "ipython3",
   "version": "3.9.0"
  }
 },
 "nbformat": 4,
 "nbformat_minor": 1
}