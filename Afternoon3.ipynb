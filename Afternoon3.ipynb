{
 "cells": [
  {
   "cell_type": "markdown",
   "metadata": {},
   "source": [
    "# Welcome to Afternoon 3 For Intermediate Python 201"
   ]
  },
  {
   "cell_type": "markdown",
   "metadata": {},
   "source": [
    "### As usual, choose the projects that help you get the most relevant learning."
   ]
  },
  {
   "cell_type": "markdown",
   "metadata": {},
   "source": [
    "0. Review the labs from functional programming."
   ]
  },
  {
   "cell_type": "markdown",
   "metadata": {},
   "source": [
    "1. There are lots of uses for decorators.  Can you build these?\n",
    "\n",
    "\n",
    "Timing: in our example we made a very simple timer.  How can you make a more accurate timer?  What could you do to get better estimates?\n",
    "\n",
    "\n",
    "Logging -using logger (if you know that package)\n",
    "\n",
    "\n",
    "Implement memoizing collections with variants of the lru_cache.  Try time expiring or make one that has a max number of elements.\n",
    "\n",
    "\n",
    "Make a simple log in service and then make a logout ddecorator that automatically logs you out.\n",
    "\n",
    "\n",
    "If you use AWS or another cloud type service, make a decorator that automatically cleans up after a certain amount of time.\n",
    "\n",
    "\n",
    "Find another decorator for you work and have your group build a prototype."
   ]
  },
  {
   "cell_type": "markdown",
   "metadata": {},
   "source": [
    "2. Do the class methods lab and any other labs that you did not complete."
   ]
  },
  {
   "cell_type": "markdown",
   "metadata": {},
   "source": [
    "3. Click is a useful package for making fancy command line functions with minimal code. https://click.palletsprojects.com/en/7.x/\n",
    "\n",
    "Make a command line tool that uses click and its decorators to do one of the following:\n",
    "\n",
    "a. run your appointment checking engine\n",
    "\n",
    "b. run a python script that you sometimes use for work\n",
    "\n",
    "c. read a csv file and write it out as an Excel file"
   ]
  },
  {
   "cell_type": "markdown",
   "metadata": {},
   "source": [
    "4. We previously used python to connect to a web site and parse requests.  Now can you use python to connect to a work system.  If you have a cloud account such as AWS, log on using the boto package and upload a file to S3.  Then read it back. \n",
    "\n",
    "Now make a decorator that modifies your reader function to print out metadata about the file.  "
   ]
  },
  {
   "cell_type": "code",
   "execution_count": null,
   "metadata": {},
   "outputs": [],
   "source": []
  }
 ],
 "metadata": {
  "kernelspec": {
   "display_name": "Python 3",
   "language": "python",
   "name": "python3"
  },
  "language_info": {
   "codemirror_mode": {
    "name": "ipython",
    "version": 3
   },
   "file_extension": ".py",
   "mimetype": "text/x-python",
   "name": "python",
   "nbconvert_exporter": "python",
   "pygments_lexer": "ipython3",
   "version": "3.8.5"
  }
 },
 "nbformat": 4,
 "nbformat_minor": 4
}