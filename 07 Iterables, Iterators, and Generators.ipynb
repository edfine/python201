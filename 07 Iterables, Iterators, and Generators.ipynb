{
 "cells": [
  {
   "cell_type": "markdown",
   "metadata": {
    "slideshow": {
     "slide_type": "slide"
    }
   },
   "source": [
    "# Iterables vs. Iterators vs. Generators "
   ]
  },
  {
   "cell_type": "markdown",
   "metadata": {
    "slideshow": {
     "slide_type": "subslide"
    }
   },
   "source": [
    "## Let's explore the differences between...\n",
    "* a container\n",
    "* an iterable\n",
    "* an iterator\n",
    "* a generator\n",
    "* a generator expression\n",
    "* a {list, set, dict} comprehension\n"
   ]
  },
  {
   "cell_type": "markdown",
   "metadata": {
    "slideshow": {
     "slide_type": "subslide"
    }
   },
   "source": [
    "![alt-text](relationships.png)"
   ]
  },
  {
   "cell_type": "markdown",
   "metadata": {
    "slideshow": {
     "slide_type": "subslide"
    }
   },
   "source": [
    "## Containers \n",
    "* data structures which hold elements\n",
    "* support membership tests\n",
    "* live in memory\n",
    "* typically hold all their values in memory\n",
    "* e.g., string, list, tuple, set, dict\n",
    "* an object is a container when it can be asked whether it _contains_ a certain element"
   ]
  },
  {
   "cell_type": "code",
   "execution_count": 1,
   "metadata": {},
   "outputs": [
    {
     "output_type": "execute_result",
     "data": {
      "text/plain": [
       "(True, False)"
      ]
     },
     "metadata": {},
     "execution_count": 1
    }
   ],
   "source": [
    "1 in [1, 2, 3], 0 in [1, 2, 3]"
   ]
  },
  {
   "cell_type": "code",
   "execution_count": 2,
   "metadata": {},
   "outputs": [
    {
     "output_type": "execute_result",
     "data": {
      "text/plain": [
       "(True, False)"
      ]
     },
     "metadata": {},
     "execution_count": 2
    }
   ],
   "source": [
    "4 in {4, 5, 6}, 1 in {4, 5, 6}"
   ]
  },
  {
   "cell_type": "code",
   "execution_count": 3,
   "metadata": {},
   "outputs": [
    {
     "output_type": "execute_result",
     "data": {
      "text/plain": [
       "True"
      ]
     },
     "metadata": {},
     "execution_count": 3
    }
   ],
   "source": [
    "44 in ('Obama', 'Barack', 44, 2008, 'left')"
   ]
  },
  {
   "cell_type": "code",
   "execution_count": 4,
   "metadata": {},
   "outputs": [
    {
     "output_type": "execute_result",
     "data": {
      "text/plain": [
       "(True, False)"
      ]
     },
     "metadata": {},
     "execution_count": 4
    }
   ],
   "source": [
    "# for dicts, membership checks the keys, not the values\n",
    "44 in { 43: 'Bush', 44: 'Obama'}, 'Bush' in { 43: 'Bush', 44: 'Obama' }"
   ]
  },
  {
   "cell_type": "code",
   "execution_count": 5,
   "metadata": {},
   "outputs": [
    {
     "output_type": "execute_result",
     "data": {
      "text/plain": [
       "(True, True, True)"
      ]
     },
     "metadata": {},
     "execution_count": 5
    }
   ],
   "source": [
    "'J' in 'Steve Jobs', 'Job' in 'Steve Jobs', 'Jobs' not in 'Carlos Jobim'"
   ]
  },
  {
   "cell_type": "markdown",
   "metadata": {
    "slideshow": {
     "slide_type": "subslide"
    }
   },
   "source": [
    "## Iterables\n",
    "* any object, not necessarily a data structure, that can return an iterator (with the purpose of returning all of its elements)\n",
    "* the `__iter__()` function returns an iterator\n",
    "    * ...therefore, any object which has the `__iter__()` method is an iterable\n",
    "* most containers are also iterable\n",
    "* many more things are iterable as well (e.g., open files, open sockets, etc.)"
   ]
  },
  {
   "cell_type": "code",
   "execution_count": 6,
   "metadata": {
    "tags": []
   },
   "outputs": [
    {
     "output_type": "stream",
     "name": "stdout",
     "text": [
      "<class 'list_iterator'>\n<class 'list_iterator'>\n"
     ]
    },
    {
     "output_type": "execute_result",
     "data": {
      "text/plain": [
       "1"
      ]
     },
     "metadata": {},
     "execution_count": 6
    }
   ],
   "source": [
    "mylist = [1, 2, 3]\n",
    "iter1 = iter(mylist)\n",
    "print(type(iter1))\n",
    "iter2 = mylist.__iter__() # iter() maps to __iter__()\n",
    "print(type(iter2))\n",
    "next(iter1)"
   ]
  },
  {
   "cell_type": "code",
   "execution_count": 7,
   "metadata": {},
   "outputs": [
    {
     "output_type": "execute_result",
     "data": {
      "text/plain": [
       "2"
      ]
     },
     "metadata": {},
     "execution_count": 7
    }
   ],
   "source": [
    "iter1.__next__() # next() maps to __next__()\n",
    "#next(iter1)"
   ]
  },
  {
   "cell_type": "code",
   "execution_count": 8,
   "metadata": {},
   "outputs": [
    {
     "output_type": "execute_result",
     "data": {
      "text/plain": [
       "3"
      ]
     },
     "metadata": {},
     "execution_count": 8
    }
   ],
   "source": [
    "next(iter1)"
   ]
  },
  {
   "cell_type": "code",
   "execution_count": 9,
   "metadata": {},
   "outputs": [
    {
     "output_type": "error",
     "ename": "StopIteration",
     "evalue": "",
     "traceback": [
      "\u001b[0;31m---------------------------------------------------------------------------\u001b[0m",
      "\u001b[0;31mStopIteration\u001b[0m                             Traceback (most recent call last)",
      "\u001b[0;32m<ipython-input-9-8c8f0eabcd70>\u001b[0m in \u001b[0;36m<module>\u001b[0;34m\u001b[0m\n\u001b[0;32m----> 1\u001b[0;31m \u001b[0mnext\u001b[0m\u001b[0;34m(\u001b[0m\u001b[0miter1\u001b[0m\u001b[0;34m)\u001b[0m\u001b[0;34m\u001b[0m\u001b[0;34m\u001b[0m\u001b[0m\n\u001b[0m",
      "\u001b[0;31mStopIteration\u001b[0m: "
     ]
    }
   ],
   "source": [
    "next(iter1)"
   ]
  },
  {
   "cell_type": "code",
   "execution_count": 10,
   "metadata": {},
   "outputs": [
    {
     "output_type": "execute_result",
     "data": {
      "text/plain": [
       "1"
      ]
     },
     "metadata": {},
     "execution_count": 10
    }
   ],
   "source": [
    "next(iter2)"
   ]
  },
  {
   "cell_type": "code",
   "execution_count": 11,
   "metadata": {},
   "outputs": [
    {
     "output_type": "execute_result",
     "data": {
      "text/plain": [
       "(list, list_iterator, list_iterator)"
      ]
     },
     "metadata": {},
     "execution_count": 11
    }
   ],
   "source": [
    "type(mylist), type(iter1), type(iter2)"
   ]
  },
  {
   "cell_type": "code",
   "execution_count": 12,
   "metadata": {},
   "outputs": [
    {
     "output_type": "error",
     "ename": "TypeError",
     "evalue": "'list' object is not an iterator",
     "traceback": [
      "\u001b[0;31m---------------------------------------------------------------------------\u001b[0m",
      "\u001b[0;31mTypeError\u001b[0m                                 Traceback (most recent call last)",
      "\u001b[0;32m<ipython-input-12-9ec95e8f86d8>\u001b[0m in \u001b[0;36m<module>\u001b[0;34m\u001b[0m\n\u001b[1;32m      1\u001b[0m \u001b[0;31m# a list is iterable, but it is not its own iterator\u001b[0m\u001b[0;34m\u001b[0m\u001b[0;34m\u001b[0m\u001b[0;34m\u001b[0m\u001b[0m\n\u001b[0;32m----> 2\u001b[0;31m \u001b[0mnext\u001b[0m\u001b[0;34m(\u001b[0m\u001b[0mmylist\u001b[0m\u001b[0;34m)\u001b[0m\u001b[0;34m\u001b[0m\u001b[0;34m\u001b[0m\u001b[0m\n\u001b[0m",
      "\u001b[0;31mTypeError\u001b[0m: 'list' object is not an iterator"
     ]
    }
   ],
   "source": [
    "# a list is iterable, but it is not its own iterator\n",
    "next(mylist)"
   ]
  },
  {
   "cell_type": "code",
   "execution_count": 13,
   "metadata": {},
   "outputs": [
    {
     "output_type": "execute_result",
     "data": {
      "text/plain": [
       "False"
      ]
     },
     "metadata": {},
     "execution_count": 13
    }
   ],
   "source": [
    "iter(mylist) is mylist"
   ]
  },
  {
   "cell_type": "code",
   "execution_count": 16,
   "metadata": {
    "tags": []
   },
   "outputs": [
    {
     "output_type": "stream",
     "name": "stdout",
     "text": [
      "7fb0e67a4280 7fb0e6799fd0\n"
     ]
    }
   ],
   "source": [
    "mylistiter = iter(mylist)\n",
    "print('%x %x' % (id(mylist), id(mylistiter)))"
   ]
  },
  {
   "cell_type": "code",
   "execution_count": 17,
   "metadata": {},
   "outputs": [
    {
     "output_type": "execute_result",
     "data": {
      "text/plain": [
       "True"
      ]
     },
     "metadata": {},
     "execution_count": 17
    }
   ],
   "source": [
    "iter(mylistiter) is mylistiter"
   ]
  },
  {
   "cell_type": "markdown",
   "metadata": {
    "slideshow": {
     "slide_type": "subslide"
    }
   },
   "source": [
    "## When we write...\n",
    "`mylist = [1, 2, 3]\n",
    "for x in mylist:\n",
    "    ...`\n",
    "## ...this is what happens"
   ]
  },
  {
   "cell_type": "markdown",
   "metadata": {},
   "source": [
    "![alt-text](iterable.png \"iterable\")"
   ]
  },
  {
   "cell_type": "markdown",
   "metadata": {},
   "source": [
    "## We can see this by disassembling the Python code..."
   ]
  },
  {
   "cell_type": "code",
   "execution_count": 18,
   "metadata": {
    "tags": []
   },
   "outputs": [
    {
     "output_type": "stream",
     "name": "stdout",
     "text": [
      "  1           0 SETUP_LOOP              20 (to 22)\n              2 LOAD_NAME                0 (mylist)\n              4 GET_ITER\n        >>    6 FOR_ITER                12 (to 20)\n              8 STORE_NAME               1 (item)\n             10 LOAD_NAME                2 (total)\n             12 LOAD_NAME                1 (item)\n             14 INPLACE_ADD\n             16 STORE_NAME               2 (total)\n             18 JUMP_ABSOLUTE            6\n        >>   20 POP_BLOCK\n        >>   22 LOAD_CONST               0 (None)\n             24 RETURN_VALUE\n"
     ]
    }
   ],
   "source": [
    "import dis\n",
    "mylist = [1, 2, 3]\n",
    "total = 0\n",
    "dis.dis('for item in mylist: total += item')"
   ]
  },
  {
   "cell_type": "markdown",
   "metadata": {
    "slideshow": {
     "slide_type": "subslide"
    }
   },
   "source": [
    "## So what is an iterator?\n",
    "* a stateful object that produces the next value when you call __`next()`__ on it\n",
    "* any object that has a __\\_\\_`next`\\_\\_()__ method is therefore an iterator\n",
    "* how it produces a value is irrelevant\n",
    "* in other words, an iterator is a value factory\n",
    " * each time you ask it for \"the next\" value, it knows how to compute it because it holds internal state"
   ]
  },
  {
   "cell_type": "code",
   "execution_count": 19,
   "metadata": {
    "tags": []
   },
   "outputs": [
    {
     "output_type": "stream",
     "name": "stdout",
     "text": [
      "13 46 -3 Go! Stop!\n"
     ]
    }
   ],
   "source": [
    "# let's see how an iterator works...\n",
    "mylist = [13, 46, -3, 'Go!']\n",
    "myiter = iter(mylist) # get the list iterator\n",
    "\n",
    "try:\n",
    "    while True:\n",
    "        val = next(myiter)\n",
    "        print(val, end=' ')\n",
    "except StopIteration:\n",
    "    print('Stop!')"
   ]
  },
  {
   "cell_type": "markdown",
   "metadata": {
    "slideshow": {
     "slide_type": "subslide"
    }
   },
   "source": [
    "## Let's build our own iterator!"
   ]
  },
  {
   "cell_type": "code",
   "execution_count": 20,
   "metadata": {
    "tags": []
   },
   "outputs": [
    {
     "output_type": "stream",
     "name": "stdout",
     "text": [
      "1 1 before the for loop\n2 3 5 8 13 21 34 55 89 144 233 377 610 987 "
     ]
    }
   ],
   "source": [
    "class Fibonacci():\n",
    "    def __init__(self):\n",
    "        self.prev = 0\n",
    "        self.curr = 1\n",
    "\n",
    "    def __iter__(self):\n",
    "        return self\n",
    "\n",
    "    def __next__(self):\n",
    "        \"\"\" \n",
    "        each call to next() does two important things:\n",
    "\n",
    "        1. modify its state for the subsequent next() call\n",
    "        2. produces a result for the current call\n",
    "        \"\"\"\n",
    "        value = self.curr\n",
    "        self.curr += self.prev\n",
    "        self.prev = value\n",
    "        if value > 1000:\n",
    "            raise StopIteration\n",
    "        return value\n",
    "\n",
    "# Note that this class is both an iterable due to __iter__()\n",
    "# method and its own iterator, due to __next__() method!\n",
    "\n",
    "f = Fibonacci()\n",
    "print(next(f), next(f), 'before the for loop')\n",
    "\n",
    "for num in f:\n",
    "    print(num, end=' ')"
   ]
  },
  {
   "cell_type": "code",
   "execution_count": null,
   "metadata": {},
   "outputs": [],
   "source": [
    "fib = Fibonacci()\n",
    "for num in fib:\n",
    "    print(num, end=' ')"
   ]
  },
  {
   "cell_type": "markdown",
   "metadata": {},
   "source": [
    "## Lab: Iterators\n",
    "\n",
    "Write your own iterator class which takes an iterable and each time it's invoked, it returns a *random* element. The iterator should stop (i.e., __`raise`__ the __`StopIteration`__ exception) when it has returned all elements of the iterable.\n",
    "\n",
    "Example: __`MyRandomIterator([1, 2, 3])`__ might return\n",
    "\n",
    "`\n",
    "2\n",
    "3\n",
    "1\n",
    "...then raise StopIteration`"
   ]
  },
  {
   "cell_type": "code",
   "execution_count": 36,
   "metadata": {},
   "outputs": [
    {
     "output_type": "execute_result",
     "data": {
      "text/plain": [
       "3"
      ]
     },
     "metadata": {},
     "execution_count": 36
    }
   ],
   "source": [
    "from random import random\n",
    "[1,2,3].pop()\n"
   ]
  },
  {
   "cell_type": "markdown",
   "metadata": {
    "slideshow": {
     "slide_type": "subslide"
    }
   },
   "source": [
    "## Generators\n",
    "* a generator allows you to write iterators much like the Fibonacci iterator above but in an elegant, succinct syntax that avoids writing classes with __\\_\\_`iter`\\_\\_`()`__ and __\\_\\_`next`\\_\\_`()`__ methods\n",
    "* every generator is an iterator (but not vice versa!) \n",
    "* a generator is a factory that lazily produces values\n",
    "* two types: generator _functions_ and generator _expressions_"
   ]
  },
  {
   "cell_type": "markdown",
   "metadata": {},
   "source": [
    "## The `yield` statement\n",
    "* before we jump into generators, let's take an in-depth look at what makes them possible...\n",
    "* when a normal Python function is invoked, execution starts at the first line and continues until a `return` statement is encountered or an exception is thrown (remember that \"falling off the end of the function\" is the same as if we had written __`return None`__)\n",
    "    * once a function returns, that's it–any work done by the function and stored in local variables is lost\n",
    "    * the next call to the function starts everything anew\n",
    "* there are times when we'd like to have a \"function\" which yields a series of values, i.e., it would have to save its state to that the next time it's invoked, it picks up where it left off\n",
    "    * we use the term \"yield\" here because in fact we are *not returning* to the caller i.e., we are not returning control of execution to the point where the function was called\n",
    "    * instead of __`return`__-ing, we are __`yield`__-ing, which implies that the transfer of control is temporary and voluntary–our function expects to regain control in the future\n",
    "* functions that use __`yield`__ instead of __`return`__ are generator functions (or *coroutines* in other languages)\n",
    "* think of __`yield`__ as __`return`__ + \"some magic\" for generator functions"
   ]
  },
  {
   "cell_type": "markdown",
   "metadata": {
    "slideshow": {
     "slide_type": "subslide"
    }
   },
   "source": [
    "### So what's the magic?\n",
    "* when __`yield`__ is called the state of the generator function is recorded\n",
    "    * the value of all variables are saved\n",
    "    * the next line of code to be executed is also saved\n",
    "    * i.e., the function simply resumes where it left off"
   ]
  },
  {
   "cell_type": "code",
   "execution_count": 21,
   "metadata": {
    "slideshow": {
     "slide_type": "subslide"
    }
   },
   "outputs": [
    {
     "output_type": "stream",
     "name": "stdout",
     "text": [
      "1\nboo!\n3\n"
     ]
    }
   ],
   "source": [
    "def simple_generator():\n",
    "    yield 1\n",
    "    yield 'boo!'\n",
    "    yield 3\n",
    "    \n",
    "for value in simple_generator():\n",
    "    print(value)"
   ]
  },
  {
   "cell_type": "code",
   "execution_count": 25,
   "metadata": {},
   "outputs": [
    {
     "output_type": "execute_result",
     "data": {
      "text/plain": [
       "'boo!'"
      ]
     },
     "metadata": {},
     "execution_count": 25
    }
   ],
   "source": [
    "aaa = simple_generator()\n",
    "next(aaa)\n",
    "next(aaa)"
   ]
  },
  {
   "cell_type": "code",
   "execution_count": 24,
   "metadata": {},
   "outputs": [
    {
     "output_type": "execute_result",
     "data": {
      "text/plain": [
       "1"
      ]
     },
     "metadata": {},
     "execution_count": 24
    }
   ],
   "source": [
    "next(simple_generator())"
   ]
  },
  {
   "cell_type": "markdown",
   "metadata": {
    "slideshow": {
     "slide_type": "subslide"
    }
   },
   "source": [
    "## Why do we need generator functions?\n",
    "* initially they gave programmers an easy way to write code that produced a series of values\n",
    "    * without generator functions, writing something like a random number generator required a class or module that both generated values and kept track of state between calls\n",
    "    * with generator functions, doing the above is greatly simplified\n",
    "* suppose we want a function which, given a list of numbers, returns a list of those numbers which are prime\n",
    "    * straighforward...\n",
    "    \n",
    "             def get_primes(nums):\n",
    "                 return ([num for num in nums if is_prime(num)])\n",
    "\n",
    "* now suppose we want to use the above function for very large lists of numbers...so large, in fact, that they won't fit in memory\n",
    "    * so now we want the function to take a starting value, and return all the primes that are greater than that value\n",
    "    * since functions only return once, they only have one \"chance\" to return a value (or list of values)\n",
    "    * what if our function could return the *next* value, rather than a list?\n",
    "        * we wouldn't need to create a list at all!"
   ]
  },
  {
   "cell_type": "markdown",
   "metadata": {
    "slideshow": {
     "slide_type": "subslide"
    }
   },
   "source": [
    "## What is a generator function?\n",
    "* defined like a normal function, but whenever it needs to generate a value, it does so with the __`yield`__ keyword rather than __`return`__\n",
    "    * if the body of a def contains __`yield`__, the function automatically becomes a generator function (even if it also has a __`return`__ statement)\n",
    "    * ...there's nothing else we need to do to create one\n",
    "* generator functions create *generator iterators* (or simply, a *generator*)\n",
    "    * a generator is a special type of iterator (meaning it has a __\\_\\_`next`\\_\\_`()`__ function)\n",
    "    * to get the next value from a generator, we use the same built-in function as for iterators: __`next()`__\n",
    "* let's return to the more basic notion of a generator function..."
   ]
  },
  {
   "cell_type": "markdown",
   "metadata": {},
   "source": [
    "### Now we can rewrite our `get_primes()` function as a generator...\n",
    "\n",
    "    def get_primes(num):\n",
    "        while True:\n",
    "            if is_prime(num):\n",
    "                yield num\n",
    "            num += 1\n",
    "            \n",
    "* note that if a generator function calls return (or simply hits the end of the function), then a __`StopIteration`__ exception is raised, signaling the generator is exhausted (just as an iterator does)"
   ]
  },
  {
   "cell_type": "code",
   "execution_count": 34,
   "metadata": {
    "slideshow": {
     "slide_type": "subslide"
    }
   },
   "outputs": [
    {
     "output_type": "stream",
     "name": "stdout",
     "text": [
      "1\n1\nbefore the for loop\n2 3 5 8 13 21 34 55 89 144 233 377 610 987 1597 2584 4181 6765 10946 17711 28657 46368 75025 121393 196418 317811 514229 832040 1346269 2178309 3524578 5702887 9227465 14930352 24157817 39088169 "
     ]
    }
   ],
   "source": [
    "def fibonacci():\n",
    "    '''\n",
    "    defined as a normal function, but...\n",
    "    ...no return keyword\n",
    "    \n",
    "    The yield keyword returns a value, but the function retains its state\n",
    "    '''\n",
    "    prev, curr = 0, 1\n",
    "    while True:\n",
    "        yield curr\n",
    "        prev, curr = curr, prev + curr\n",
    "        \n",
    "f = fibonacci()\n",
    "print(next(f), next(f), 'before the for loop', sep='\\n')\n",
    "\n",
    "import random\n",
    "\n",
    "for num in range(0, random.randint(10, 100)):\n",
    "    val = next(f)\n",
    "    print(val, end=' ')"
   ]
  },
  {
   "cell_type": "code",
   "execution_count": 35,
   "metadata": {},
   "outputs": [
    {
     "output_type": "execute_result",
     "data": {
      "text/plain": [
       "<generator object fibonacci at 0x7fb0e9712dd0>"
      ]
     },
     "metadata": {},
     "execution_count": 35
    }
   ],
   "source": [
    "f"
   ]
  },
  {
   "cell_type": "markdown",
   "metadata": {
    "slideshow": {
     "slide_type": "subslide"
    }
   },
   "source": [
    "## PEP-342: sending values into generators\n",
    "* PEP-342 added support for passing values *into* generators using the `send()` function\n",
    "* let's go back to the prime number example but instead of simply printing every prime number greater than some number, we'll find the smallest prime number greater than successive powers of a number (i.e. for 10, we want the smallest prime greater than 10, then 100, then 1000, etc.)\n",
    "\n",
    "        def get_primes(num):\n",
    "            while True:\n",
    "                if is_prime(num):\n",
    "                    num = yield num \n",
    "                num += 1\n",
    "                \n",
    "* the `yield` line now says __\"yield num, and when a value is sent to me, set num to that value\"__\n",
    "* and we can print the next prime greater than 10, 100, 1000, as follows:\n",
    "\n",
    "        def print_successive_primes(iterations, base=10):\n",
    "            prime_generator = get_primes(base)\n",
    "            prime_generator.send(None)\n",
    "            for power in range(iterations):\n",
    "                print(prime_generator.send(base ** power))\n",
    "                \n",
    "* printing __`generator.send()`__ is possible because __`send`__ both sends a value to the generator and returns the value yielded by the generator\n",
    "* note that the first time we send a value into a generator, it must be __`None`__"
   ]
  },
  {
   "cell_type": "markdown",
   "metadata": {
    "slideshow": {
     "slide_type": "subslide"
    }
   },
   "source": [
    "## Now let's look at a generator _expression_\n",
    "* generator equivalent of a list comprehension"
   ]
  },
  {
   "cell_type": "code",
   "execution_count": 27,
   "metadata": {
    "slideshow": {
     "slide_type": "subslide"
    }
   },
   "outputs": [
    {
     "output_type": "execute_result",
     "data": {
      "text/plain": [
       "[1, 4, 9, 16, 25, 36, 49, 64, 81, 100]"
      ]
     },
     "metadata": {},
     "execution_count": 27
    }
   ],
   "source": [
    "squares = [num * num for num in range(1, 11)] # list comprehension\n",
    "squares"
   ]
  },
  {
   "cell_type": "code",
   "execution_count": 28,
   "metadata": {},
   "outputs": [
    {
     "output_type": "execute_result",
     "data": {
      "text/plain": [
       "{1, 4, 9, 16, 25, 36, 49, 64, 81, 100}"
      ]
     },
     "metadata": {},
     "execution_count": 28
    }
   ],
   "source": [
    "squares = {num * num for num in range(1, 11)} # set comprehension\n",
    "squares"
   ]
  },
  {
   "cell_type": "code",
   "execution_count": 29,
   "metadata": {},
   "outputs": [
    {
     "output_type": "execute_result",
     "data": {
      "text/plain": [
       "{1: 1, 2: 4, 3: 9, 4: 16, 5: 25, 6: 36, 7: 49, 8: 64, 9: 81, 10: 100}"
      ]
     },
     "metadata": {},
     "execution_count": 29
    }
   ],
   "source": [
    "squares = {num: num * num for num in range(1, 11)} # dict comprehension\n",
    "squares"
   ]
  },
  {
   "cell_type": "code",
   "execution_count": 30,
   "metadata": {},
   "outputs": [
    {
     "output_type": "execute_result",
     "data": {
      "text/plain": [
       "<generator object <genexpr> at 0x7fb0e672d350>"
      ]
     },
     "metadata": {},
     "execution_count": 30
    }
   ],
   "source": [
    "squares = (num * num for num in range(1, 11)) # generator expression (NOT a 'tuple comprehension')\n",
    "squares"
   ]
  },
  {
   "cell_type": "code",
   "execution_count": 31,
   "metadata": {},
   "outputs": [
    {
     "output_type": "execute_result",
     "data": {
      "text/plain": [
       "(1, 4)"
      ]
     },
     "metadata": {},
     "execution_count": 31
    }
   ],
   "source": [
    "next(squares), next(squares)"
   ]
  },
  {
   "cell_type": "code",
   "execution_count": 31,
   "metadata": {},
   "outputs": [
    {
     "output_type": "execute_result",
     "data": {
      "text/plain": [
       "[9, 16, 25, 36, 49, 64, 81, 100]"
      ]
     },
     "metadata": {},
     "execution_count": 31
    }
   ],
   "source": [
    "list(squares) # for thing in squares: print(thing)"
   ]
  },
  {
   "cell_type": "markdown",
   "metadata": {
    "slideshow": {
     "slide_type": "subslide"
    }
   },
   "source": [
    "## Lab: Generators\n",
    "* modify your random iterator to be a generator function"
   ]
  },
  {
   "cell_type": "markdown",
   "metadata": {
    "slideshow": {
     "slide_type": "subslide"
    }
   },
   "source": [
    "## __`itertools`__\n",
    "* module of functions for efficient looping\n",
    "* all of its functions return iterators\n",
    "* some produce finite sequences\n",
    "* others produce infinite sequences"
   ]
  },
  {
   "cell_type": "code",
   "execution_count": 32,
   "metadata": {},
   "outputs": [
    {
     "output_type": "stream",
     "name": "stdout",
     "text": [
      "a => apple\nb => banana\nc => cherry\nd => ***\n"
     ]
    }
   ],
   "source": [
    "from itertools import zip_longest\n",
    "list1 = ['a', 'b', 'c', 'd']\n",
    "list2 = ['apple', 'banana', 'cherry']\n",
    "\n",
    "for item1, item2 in zip_longest(list1, list2, fillvalue='***'):\n",
    "    print(item1, '=>', item2)"
   ]
  },
  {
   "cell_type": "code",
   "execution_count": 33,
   "metadata": {},
   "outputs": [
    {
     "output_type": "stream",
     "name": "stdout",
     "text": [
      "789\n790\n791\n792\n793\n794\n795\n796\n797\n798\n"
     ]
    }
   ],
   "source": [
    "from itertools import count\n",
    "counter = count(start=789)\n",
    "for _ in range(10):\n",
    "    print(next(counter))"
   ]
  },
  {
   "cell_type": "code",
   "execution_count": 34,
   "metadata": {},
   "outputs": [
    {
     "output_type": "stream",
     "name": "stdout",
     "text": [
      "1\n1.25\n1.5\n1.75\n2.0\n2.25\n2.5\n2.75\n3.0\n3.25\n"
     ]
    }
   ],
   "source": [
    "from itertools import count\n",
    "\n",
    "counter = count(1, 0.25)\n",
    "for _ in range(10):\n",
    "    print(next(counter))"
   ]
  },
  {
   "cell_type": "code",
   "execution_count": 35,
   "metadata": {},
   "outputs": [
    {
     "output_type": "stream",
     "name": "stdout",
     "text": [
      "S M L S M L S M L S M L S M L S M L S M L "
     ]
    }
   ],
   "source": [
    "from itertools import cycle\n",
    "sizes = ['S', 'M', 'L']\n",
    "sc = cycle(sizes)\n",
    "#next(sc), next(sc), next(sc), next(sc), next(sc)\n",
    "for num in range(1, 22):\n",
    "    print(next(sc), end=' ')"
   ]
  },
  {
   "cell_type": "code",
   "execution_count": 36,
   "metadata": {},
   "outputs": [
    {
     "output_type": "execute_result",
     "data": {
      "text/plain": [
       "[20365011074,\n",
       " 32951280099,\n",
       " 53316291173,\n",
       " 86267571272,\n",
       " 139583862445,\n",
       " 225851433717,\n",
       " 365435296162,\n",
       " 591286729879,\n",
       " 956722026041,\n",
       " 1548008755920]"
      ]
     },
     "metadata": {},
     "execution_count": 36
    }
   ],
   "source": [
    "from itertools import islice\n",
    "list(islice(fibonacci(), 50, 60))"
   ]
  },
  {
   "cell_type": "code",
   "execution_count": 37,
   "metadata": {},
   "outputs": [
    {
     "output_type": "stream",
     "name": "stdout",
     "text": [
      "4.25\n4.5\n4.75\n5.0\n"
     ]
    }
   ],
   "source": [
    "from itertools import count, islice\n",
    "\n",
    "for num in islice(count(1, 0.25), 13, 17):\n",
    "    print(num)"
   ]
  },
  {
   "cell_type": "code",
   "execution_count": 38,
   "metadata": {},
   "outputs": [
    {
     "output_type": "stream",
     "name": "stdout",
     "text": [
      "red white blue red white "
     ]
    }
   ],
   "source": [
    "# some produce a finite sequence from an infinite sequence\n",
    "from itertools import islice, cycle\n",
    "colors = cycle(['red', 'white', 'blue']) # infinite\n",
    "limited = islice(colors, 0, 5)\n",
    "\n",
    "for color in limited:\n",
    "    print(color, end= ' ')"
   ]
  },
  {
   "cell_type": "code",
   "execution_count": 39,
   "metadata": {},
   "outputs": [
    {
     "output_type": "execute_result",
     "data": {
      "text/plain": [
       "[2, 3, 4, 5, 6, 7, 8, 9, 10, 'J', 'Q', 'K', 'A']"
      ]
     },
     "metadata": {},
     "execution_count": 39
    }
   ],
   "source": [
    "from itertools import chain\n",
    "rank = list(range(2, 11))\n",
    "#picture = { 'J': 'Jack', 'Q': 'Queen', 'K': 'King', 'A': 'Ace' }\n",
    "picture = list('JQKA')\n",
    "\n",
    "#for card in chain(rank, picture):\n",
    "    #print(card, end=' ')\n",
    "    \n",
    "list(chain(rank, picture))"
   ]
  },
  {
   "cell_type": "code",
   "execution_count": 41,
   "metadata": {},
   "outputs": [
    {
     "output_type": "execute_result",
     "data": {
      "text/plain": [
       "[12, 20, 32, 44]"
      ]
     },
     "metadata": {},
     "execution_count": 41
    }
   ],
   "source": [
    "from itertools import filterfalse\n",
    "# filter out items for which predicate is False\n",
    "numbers = [7, 12, 20, 23, 32, 44]\n",
    "list(filterfalse(lambda x: x % 2, numbers))"
   ]
  },
  {
   "cell_type": "code",
   "execution_count": 42,
   "metadata": {},
   "outputs": [
    {
     "output_type": "execute_result",
     "data": {
      "text/plain": [
       "['how', 'brown']"
      ]
     },
     "metadata": {},
     "execution_count": 42
    }
   ],
   "source": [
    "# filters elements, returning only those that have a corresponding\n",
    "# element that evaluates to True\n",
    "from itertools import compress\n",
    "words = ['how', 'now', 'brown', 'cow']\n",
    "counts = [13, '', 'x', None]\n",
    "list(compress(words, counts))"
   ]
  },
  {
   "cell_type": "code",
   "execution_count": 43,
   "metadata": {},
   "outputs": [
    {
     "output_type": "execute_result",
     "data": {
      "text/plain": [
       "[3, 8, 18, 39]"
      ]
     },
     "metadata": {},
     "execution_count": 43
    }
   ],
   "source": [
    "# accumulate sums, or other binary functions\n",
    "from itertools import accumulate\n",
    "list(accumulate([3, 5, 10, 21]))\n",
    "#help(accumulate)"
   ]
  },
  {
   "cell_type": "code",
   "execution_count": 44,
   "metadata": {},
   "outputs": [
    {
     "output_type": "execute_result",
     "data": {
      "text/plain": [
       "[1, 2, 6, 24, 120, 720, 5040, 40320, 362880]"
      ]
     },
     "metadata": {},
     "execution_count": 44
    }
   ],
   "source": [
    "list(accumulate(range(1, 10), lambda x, y: x * y))"
   ]
  },
  {
   "cell_type": "code",
   "execution_count": 45,
   "metadata": {},
   "outputs": [
    {
     "output_type": "execute_result",
     "data": {
      "text/plain": [
       "[1000, 800.0, 590.0, 369.5, 137.97500000000002]"
      ]
     },
     "metadata": {},
     "execution_count": 45
    }
   ],
   "source": [
    "# Amortize a 5% loan of 1000 with 4 annual payments of 250\n",
    "cashflows = [1000, 250, 250, 250, 250]\n",
    "list(accumulate(cashflows, lambda bal, pmt: bal * 1.05 - pmt))"
   ]
  },
  {
   "cell_type": "code",
   "execution_count": null,
   "metadata": {},
   "outputs": [],
   "source": []
  }
 ],
 "metadata": {
  "celltoolbar": "Slideshow",
  "kernelspec": {
   "display_name": "Python 3",
   "language": "python",
   "name": "python3"
  },
  "language_info": {
   "codemirror_mode": {
    "name": "ipython",
    "version": 3
   },
   "file_extension": ".py",
   "mimetype": "text/x-python",
   "name": "python",
   "nbconvert_exporter": "python",
   "pygments_lexer": "ipython3",
   "version": "3.7.7-final"
  }
 },
 "nbformat": 4,
 "nbformat_minor": 1
}