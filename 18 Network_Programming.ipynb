{
  "nbformat": 4,
  "nbformat_minor": 0,
  "metadata": {
    "colab": {
      "name": "Network Programming.ipynb",
      "provenance": [],
      "collapsed_sections": []
    },
    "kernelspec": {
      "name": "python3",
      "display_name": "Python 3"
    },
    "language_info": {
      "name": "python"
    }
  },
  "cells": [
    {
      "cell_type": "markdown",
      "source": [
        "# ***Socket Programming***\n",
        "\n"
      ],
      "metadata": {
        "id": "_es6oTQUNd3h"
      }
    },
    {
      "cell_type": "markdown",
      "source": [
        "Socket programming is a way of connecting two nodes on a network to communicate with each other. One socket(node) listens on a particular port at an IP, while the other socket reaches out to the other to form a connection. The server forms the listener socket while the client reaches out to the server. \n",
        "They are the real backbones behind web browsing. In simpler terms, there is a server and a client. \n",
        "\n",
        "Socket programming is started by importing the socket library and making a simple socket. \n",
        "\n",
        "**import socket**\n",
        "\n",
        "**s = socket.socket(socket.AF_INET, socket.SOCK_STREAM)**"
      ],
      "metadata": {
        "id": "B7y5KbvCNsgH"
      }
    },
    {
      "cell_type": "markdown",
      "source": [
        "## ***Connecting to a server: ***\n",
        "\n",
        "\n",
        "\n",
        "\n"
      ],
      "metadata": {
        "id": "G8yHhlV5Nwww"
      }
    },
    {
      "cell_type": "code",
      "source": [
        "ping www.google.com #Run the command in your terminal."
      ],
      "metadata": {
        "id": "mmwfadrzPVA4",
        "colab": {
          "base_uri": "https://localhost:8080/"
        },
        "outputId": "ae69a624-4f21-4f2a-cb62-e0189743c876"
      },
      "execution_count": 4,
      "outputs": [
        {
          "output_type": "stream",
          "name": "stderr",
          "text": [
            "UsageError: %%bash is a cell magic, but the cell body is empty.\n"
          ]
        }
      ]
    },
    {
      "cell_type": "markdown",
      "source": [
        "![s.PNG](data:image/png;base64,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)"
      ],
      "metadata": {
        "id": "qsIkuivfO4l2"
      }
    },
    {
      "cell_type": "markdown",
      "source": [
        "You can also find the IP using python: \n",
        "\n"
      ],
      "metadata": {
        "id": "uNyvdhzrO-V3"
      }
    },
    {
      "cell_type": "code",
      "source": [
        "import socket \n",
        "ip = socket.gethostbyname('www.google.com')\n",
        "print(ip)"
      ],
      "metadata": {
        "id": "Y-bJG_sbPC2n",
        "colab": {
          "base_uri": "https://localhost:8080/"
        },
        "outputId": "0b254c88-1097-43b7-b1c1-d6edcb86706c"
      },
      "execution_count": 5,
      "outputs": [
        {
          "output_type": "stream",
          "name": "stdout",
          "text": [
            "142.251.107.103\n"
          ]
        }
      ]
    },
    {
      "cell_type": "markdown",
      "source": [
        "***Here is an example of a script for connecting to Google.***"
      ],
      "metadata": {
        "id": "9tWpceXZPHae"
      }
    },
    {
      "cell_type": "code",
      "source": [
        "# An example script to connect to Google using socket\n",
        "# programming in Python\n",
        "import socket # for socket\n",
        "import sys\n",
        "\n",
        "try:\n",
        "\ts = socket.socket(socket.AF_INET, socket.SOCK_STREAM)\n",
        "\tprint (\"Socket successfully created\")\n",
        "except socket.error as err:\n",
        "\tprint (\"socket creation failed with error %s\" %(err))\n",
        "\n",
        "# default port for socket\n",
        "port = 80\n",
        "\n",
        "try:\n",
        "\thost_ip = socket.gethostbyname('www.google.com')\n",
        "except socket.gaierror:\n",
        "\n",
        "\t# this means could not resolve the host\n",
        "\tprint (\"there was an error resolving the host\")\n",
        "\tsys.exit()\n",
        "\n",
        "# connecting to the server\n",
        "s.connect((host_ip, port))\n",
        "\n",
        "print (\"the socket has successfully connected to google\")\n"
      ],
      "metadata": {
        "id": "RndYDpBcPI-V",
        "colab": {
          "base_uri": "https://localhost:8080/"
        },
        "outputId": "b3b13a69-7e57-4de1-99d6-99f8875fe511"
      },
      "execution_count": 6,
      "outputs": [
        {
          "output_type": "stream",
          "name": "stdout",
          "text": [
            "Socket successfully created\n",
            "the socket has successfully connected to google\n"
          ]
        }
      ]
    },
    {
      "cell_type": "markdown",
      "source": [
        "***Output : ***"
      ],
      "metadata": {
        "id": "l7v1Hf8ZSEjT"
      }
    },
    {
      "cell_type": "markdown",
      "source": [
        "![shoket.PNG](data:image/png;base64,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)"
      ],
      "metadata": {
        "id": "2hnNi67YR7KD"
      }
    },
    {
      "cell_type": "markdown",
      "source": [
        "First of all, we made a socket.\n",
        "\n",
        "Then we resolved google’s IP and lastly, we connected to google.\n",
        "\n",
        "Now we need to know how can we send some data through a socket.\n",
        "\n",
        "For sending data the socket library has a sendall function. This function allows you to send data to a server to which the socket is connected and the server can also send data to the client using this function."
      ],
      "metadata": {
        "id": "j6P9RyesSUGT"
      }
    },
    {
      "cell_type": "markdown",
      "source": [
        "***A simple server-client program : ***"
      ],
      "metadata": {
        "id": "mSRwPT2BSZ37"
      }
    },
    {
      "cell_type": "markdown",
      "source": [
        "***Server : ***\n",
        "\n",
        "\n",
        "A server has a bind() method which binds it to a specific IP and port so that it can listen to incoming requests on that IP and port. A server has a listen() method which puts the server into listening mode. This allows the server to listen to incoming connections. And last a server has an accept() and close() method. The accept method initiates a connection with the client and the close method closes the connection with the client. "
      ],
      "metadata": {
        "id": "LNdT9RR1Sb2K"
      }
    },
    {
      "cell_type": "code",
      "source": [
        "# first of all import the socket library\n",
        "import socket\t\t\t\n",
        "\n",
        "# next create a socket object\n",
        "s = socket.socket()\t\t\n",
        "print (\"Socket successfully created\")\n",
        "\n",
        "# reserve a port on your computer in our\n",
        "# case it is 12345 but it can be anything\n",
        "port = 12345\t\t\t\n",
        "\n",
        "# Next bind to the port\n",
        "# we have not typed any ip in the ip field\n",
        "# instead we have inputted an empty string\n",
        "# this makes the server listen to requests\n",
        "# coming from other computers on the network\n",
        "s.bind(('', port))\t\t\n",
        "print (\"socket binded to %s\" %(port))\n",
        "\n",
        "# put the socket into listening mode\n",
        "s.listen(5)\t\n",
        "print (\"socket is listening\")\t\t\n",
        "\n",
        "# a forever loop until we interrupt it or\n",
        "# an error occurs\n",
        "while True:\n",
        "\n",
        "  # Establish connection with client.\n",
        "  c, addr = s.accept()\t\n",
        "  print ('Got connection from', addr )\n",
        "\n",
        "  # send a thank you message to the client. encoding to send byte type.\n",
        "  c.send('Thank you for connecting'.encode())\n",
        "\n",
        "  # Close the connection with the client\n",
        "  c.close()\n",
        "\n",
        "  # Breaking once connection closed\n",
        "  break\n"
      ],
      "metadata": {
        "id": "Ra9ikxooSofc",
        "colab": {
          "base_uri": "https://localhost:8080/",
          "height": 409
        },
        "outputId": "af85b889-f746-484d-c5b0-f63d2df444f0"
      },
      "execution_count": 7,
      "outputs": [
        {
          "output_type": "stream",
          "name": "stdout",
          "text": [
            "Socket successfully created\n",
            "socket binded to 12345\n",
            "socket is listening\n"
          ]
        },
        {
          "output_type": "error",
          "ename": "KeyboardInterrupt",
          "evalue": "ignored",
          "traceback": [
            "\u001b[0;31m---------------------------------------------------------------------------\u001b[0m",
            "\u001b[0;31mKeyboardInterrupt\u001b[0m                         Traceback (most recent call last)",
            "\u001b[0;32m<ipython-input-7-4929557c96b1>\u001b[0m in \u001b[0;36m<module>\u001b[0;34m()\u001b[0m\n\u001b[1;32m     27\u001b[0m \u001b[0;34m\u001b[0m\u001b[0m\n\u001b[1;32m     28\u001b[0m   \u001b[0;31m# Establish connection with client.\u001b[0m\u001b[0;34m\u001b[0m\u001b[0;34m\u001b[0m\u001b[0;34m\u001b[0m\u001b[0m\n\u001b[0;32m---> 29\u001b[0;31m   \u001b[0mc\u001b[0m\u001b[0;34m,\u001b[0m \u001b[0maddr\u001b[0m \u001b[0;34m=\u001b[0m \u001b[0ms\u001b[0m\u001b[0;34m.\u001b[0m\u001b[0maccept\u001b[0m\u001b[0;34m(\u001b[0m\u001b[0;34m)\u001b[0m\u001b[0;34m\u001b[0m\u001b[0;34m\u001b[0m\u001b[0m\n\u001b[0m\u001b[1;32m     30\u001b[0m   \u001b[0mprint\u001b[0m \u001b[0;34m(\u001b[0m\u001b[0;34m'Got connection from'\u001b[0m\u001b[0;34m,\u001b[0m \u001b[0maddr\u001b[0m \u001b[0;34m)\u001b[0m\u001b[0;34m\u001b[0m\u001b[0;34m\u001b[0m\u001b[0m\n\u001b[1;32m     31\u001b[0m \u001b[0;34m\u001b[0m\u001b[0m\n",
            "\u001b[0;32m/usr/lib/python3.7/socket.py\u001b[0m in \u001b[0;36maccept\u001b[0;34m(self)\u001b[0m\n\u001b[1;32m    210\u001b[0m         \u001b[0mFor\u001b[0m \u001b[0mIP\u001b[0m \u001b[0msockets\u001b[0m\u001b[0;34m,\u001b[0m \u001b[0mthe\u001b[0m \u001b[0maddress\u001b[0m \u001b[0minfo\u001b[0m \u001b[0;32mis\u001b[0m \u001b[0ma\u001b[0m \u001b[0mpair\u001b[0m \u001b[0;34m(\u001b[0m\u001b[0mhostaddr\u001b[0m\u001b[0;34m,\u001b[0m \u001b[0mport\u001b[0m\u001b[0;34m)\u001b[0m\u001b[0;34m.\u001b[0m\u001b[0;34m\u001b[0m\u001b[0;34m\u001b[0m\u001b[0m\n\u001b[1;32m    211\u001b[0m         \"\"\"\n\u001b[0;32m--> 212\u001b[0;31m         \u001b[0mfd\u001b[0m\u001b[0;34m,\u001b[0m \u001b[0maddr\u001b[0m \u001b[0;34m=\u001b[0m \u001b[0mself\u001b[0m\u001b[0;34m.\u001b[0m\u001b[0m_accept\u001b[0m\u001b[0;34m(\u001b[0m\u001b[0;34m)\u001b[0m\u001b[0;34m\u001b[0m\u001b[0;34m\u001b[0m\u001b[0m\n\u001b[0m\u001b[1;32m    213\u001b[0m         \u001b[0msock\u001b[0m \u001b[0;34m=\u001b[0m \u001b[0msocket\u001b[0m\u001b[0;34m(\u001b[0m\u001b[0mself\u001b[0m\u001b[0;34m.\u001b[0m\u001b[0mfamily\u001b[0m\u001b[0;34m,\u001b[0m \u001b[0mself\u001b[0m\u001b[0;34m.\u001b[0m\u001b[0mtype\u001b[0m\u001b[0;34m,\u001b[0m \u001b[0mself\u001b[0m\u001b[0;34m.\u001b[0m\u001b[0mproto\u001b[0m\u001b[0;34m,\u001b[0m \u001b[0mfileno\u001b[0m\u001b[0;34m=\u001b[0m\u001b[0mfd\u001b[0m\u001b[0;34m)\u001b[0m\u001b[0;34m\u001b[0m\u001b[0;34m\u001b[0m\u001b[0m\n\u001b[1;32m    214\u001b[0m         \u001b[0;31m# Issue #7995: if no default timeout is set and the listening\u001b[0m\u001b[0;34m\u001b[0m\u001b[0;34m\u001b[0m\u001b[0;34m\u001b[0m\u001b[0m\n",
            "\u001b[0;31mKeyboardInterrupt\u001b[0m: "
          ]
        }
      ]
    },
    {
      "cell_type": "markdown",
      "source": [
        "First of all, we import socket which is necessary.\n",
        "\n",
        "Then we made a socket object and reserved a port on our pc.\n",
        "\n",
        "After that, we bound our server to the specified port. Passing an empty string means that the server can listen to incoming connections from other computers as well. If we would have passed 127.0.0.1 then it would have listened to only those calls made within the local computer.\n",
        "\n",
        "After that we put the server into listening mode.5 here means that 5 connections are kept waiting if the server is busy and if a 6th socket tries to connect then the connection is refused.\n",
        "\n",
        "At last, we make a while loop and start to accept all incoming connections and close those connections after a thank you message to all connected sockets."
      ],
      "metadata": {
        "id": "-443nwKUSrN7"
      }
    },
    {
      "cell_type": "markdown",
      "source": [
        "***Client : ***\n",
        "\n",
        "Now we need something with which a server can interact. We could tenet to the server like this just to know that our server is working. Type these commands in the terminal: "
      ],
      "metadata": {
        "id": "IkYud1B7SvUD"
      }
    },
    {
      "cell_type": "code",
      "source": [
        "python server.py  #server.py file name "
      ],
      "metadata": {
        "id": "I1NRQd-QZ-8L"
      },
      "execution_count": null,
      "outputs": []
    },
    {
      "cell_type": "code",
      "source": [
        "telnet localhost 12345"
      ],
      "metadata": {
        "id": "PGApfo-NZ8bT"
      },
      "execution_count": null,
      "outputs": []
    },
    {
      "cell_type": "markdown",
      "source": [
        "This output shows that our server is working.\n",
        "\n",
        "Now for the client-side: "
      ],
      "metadata": {
        "id": "f5_5tj6paDMD"
      }
    },
    {
      "cell_type": "code",
      "source": [
        "# Import socket module\n",
        "import socket\t\t\t\n",
        "\n",
        "# Create a socket object\n",
        "s = socket.socket()\t\t\n",
        "\n",
        "# Define the port on which you want to connect\n",
        "port = 12345\t\t\t\n",
        "\n",
        "# connect to the server on local computer\n",
        "s.connect(('127.0.0.1', port))\n",
        "\n",
        "# receive data from the server and decoding to get the string.\n",
        "print (s.recv(1024).decode())\n",
        "# close the connection\n",
        "s.close()\t\n",
        "\t\n"
      ],
      "metadata": {
        "id": "4R-8E1kGaEQL"
      },
      "execution_count": null,
      "outputs": []
    },
    {
      "cell_type": "markdown",
      "source": [
        "First of all, we make a socket object.\n",
        "\n",
        "Then we connect to localhost on port 12345 (the port on which our server runs) and lastly, we receive data from the server and close the connection.\n",
        "\n",
        "Now save this file as client.py and run it from the terminal after starting the server script."
      ],
      "metadata": {
        "id": "1Ru1CyvbaGhC"
      }
    },
    {
      "cell_type": "code",
      "source": [
        "# start the server:\n",
        "python server.py"
      ],
      "metadata": {
        "id": "2MF9WKK9aKXa"
      },
      "execution_count": null,
      "outputs": []
    },
    {
      "cell_type": "markdown",
      "source": [
        "***Output***"
      ],
      "metadata": {
        "id": "B3n05D2vaOPz"
      }
    }
  ]
}