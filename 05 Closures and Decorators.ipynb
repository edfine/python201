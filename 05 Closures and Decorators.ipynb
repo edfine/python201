{
 "cells": [
  {
   "cell_type": "markdown",
   "metadata": {
    "slideshow": {
     "slide_type": "slide"
    }
   },
   "source": [
    "# Functional Closures and Decorators"
   ]
  },
  {
   "cell_type": "markdown",
   "metadata": {
    "slideshow": {
     "slide_type": "subslide"
    }
   },
   "source": [
    "##  Closures\n",
    "* In order to understand closures, let's review the Python scoping rules: LEGB\n",
    "  * L = local\n",
    "  * E = enclosing\n",
    "  * G = global\n",
    "  * B = builtin (e.g., len() function)\n",
    "  \n",
    "        a = 'global scope'\n",
    "   \n",
    "       def outer_func():\n",
    "           b = 'local to outer_func()'\n",
    "            def inner_func():\n",
    "                c = 'local to inner_func()'\n",
    "                print(b, 'enclosing scope')\n",
    "                print(a, 'global scope')\n",
    "                \n",
    "* When a function references a name that is not local, Python first attempts to resolve that name in the enclosing scope\n",
    "* A *closure* is a nested function which remembers a value or values from the enclosing lexical scope even when the program flow is no longer in the enclosing scope"
   ]
  },
  {
   "cell_type": "code",
   "execution_count": null,
   "metadata": {},
   "outputs": [],
   "source": [
    "a = 'global scope'\n",
    "def outer_func(): \n",
    "    b = 'local to outer_func()' \n",
    "    def inner_func(): \n",
    "        c = 'local to inner_func()' \n",
    "    print(b, 'enclosing scope') \n",
    "\n",
    "print(a, 'global scope')"
   ]
  },
  {
   "cell_type": "code",
   "execution_count": null,
   "metadata": {
    "slideshow": {
     "slide_type": "subslide"
    },
    "tags": []
   },
   "outputs": [],
   "source": [
    "def make_adder(x):\n",
    "    print('id(x): %x' % id(x))\n",
    "    \n",
    "    def adder(y):\n",
    "        print('in adder')\n",
    "        return x + y # Python uses LEGB to find 'x'\n",
    "    \n",
    "    print('id(adder): %x' % id(adder))\n",
    "    return adder\n",
    "\n",
    "add39 = make_adder(39)\n",
    "print('about to call add39')\n",
    "add39(109)"
   ]
  },
  {
   "cell_type": "code",
   "execution_count": null,
   "metadata": {},
   "outputs": [],
   "source": [
    "# let's use repr so we can see the address of the function\n",
    "# we could use print(\"%X\") as well...\n",
    "type(add39), repr(add39)"
   ]
  },
  {
   "cell_type": "code",
   "execution_count": null,
   "metadata": {
    "scrolled": true
   },
   "outputs": [],
   "source": [
    "# all functions have a closure attribute\n",
    "add39.__closure__"
   ]
  },
  {
   "cell_type": "code",
   "execution_count": null,
   "metadata": {},
   "outputs": [],
   "source": [
    "# notice that the cell object has a reference to an int object\n",
    "add39.__closure__[0].cell_contents"
   ]
  },
  {
   "cell_type": "code",
   "execution_count": null,
   "metadata": {
    "tags": []
   },
   "outputs": [],
   "source": [
    "print(make_adder.__closure__)"
   ]
  },
  {
   "cell_type": "markdown",
   "metadata": {
    "collapsed": true,
    "slideshow": {
     "slide_type": "subslide"
    }
   },
   "source": [
    "* One case where closures are frequently used is in building function wrappers\n",
    "* Suppose we want to log each invocation of a function:"
   ]
  },
  {
   "cell_type": "code",
   "execution_count": null,
   "metadata": {
    "slideshow": {
     "slide_type": "-"
    }
   },
   "outputs": [],
   "source": [
    "def logging(f):\n",
    "    def wrapper(*args, **kwargs):\n",
    "        print('Calling %r(%r, %r)' % (f, args, kwargs))\n",
    "        return f(*args, **kwargs)\n",
    "    return wrapper"
   ]
  },
  {
   "cell_type": "code",
   "execution_count": null,
   "metadata": {
    "slideshow": {
     "slide_type": "-"
    },
    "tags": []
   },
   "outputs": [],
   "source": [
    "logging_add39 = logging(add39)\n",
    "print(add39(5)) # remember that add39 just adds 39 to our argument"
   ]
  },
  {
   "cell_type": "code",
   "execution_count": null,
   "metadata": {
    "slideshow": {
     "slide_type": "-"
    },
    "tags": []
   },
   "outputs": [],
   "source": [
    "print(logging_add39(5))"
   ]
  },
  {
   "cell_type": "markdown",
   "metadata": {
    "slideshow": {
     "slide_type": "subslide"
    }
   },
   "source": [
    "## Decorators\n",
    "* Wrapper functions are so common, that Python has its own term for it–a *decorator*.\n",
    "* Why might you want to use a decorator?\n",
    "  * sometimes you want to modify a function’s behavior without explicitly modifying the function, e.g., pre/post actions, debugging, etc. \n",
    "  * suppose we have a set of tasks that need to be performed by many different functions, e.g.,\n",
    "   * access control\n",
    "   * cleanup\n",
    "   * error handling\n",
    "   * logging\n",
    " * ...in other words, there is some boilerplate code that needs to be executed before or after  every invocation of the function\n"
   ]
  },
  {
   "cell_type": "markdown",
   "metadata": {
    "slideshow": {
     "slide_type": "subslide"
    }
   },
   "source": [
    "## Decorators build on topics we already know...\n",
    "* nested functions\n",
    "* variable positional args (`*args`)\n",
    "* variable keyword args (`**kwargs`)\n",
    "* functions are objects (actually everything in Python is an object)"
   ]
  },
  {
   "cell_type": "code",
   "execution_count": null,
   "metadata": {},
   "outputs": [],
   "source": [
    "def document_it(func):\n",
    "    # below is a nested, or inner function\n",
    "    def new_function(*args, **kwargs):\n",
    "        print(f'Running function: {func.__name__}')\n",
    "        print(f'Positional arguments: {args}')\n",
    "        print(f'Keyword arguments: {kwargs}')\n",
    "        # here we invoke the function passed in as an argument\n",
    "        result = func(*args, **kwargs)\n",
    "        print(f'Result: {result}')\n",
    "        return result\n",
    "    \n",
    "    # document_it() is returning a reference to the inner function\n",
    "    return new_function"
   ]
  },
  {
   "cell_type": "code",
   "execution_count": null,
   "metadata": {
    "tags": []
   },
   "outputs": [],
   "source": [
    "def add_things(a, b):\n",
    "    return a + b\n",
    "\n",
    "print('Running plain old add_things()')\n",
    "print(add_things(13, 5))"
   ]
  },
  {
   "cell_type": "code",
   "execution_count": null,
   "metadata": {
    "tags": []
   },
   "outputs": [],
   "source": [
    "# manual decorator assignment\n",
    "cooler_add_things = document_it(add_things) \n",
    "\n",
    "print('Running cooler_add_things()')\n",
    "cooler_add_things(13, 5) "
   ]
  },
  {
   "cell_type": "code",
   "execution_count": null,
   "metadata": {
    "tags": []
   },
   "outputs": [],
   "source": [
    "# decorator shorthand for what we did above\n",
    "\n",
    "@document_it\n",
    "def add_things(a, b):\n",
    "    return a + b\n",
    "\n",
    "#add_things = document_it(add_things)\n",
    "\n",
    "print(add_things(13, -5))"
   ]
  },
  {
   "cell_type": "code",
   "execution_count": null,
   "metadata": {
    "tags": []
   },
   "outputs": [],
   "source": [
    "print(id(add_things))\n",
    "add_things = document_it(add_things)\n",
    "print(add_things(13, -5))\n",
    "print(id(add_things))"
   ]
  },
  {
   "cell_type": "code",
   "execution_count": null,
   "metadata": {},
   "outputs": [],
   "source": [
    "# This is the general pattern I use for writing simple decorators\n",
    "def my_decorator_name(func):\n",
    "    # below is a nested, or inner function\n",
    "    def inner_function(*args, **kwargs): \n",
    "        # some business logic\n",
    "\n",
    "        # here we invoke the function passed in as an argument\n",
    "        result = func(*args, **kwargs)\n",
    "\n",
    "        # some more business logic\n",
    "        return result\n",
    "    \n",
    "    # my_decorator_name() returns a reference to the inner function\n",
    "    return inner_function"
   ]
  },
  {
   "cell_type": "markdown",
   "metadata": {},
   "source": [
    "## Lab: Decorators\n",
    "1. Create a function called __`printer`__ that takes a string and prints it\n",
    "  * Then create a wrapper that will print the number of times each letter appears in the string passed in to __`printer`__, followed by the string.\n",
    "  * Use the wrapper as a decorator on your __`printer`__ function.\n",
    "\n",
    "2. Create some function which takes an integer as its parameter\n",
    "  * Create a wrapper that ensures the parameter is positive\n",
    "  * use that wrapper to decorate your original function\n",
    "3. Make a timer decorator that computes the elapsed time of the function wrapped by it\n"
   ]
  },
  {
   "cell_type": "code",
   "execution_count": null,
   "metadata": {
    "tags": []
   },
   "outputs": [],
   "source": []
  },
  {
   "cell_type": "code",
   "execution_count": null,
   "metadata": {},
   "outputs": [],
   "source": []
  }
 ],
 "metadata": {
  "celltoolbar": "Slideshow",
  "kernelspec": {
   "name": "python377jvsc74a57bd0da759705632228129082bad91f878fb1098f6ebd22ccaf2d62a67a40c834097c",
   "display_name": "Python 3.7.7 64-bit ('fundamentals': conda)"
  },
  "language_info": {
   "codemirror_mode": {
    "name": "ipython",
    "version": 3
   },
   "file_extension": ".py",
   "mimetype": "text/x-python",
   "name": "python",
   "nbconvert_exporter": "python",
   "pygments_lexer": "ipython3",
   "version": "3.7.7"
  }
 },
 "nbformat": 4,
 "nbformat_minor": 1
}