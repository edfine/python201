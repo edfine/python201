{
 "cells": [
  {
   "cell_type": "markdown",
   "metadata": {},
   "source": [
    "# Welcome to Afternoon 4 For Intermediate Python-201"
   ]
  },
  {
   "cell_type": "markdown",
   "metadata": {},
   "source": [
    "Welcome to the final afternoon.  Today's most important exercise is brainstorming where you can use you new skills.  Talk with your breakout group and come up with at least 3 ideas as a group of how you could use your new python skills at work.  Please post them to your class chat so others can see them and be inspired too. Remember that the only way to really learn a computer language is with your fingers, so find a project you might want to do.   \n",
    "\n",
    "Other projects:\n",
    "\n",
    "EXERCISE 1 \n",
    "\n",
    "We passed over several of the morning labs, feel free to go over those.\n",
    "\n",
    "EXERCISE 2\n",
    "\n",
    "Create a class called Numbers, which has a single class attribute called MULTIPLIER, and a constructor which takes the parameters x and y (these should all be numbers). Do this in a TDD fashion where you write the tests first in a test, then write the code.\n",
    "\n",
    "- Write a method called add which returns the sum of the attributes x and y.\n",
    "- Write a class method called multiply, which takes a single number parameter a and returns the product of a and MULTIPLIER.\n",
    "- Write a static method called subtract, which takes two number parameters, b and c, and returns b - c.\n",
    "- Write a method called value which returns a tuple containing the values of x and y. Make this method into a property, and write a setter and a deleter for manipulating the values of x and y. You may have to use @property, and we may not have gotten to this yet.  \n",
    "\n",
    "Exercise 3\n",
    "\n",
    "Can you take your code to look for vaccine appointments *or another project from this class or work* that you have done and code review it with your group, given what you have learned. If you don't want to use this example but you would prefer to use something more work related, go ahead. Are you using good syntax and code style? Functions or classes?  Can you write unit and functional tests for your code? Generally make it into something polished. \n",
    "\n",
    "- How would you test your system? Try writing the tests.\n",
    "\n",
    "- If it calls out to an outside or dirty system, can you mock it?  \n",
    "\n",
    "- Perhaps re-writing it as a class would make it more testable?  Try it out. \n",
    "\n",
    "- Is there an opportunity to make part of it a generator?\n",
    "\n",
    "- Are there other areas that would help such as logging, multiprocessing and multithreading or building a simple web server to show the results.  \n",
    "\n",
    "\n",
    "Some work related project ideas are: commenting on Jira tickets to say you are working on them or they are relevant to your group, posting a message to Slack when you commit code, or following all gitlab issues that mention a certain class, file or term. Regardless of the project you choose:\n",
    "\n",
    "\n",
    "\n"
   ]
  },
  {
   "cell_type": "markdown",
   "metadata": {},
   "source": [
    "4. Click is a useful package for making fancy command line functions with minimal code. https://click.palletsprojects.com/en/7.x/\n",
    "There is another package caller Typer that uses Click: https://typer.tiangolo.com/\n",
    "Choose one and use it.\n",
    "Make a command line tool that uses click or Typer and its decorators to do one of the following:\n",
    "\n",
    "a. run your appointment checking engine\n",
    "\n",
    "b. run a python script that you sometimes use for work\n",
    "\n",
    "c. read a csv file and write it out as an Excel file"
   ]
  },
  {
   "cell_type": "markdown",
   "metadata": {},
   "source": [
    "EXERCISE 5\n",
    "\n",
    "Extend one of your exercises.  Write a simple web GUI that will host your appointment scanner and make it easier for people to use it.  This can be done with flask or other web services.  You can host it locally on your own machine.  "
   ]
  },
  {
   "cell_type": "markdown",
   "metadata": {},
   "source": [
    "### Random Extension just for Fun:\n",
    "\n",
    "I like python and I like making blinky things and I like happy kids.  For the holidays, I implemented and built this project for an energy filled member of my family.  Part of the project is a python program.  \n",
    "\n",
    "Check this out and see if there are any of these that might be of interest to someone in your life.  \n",
    "https://learn.adafruit.com/led-trampoline/software\n",
    "\n",
    "There are many other fun python projects on this site that can help keep your python practice up, even if you don't use it regularly at work.  You can modify the code and make it your own, or share your new skills with friends or family.  Practice and use is the key to remembering what you learned.  "
   ]
  },
  {
   "cell_type": "markdown",
   "metadata": {},
   "source": []
  },
  {
   "cell_type": "code",
   "execution_count": null,
   "metadata": {},
   "outputs": [],
   "source": []
  }
 ],
 "metadata": {
  "interpreter": {
   "hash": "2e72dc232db0d747ac618aa3aed36f97d5fd14f2c56ba5e915c2807a38895d97"
  },
  "kernelspec": {
   "display_name": "Python 3.8.8 64-bit ('base': conda)",
   "name": "python3"
  },
  "language_info": {
   "codemirror_mode": {
    "name": "ipython",
    "version": 3
   },
   "file_extension": ".py",
   "mimetype": "text/x-python",
   "name": "python",
   "nbconvert_exporter": "python",
   "pygments_lexer": "ipython3",
   "version": "3.8.8"
  }
 },
 "nbformat": 4,
 "nbformat_minor": 4
}
