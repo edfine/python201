{
 "cells": [
  {
   "cell_type": "markdown",
   "source": [
    "# Flask"
   ],
   "metadata": {
    "slideshow": {
     "slide_type": "slide"
    }
   }
  },
  {
   "cell_type": "markdown",
   "source": [
    "### Flask\n",
    "* a small, but powerful web framework for Python\n",
    "* http://flask.pocoo.org/\n",
    "* includes\n",
    "  * built-in debugger\n",
    "  * integrated unit-testing support\n",
    "  * lots of docs\n"
   ],
   "metadata": {
    "slideshow": {
     "slide_type": "subslide"
    }
   }
  },
  {
   "cell_type": "code",
   "execution_count": 2,
   "source": [
    "# If you do not have flask installed, youmay need to.\n",
    "!conda install -y Flask"
   ],
   "outputs": [
    {
     "output_type": "stream",
     "name": "stdout",
     "text": [
      "Collecting package metadata (current_repodata.json): done\n",
      "Solving environment: done\n",
      "\n",
      "\n",
      "==> WARNING: A newer version of conda exists. <==\n",
      "  current version: 4.10.1\n",
      "  latest version: 4.10.3\n",
      "\n",
      "Please update conda by running\n",
      "\n",
      "    $ conda update -n base conda\n",
      "\n",
      "\n",
      "\n",
      "## Package Plan ##\n",
      "\n",
      "  environment location: /opt/anaconda3/envs/int_python\n",
      "\n",
      "  added / updated specs:\n",
      "    - flask\n",
      "\n",
      "\n",
      "The following packages will be downloaded:\n",
      "\n",
      "    package                    |            build\n",
      "    ---------------------------|-----------------\n",
      "    ca-certificates-2021.5.30  |       h033912b_0         136 KB  conda-forge\n",
      "    certifi-2021.5.30          |   py37hf985489_0         141 KB  conda-forge\n",
      "    click-8.0.1                |   py37hf985489_0         145 KB  conda-forge\n",
      "    dataclasses-0.8            |     pyhc8e2a94_1           7 KB  conda-forge\n",
      "    flask-1.1.2                |     pyh9f0ad1d_0          70 KB  conda-forge\n",
      "    importlib-metadata-4.6.1   |   py37hf985489_0          31 KB  conda-forge\n",
      "    itsdangerous-2.0.1         |     pyhd8ed1ab_0          17 KB  conda-forge\n",
      "    typing_extensions-3.10.0.0 |     pyha770c72_0          28 KB  conda-forge\n",
      "    werkzeug-2.0.1             |     pyhd8ed1ab_0         219 KB  conda-forge\n",
      "    ------------------------------------------------------------\n",
      "                                           Total:         794 KB\n",
      "\n",
      "The following NEW packages will be INSTALLED:\n",
      "\n",
      "  click              conda-forge/osx-64::click-8.0.1-py37hf985489_0\n",
      "  dataclasses        conda-forge/noarch::dataclasses-0.8-pyhc8e2a94_1\n",
      "  flask              conda-forge/noarch::flask-1.1.2-pyh9f0ad1d_0\n",
      "  importlib-metadata conda-forge/osx-64::importlib-metadata-4.6.1-py37hf985489_0\n",
      "  itsdangerous       conda-forge/noarch::itsdangerous-2.0.1-pyhd8ed1ab_0\n",
      "  typing_extensions  conda-forge/noarch::typing_extensions-3.10.0.0-pyha770c72_0\n",
      "  werkzeug           conda-forge/noarch::werkzeug-2.0.1-pyhd8ed1ab_0\n",
      "\n",
      "The following packages will be UPDATED:\n",
      "\n",
      "  ca-certificates    pkgs/main::ca-certificates-2020.7.22-0 --> conda-forge::ca-certificates-2021.5.30-h033912b_0\n",
      "  certifi               pkgs/main::certifi-2020.6.20-py37_0 --> conda-forge::certifi-2021.5.30-py37hf985489_0\n",
      "  openssl              pkgs/main::openssl-1.1.1h-haf1e3a3_0 --> conda-forge::openssl-1.1.1k-h0d85af4_0\n",
      "\n",
      "\n",
      "\n",
      "Downloading and Extracting Packages\n",
      "flask-1.1.2          | 70 KB     | ##################################### | 100% \n",
      "click-8.0.1          | 145 KB    | ##################################### | 100% \n",
      "certifi-2021.5.30    | 141 KB    | ##################################### | 100% \n",
      "importlib-metadata-4 | 31 KB     | ##################################### | 100% \n",
      "ca-certificates-2021 | 136 KB    | ##################################### | 100% \n",
      "typing_extensions-3. | 28 KB     | ##################################### | 100% \n",
      "werkzeug-2.0.1       | 219 KB    | ##################################### | 100% \n",
      "itsdangerous-2.0.1   | 17 KB     | ##################################### | 100% \n",
      "dataclasses-0.8      | 7 KB      | ##################################### | 100% \n",
      "Preparing transaction: done\n",
      "Verifying transaction: done\n",
      "Executing transaction: done\n"
     ]
    }
   ],
   "metadata": {}
  },
  {
   "cell_type": "code",
   "execution_count": 3,
   "source": [
    "### Hello, world!\n",
    "from flask import Flask\n",
    "app = Flask(__name__)\n",
    "\n",
    "@app.route(\"/\")\n",
    "def hello():\n",
    "    return \"Hello World!\"\n",
    "\n",
    "if __name__ == \"__main__\":\n",
    "    app.run()"
   ],
   "outputs": [
    {
     "output_type": "stream",
     "name": "stdout",
     "text": [
      " * Serving Flask app \"__main__\" (lazy loading)\n",
      " * Environment: production\n",
      "\u001b[31m   WARNING: This is a development server. Do not use it in a production deployment.\u001b[0m\n",
      "\u001b[2m   Use a production WSGI server instead.\u001b[0m\n",
      " * Debug mode: off\n",
      " * Running on http://127.0.0.1:5000/ (Press CTRL+C to quit)\n"
     ]
    }
   ],
   "metadata": {
    "collapsed": false
   }
  },
  {
   "cell_type": "markdown",
   "source": [
    "### Installing Flask\n",
    "* let's use `virtualenv`\n",
    "   * `virtualenv flaskapp`\n",
    "   * `cd flaskapp`\n",
    "   * `source bin/activate`\n",
    "   * `pip3 install flask`"
   ],
   "metadata": {
    "slideshow": {
     "slide_type": "subslide"
    }
   }
  },
  {
   "cell_type": "markdown",
   "source": [
    "### Set up the project structure\n",
    "![alt-text](struct.jpg \"structure\")"
   ],
   "metadata": {
    "slideshow": {
     "slide_type": "subslide"
    }
   }
  },
  {
   "cell_type": "markdown",
   "source": [
    "### How does Flask work under the hood?\n",
    "1. A user issues a request for a domain's root URL (/) to go to its home page\n",
    "* `routes.py` maps the URL / to a Python function\n",
    "* the Python function finds a web template living in the `templates` folder.\n",
    "* a web template will look in the `static` folder for any images, CSS, or JavaScript files it needs as it renders to HTML\n",
    "* rendered HTML is sent back to routes.py\n",
    "* routes.py sends the HTML back to the browser"
   ],
   "metadata": {}
  },
  {
   "cell_type": "markdown",
   "source": [
    "### Create a home page\n",
    "* copy the below into `app/templates/layout.html`\n",
    "\n",
    "```\n",
    "<!DOCTYPE html>\n",
    "<html>\n",
    "  <head>\n",
    "    <title>My Basic Flask App</title>    \n",
    "  </head>\n",
    "  <body>\n",
    "   \n",
    "    <header>\n",
    "      <div class=\"container\">\n",
    "        <h1 class=\"logo\">My Basic Flask App</h1>\n",
    "      </div>\n",
    "    </header> \n",
    "     \n",
    "    <div class=\"container\">\n",
    "      {% block content %}\n",
    "      {% endblock %}\n",
    "    </div>\n",
    "     \n",
    "  </body>\n",
    "</html>```"
   ],
   "metadata": {
    "slideshow": {
     "slide_type": "subslide"
    }
   }
  },
  {
   "cell_type": "markdown",
   "source": [
    "### Create another file: `app/templates/home.html`\n",
    "* paste the below into it\n",
    "```\n",
    "{% extends \"layout.html\" %}\n",
    "{% block content %}\n",
    "  <div class=\"jumbo\">\n",
    "    <h2>Welcome to my Flask app!<h2>\n",
    "    <h3>This is the home page for my Flask app<h3>\n",
    "  </div>\n",
    "{% endblock %}```"
   ],
   "metadata": {
    "slideshow": {
     "slide_type": "subslide"
    }
   }
  },
  {
   "cell_type": "markdown",
   "source": [
    "### Now fill in `routes.py` with the Python code below"
   ],
   "metadata": {
    "slideshow": {
     "slide_type": "subslide"
    }
   }
  },
  {
   "cell_type": "code",
   "execution_count": null,
   "source": [
    "from flask import Flask, render_template\n",
    " \n",
    "app = Flask(__name__)      \n",
    " \n",
    "@app.route('/')\n",
    "def home():\n",
    "  return render_template('home.html')\n",
    " \n",
    "if __name__ == '__main__':\n",
    "  app.run(debug=True)"
   ],
   "outputs": [],
   "metadata": {
    "collapsed": true
   }
  },
  {
   "cell_type": "markdown",
   "source": [
    "### The above code...\n",
    "* imported the Flask class and a function `render_template`\n",
    "* created a new instance of the Flask class\n",
    "* mapped the URL / to the function home()\n",
    "* so when someone visits this URL, the function `home()` will execute\n",
    "* `home() uses the Flask function `render_template()` to render the home.html template we just created from the `templates` folder to the browser\n",
    "* `run()` runs our app on a local server\n",
    "* the `debug` flag allows us to view any applicable error messages if something goes wrong, and also make it so that the local server automatically reloads after we've made changes to the code"
   ],
   "metadata": {}
  },
  {
   "cell_type": "markdown",
   "source": [
    "### Now let's take a look...\n",
    "* `python3 routes.py`\n",
    "  (from within the `app` dir)\n",
    "* go to http://localhost:5000\n",
    "* when we visit the above URL, routes.py had code in it, which mapped the URL '/' to the Python function home()\n",
    "* `home()` found the web template home.html in the `templates` folder, rendered it to HTML, and sent it back to the browser, giving us the screen above"
   ],
   "metadata": {
    "slideshow": {
     "slide_type": "subslide"
    }
   }
  },
  {
   "cell_type": "markdown",
   "source": [
    "### Let's add some CSS to make it look nicer\n",
    "* add the following to `static/css/main.css`\n",
    "\n",
    "<pre>\n",
    "body {\n",
    "  margin: 0;\n",
    "  padding: 0;\n",
    "  font-family: \"Helvetica Neue\", Helvetica, Arial, sans-serif;\n",
    "  color: #444;\n",
    "}\n",
    " \n",
    "/*\n",
    " * Create dark grey header with a white logo\n",
    " */\n",
    "  \n",
    "header {\n",
    "  background-color: #2B2B2B;\n",
    "  height: 35px;\n",
    "  width: 100%;\n",
    "  opacity: .9;\n",
    "  margin-bottom: 10px;\n",
    "}\n",
    " \n",
    "header h1.logo {\n",
    "  margin: 0;\n",
    "  font-size: 1.7em;\n",
    "  color: #fff;\n",
    "  text-transform: uppercase;\n",
    "  float: left;\n",
    "}\n",
    " \n",
    "header h1.logo:hover {\n",
    "  color: #fff;\n",
    "  text-decoration: none;\n",
    "}\n",
    " \n",
    "/*\n",
    " * Center the body content\n",
    " */\n",
    "  \n",
    ".container {\n",
    "  width: 940px;\n",
    "  margin: 0 auto;\n",
    "}\n",
    " \n",
    "div.jumbo {\n",
    "  padding: 10px 0 30px 0;\n",
    "  background-color: #eeeeee;\n",
    "  -webkit-border-radius: 6px;\n",
    "     -moz-border-radius: 6px;\n",
    "          border-radius: 6px;\n",
    "}\n",
    " \n",
    "h2 {\n",
    "  font-size: 3em;\n",
    "  margin-top: 40px;\n",
    "  text-align: center;\n",
    "  letter-spacing: -2px;\n",
    "}\n",
    " \n",
    "h3 {\n",
    "  font-size: 1.7em;\n",
    "  font-weight: 100;\n",
    "  margin-top: 30px;\n",
    "  text-align: center;\n",
    "  letter-spacing: -1px;\n",
    "  color: #999;\n",
    "}\n",
    "</pre>"
   ],
   "metadata": {
    "slideshow": {
     "slide_type": "subslide"
    }
   }
  },
  {
   "cell_type": "markdown",
   "source": [
    "### Add this line to `layout.html` below the `<title>` line\n",
    "`<link rel=\"stylesheet\" href=\"{{ url_for('static', filename='css/main.css') }}\">;`\n",
    "\n",
    "so the file now looks like this:\n",
    "\n",
    "```\n",
    "<!DOCTYPE html>\n",
    "<html>\n",
    "  <head>\n",
    "    <title>Flask</title>    \n",
    "    <strong><link rel=\"stylesheet\" href=\"{{ url_for('static', filename='css/main.css') }}\"></strong>\n",
    "  </head>\n",
    "  <body>\n",
    "    <header>\n",
    "      <div class=\"container\">\n",
    "        <h1 class=\"logo\">Flask App</h1>\n",
    "      </div>\n",
    "      </header>\n",
    "     \n",
    "    <div class=\"container\">\n",
    "      {% block content %}\n",
    "      {% endblock %}\n",
    "    </div>\n",
    "  </body>\n",
    "</html>\n",
    "```"
   ],
   "metadata": {}
  },
  {
   "cell_type": "markdown",
   "source": [
    "### now take a look in the browser..."
   ],
   "metadata": {}
  }
 ],
 "metadata": {
  "celltoolbar": "Slideshow",
  "kernelspec": {
   "name": "python3",
   "display_name": "Python 3.7.7 64-bit ('int_python': conda)"
  },
  "language_info": {
   "codemirror_mode": {
    "name": "ipython",
    "version": 3
   },
   "file_extension": ".py",
   "mimetype": "text/x-python",
   "name": "python",
   "nbconvert_exporter": "python",
   "pygments_lexer": "ipython3",
   "version": "3.7.7"
  },
  "interpreter": {
   "hash": "3527f294f9700bdfbf89bf53429f7afc5a22433e908fabe54efa2c4cecbfa256"
  }
 },
 "nbformat": 4,
 "nbformat_minor": 2
}