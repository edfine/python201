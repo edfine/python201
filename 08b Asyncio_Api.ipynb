{
  "cells": [
    {
      "cell_type": "markdown",
      "metadata": {
        "id": "Wnu6tv6c5_6L"
      },
      "source": [
        "# ***High-level API Index***"
      ]
    },
    {
      "cell_type": "markdown",
      "metadata": {
        "id": "Cb0PWb9U6GLp"
      },
      "source": [
        "## ***Lists of all high-level async/await enabled asyncio APIs.***"
      ]
    },
    {
      "cell_type": "markdown",
      "metadata": {
        "id": "6QNqaUCEd48B"
      },
      "source": [
        "# ***Asyncio***"
      ]
    },
    {
      "cell_type": "markdown",
      "metadata": {
        "id": "BjWa4bSQd3Yg"
      },
      "source": [
        "Asyncio is the standard library package with Python that aims to help you write asynchronous code by giving you an easy way to write, execute, and structure your coroutines. The Asyncio library is for concurrency, which is not to be confused with parallelism.\n",
        "\n",
        "\n",
        "asyncio is often a perfect fit for IO-bound and high-level structured network code.\n",
        "\n",
        "asyncio is used as a foundation for multiple Python asynchronous frameworks that provide high-performance network and web-servers, database connection libraries, distributed task queues, etc.\n",
        "\n",
        "The asyncio module provides a framework that revolves around the event loop. An event loop basically waits for something to happen and then acts on the event. It is responsible for handling such things as I/O and system events.\n",
        "\n",
        "asyncio actually has several loop implementations available to it. The module will default to the one most likely to be the most efficient for the operating system it is running under; however you can explicitly choose the event loop if you so desire. An event loop basically says “when event A happens, react with function B”.\n",
        "\n",
        " Asyncio allows you to easily write single-threaded concurrent programs that utilize something called coroutines, these coroutines are like a stripped down threads and don’t come with the same inherit performance issues that your full-fat threads would typically come with."
      ]
    },
    {
      "cell_type": "markdown",
      "metadata": {
        "id": "7EGm48y9uJ5f"
      },
      "source": [
        "## ***Coroutines***"
      ]
    },
    {
      "cell_type": "markdown",
      "metadata": {
        "id": "6g1KF5rquOP1"
      },
      "source": [
        "So these coroutines are essentially lightweight versions of your more traditional threads. By using these we essentially enable ourselves to write asynchronous programs that are very similar to threads but they run on top of a single thread. We can define coroutines in 2 distinct ways."
      ]
    },
    {
      "cell_type": "code",
      "execution_count": 4,
      "metadata": {
        "id": "cZN3nL1PuR0F"
      },
      "outputs": [],
      "source": [
        "import asyncio\n",
        "\n",
        "async def myFunc1():\n",
        "    print(\"Coroutine 1\")\n",
        "\n",
        "#@asyncio.coroutine\n",
        "async def myFunc2():\n",
        "    print(\"Coroutine 2\")"
      ]
    },
    {
      "cell_type": "markdown",
      "metadata": {
        "id": "BtxYNOQo6LVp"
      },
      "source": [
        "### ***Tasks***"
      ]
    },
    {
      "cell_type": "markdown",
      "metadata": {
        "id": "xkzM5VGO6Olx"
      },
      "source": [
        "Utilities to run asyncio programs, create Tasks, and await on multiple things with timeouts"
      ]
    },
    {
      "cell_type": "markdown",
      "metadata": {
        "id": "xbUPrVJiGshx"
      },
      "source": [
        "### ***1.run()***"
      ]
    },
    {
      "cell_type": "markdown",
      "metadata": {
        "id": "usCbH53qHB56"
      },
      "source": [
        " Create event loop, run a coroutine, close the loop."
      ]
    },
    {
      "cell_type": "markdown",
      "metadata": {
        "id": "a3aecE8IHYCq"
      },
      "source": [
        "This function runs the passed coroutine, taking care of managing the asyncio event loop, finalizing asynchronous generators, and closing the threadpool.\n",
        "\n",
        "This function cannot be called when another asyncio event loop is running in the same thread.\n",
        "\n",
        "If debug is True, the event loop will be run in debug mode.\n",
        "\n",
        "This function always creates a new event loop and closes it at the end. It should be used as a main entry point for asyncio programs, and should ideally only be called once.\n",
        "\n",
        "### syntax: asyncio.run(coro, *, debug=False)"
      ]
    },
    {
      "cell_type": "markdown",
      "metadata": {
        "id": "qiUSSVh0NE3U"
      },
      "source": [
        "***Normal function***"
      ]
    },
    {
      "cell_type": "code",
      "execution_count": 2,
      "metadata": {
        "colab": {
          "base_uri": "https://localhost:8080/"
        },
        "id": "nzXTUuvuNJNB",
        "outputId": "57d40196-6505-426f-f810-3285529a676d"
      },
      "outputs": [
        {
          "name": "stdout",
          "output_type": "stream",
          "text": [
            "hello\n",
            "world\n"
          ]
        }
      ],
      "source": [
        "import asyncio,time\n",
        "\n",
        "def main():\n",
        "  print('hello')\n",
        "  time.sleep(2)\n",
        "  print('world')\n",
        "\n",
        "main()"
      ]
    },
    {
      "cell_type": "markdown",
      "metadata": {
        "id": "NQhKblRdHc6Z"
      },
      "source": [
        "***Example: Asyncio Function***"
      ]
    },
    {
      "cell_type": "code",
      "execution_count": 3,
      "metadata": {
        "colab": {
          "base_uri": "https://localhost:8080/"
        },
        "id": "bzSIL_jSH12T",
        "outputId": "cc7873fb-1ad2-4d93-aaf9-bf2f0d506799"
      },
      "outputs": [
        {
          "ename": "RuntimeError",
          "evalue": "asyncio.run() cannot be called from a running event loop",
          "output_type": "error",
          "traceback": [
            "\u001b[0;31m---------------------------------------------------------------------------\u001b[0m",
            "\u001b[0;31mRuntimeError\u001b[0m                              Traceback (most recent call last)",
            "\u001b[1;32m/Users/edwardfine/Code/DI/python201/asyncio_Api (1).ipynb Cell 16'\u001b[0m in \u001b[0;36m<cell line: 8>\u001b[0;34m()\u001b[0m\n\u001b[1;32m      <a href='vscode-notebook-cell:/Users/edwardfine/Code/DI/python201/asyncio_Api%20%281%29.ipynb#ch0000015?line=4'>5</a>\u001b[0m   \u001b[39mawait\u001b[39;00m asyncio\u001b[39m.\u001b[39msleep(\u001b[39m2\u001b[39m)\n\u001b[1;32m      <a href='vscode-notebook-cell:/Users/edwardfine/Code/DI/python201/asyncio_Api%20%281%29.ipynb#ch0000015?line=5'>6</a>\u001b[0m   \u001b[39mprint\u001b[39m(\u001b[39m'\u001b[39m\u001b[39mworld\u001b[39m\u001b[39m'\u001b[39m)\n\u001b[0;32m----> <a href='vscode-notebook-cell:/Users/edwardfine/Code/DI/python201/asyncio_Api%20%281%29.ipynb#ch0000015?line=7'>8</a>\u001b[0m asyncio\u001b[39m.\u001b[39;49mrun(main())\n",
            "File \u001b[0;32m~/opt/anaconda3/envs/int_py39/lib/python3.9/asyncio/runners.py:33\u001b[0m, in \u001b[0;36mrun\u001b[0;34m(main, debug)\u001b[0m\n\u001b[1;32m      <a href='file:///Users/edwardfine/opt/anaconda3/envs/int_py39/lib/python3.9/asyncio/runners.py?line=8'>9</a>\u001b[0m \u001b[39m\"\"\"Execute the coroutine and return the result.\u001b[39;00m\n\u001b[1;32m     <a href='file:///Users/edwardfine/opt/anaconda3/envs/int_py39/lib/python3.9/asyncio/runners.py?line=9'>10</a>\u001b[0m \n\u001b[1;32m     <a href='file:///Users/edwardfine/opt/anaconda3/envs/int_py39/lib/python3.9/asyncio/runners.py?line=10'>11</a>\u001b[0m \u001b[39mThis function runs the passed coroutine, taking care of\u001b[39;00m\n\u001b[0;32m   (...)\u001b[0m\n\u001b[1;32m     <a href='file:///Users/edwardfine/opt/anaconda3/envs/int_py39/lib/python3.9/asyncio/runners.py?line=29'>30</a>\u001b[0m \u001b[39m    asyncio.run(main())\u001b[39;00m\n\u001b[1;32m     <a href='file:///Users/edwardfine/opt/anaconda3/envs/int_py39/lib/python3.9/asyncio/runners.py?line=30'>31</a>\u001b[0m \u001b[39m\"\"\"\u001b[39;00m\n\u001b[1;32m     <a href='file:///Users/edwardfine/opt/anaconda3/envs/int_py39/lib/python3.9/asyncio/runners.py?line=31'>32</a>\u001b[0m \u001b[39mif\u001b[39;00m events\u001b[39m.\u001b[39m_get_running_loop() \u001b[39mis\u001b[39;00m \u001b[39mnot\u001b[39;00m \u001b[39mNone\u001b[39;00m:\n\u001b[0;32m---> <a href='file:///Users/edwardfine/opt/anaconda3/envs/int_py39/lib/python3.9/asyncio/runners.py?line=32'>33</a>\u001b[0m     \u001b[39mraise\u001b[39;00m \u001b[39mRuntimeError\u001b[39;00m(\n\u001b[1;32m     <a href='file:///Users/edwardfine/opt/anaconda3/envs/int_py39/lib/python3.9/asyncio/runners.py?line=33'>34</a>\u001b[0m         \u001b[39m\"\u001b[39m\u001b[39masyncio.run() cannot be called from a running event loop\u001b[39m\u001b[39m\"\u001b[39m)\n\u001b[1;32m     <a href='file:///Users/edwardfine/opt/anaconda3/envs/int_py39/lib/python3.9/asyncio/runners.py?line=35'>36</a>\u001b[0m \u001b[39mif\u001b[39;00m \u001b[39mnot\u001b[39;00m coroutines\u001b[39m.\u001b[39miscoroutine(main):\n\u001b[1;32m     <a href='file:///Users/edwardfine/opt/anaconda3/envs/int_py39/lib/python3.9/asyncio/runners.py?line=36'>37</a>\u001b[0m     \u001b[39mraise\u001b[39;00m \u001b[39mValueError\u001b[39;00m(\u001b[39m\"\u001b[39m\u001b[39ma coroutine was expected, got \u001b[39m\u001b[39m{!r}\u001b[39;00m\u001b[39m\"\u001b[39m\u001b[39m.\u001b[39mformat(main))\n",
            "\u001b[0;31mRuntimeError\u001b[0m: asyncio.run() cannot be called from a running event loop"
          ]
        }
      ],
      "source": [
        "import asyncio\n",
        "\n",
        "async def main():\n",
        "  print('hello')\n",
        "  await asyncio.sleep(2)\n",
        "  print('world')\n",
        "\n",
        "asyncio.run(main())"
      ]
    },
    {
      "cell_type": "code",
      "execution_count": null,
      "metadata": {
        "colab": {
          "base_uri": "https://localhost:8080/"
        },
        "id": "opbVWhz4hGQp",
        "outputId": "169ee559-62d5-436d-9117-2c35db97bfe4"
      },
      "outputs": [
        {
          "name": "stdout",
          "output_type": "stream",
          "text": [
            "started at 11:09:23\n",
            "hello\n",
            "world\n",
            "finished at 11:09:26\n"
          ]
        }
      ],
      "source": [
        "import asyncio\n",
        "import time\n",
        "\n",
        "async def say_after(delay, what):\n",
        "    await asyncio.sleep(delay)\n",
        "    print(what)\n",
        "\n",
        "async def main():\n",
        "    print(f\"started at {time.strftime('%X')}\")\n",
        "\n",
        "    await say_after(1, 'hello')\n",
        "    await say_after(2, 'world')\n",
        "\n",
        "    print(f\"finished at {time.strftime('%X')}\")\n",
        "\n",
        "asyncio.run(main())"
      ]
    },
    {
      "cell_type": "markdown",
      "metadata": {
        "id": "vPxL_hkHI4_a"
      },
      "source": [
        "### ***2. create_task()***"
      ]
    },
    {
      "cell_type": "markdown",
      "metadata": {
        "id": "I84Q8Oh4I96J"
      },
      "source": [
        "Start an asyncio Task."
      ]
    },
    {
      "cell_type": "markdown",
      "metadata": {
        "id": "BZ8aN83AJL74"
      },
      "source": [
        "Wrap the coro coroutine into a Task and schedule its execution. Return the Task object.\n",
        "\n",
        "If name is not None, it is set as the name of the task using Task.set_name().\n",
        "\n",
        "The task is executed in the loop returned by get_running_loop(), RuntimeError is raised if there is no running loop in current thread."
      ]
    },
    {
      "cell_type": "code",
      "execution_count": null,
      "metadata": {
        "colab": {
          "base_uri": "https://localhost:8080/"
        },
        "id": "EZA78QjlJV4h",
        "outputId": "ed22ddc9-7116-47f2-f02c-0adcb70bfe21"
      },
      "outputs": [
        {
          "name": "stdout",
          "output_type": "stream",
          "text": [
            "hello jack\n",
            "hello jack\n"
          ]
        }
      ],
      "source": [
        "import asyncio\n",
        "\n",
        "async def coro():\n",
        "  print(\"hello jack\")\n",
        "\n",
        "# In Python 3.7+\n",
        "task = asyncio.create_task(coro())\n",
        "\n",
        "# This works in all Python versions but is less readable\n",
        "task = asyncio.ensure_future(coro())"
      ]
    },
    {
      "cell_type": "markdown",
      "metadata": {
        "id": "UxOmKyE5JezQ"
      },
      "source": [
        "### ***3. await sleep()***"
      ]
    },
    {
      "cell_type": "markdown",
      "metadata": {
        "id": "ATOhN158JhbP"
      },
      "source": [
        "Sleep for a number of seconds."
      ]
    },
    {
      "cell_type": "markdown",
      "metadata": {
        "id": "-C2fbPCrJkif"
      },
      "source": [
        "If result is provided, it is returned to the caller when the coroutine completes.\n",
        "\n",
        "sleep() always suspends the current task, allowing other tasks to run.\n",
        "\n",
        "Setting the delay to 0 provides an optimized path to allow other tasks to run. This can be used by long-running functions to avoid blocking the event loop for the full duration of the function call."
      ]
    },
    {
      "cell_type": "markdown",
      "metadata": {
        "id": "yAgXwmyBJ8o3"
      },
      "source": [
        "***Example of coroutine displaying the current date every second for 5 seconds:***"
      ]
    },
    {
      "cell_type": "code",
      "execution_count": null,
      "metadata": {
        "colab": {
          "base_uri": "https://localhost:8080/"
        },
        "id": "JDJXbweEKAMv",
        "outputId": "1ddd9a34-60a5-43ce-d3e6-d589ace2fb2b"
      },
      "outputs": [
        {
          "name": "stdout",
          "output_type": "stream",
          "text": [
            "2022-04-28 11:10:08.512407\n",
            "2022-04-28 11:10:09.513913\n",
            "2022-04-28 11:10:10.515447\n",
            "2022-04-28 11:10:11.516928\n",
            "2022-04-28 11:10:12.518993\n"
          ]
        }
      ],
      "source": [
        "import asyncio\n",
        "import datetime\n",
        "\n",
        "async def display_date():\n",
        "    loop = asyncio.get_running_loop()\n",
        "    end_time = loop.time() + 5.0\n",
        "    while True:\n",
        "        print(datetime.datetime.now())\n",
        "        if (loop.time() + 1.0) >= end_time:\n",
        "            break\n",
        "        await asyncio.sleep(1)\n",
        "\n",
        "asyncio.run(display_date())"
      ]
    },
    {
      "cell_type": "markdown",
      "metadata": {
        "id": "XHp3fcvRKG0I"
      },
      "source": [
        "### ***4. await gather()***"
      ]
    },
    {
      "cell_type": "markdown",
      "metadata": {
        "id": "1SsdoLtRKLsv"
      },
      "source": [
        "Schedule and wait for things concurrently."
      ]
    },
    {
      "cell_type": "markdown",
      "metadata": {
        "id": "rXrNWnn8KeDZ"
      },
      "source": [
        "If return_exceptions is False (default), the first raised exception is immediately propagated to the task that awaits on gather(). Other awaitables in the aws sequence won’t be cancelled and will continue to run.\n",
        "\n",
        "If return_exceptions is True, exceptions are treated the same as successful results, and aggregated in the result list.\n",
        "\n",
        "If gather() is cancelled, all submitted awaitables (that have not completed yet) are also cancelled.\n",
        "\n",
        "If any Task or Future from the aws sequence is cancelled, it is treated as if it raised CancelledError – the gather() call is not cancelled in this case. This is to prevent the cancellation of one submitted Task/Future to cause other Tasks/Futures to be cancelled."
      ]
    },
    {
      "cell_type": "markdown",
      "metadata": {
        "id": "ghQVejAQKi6Y"
      },
      "source": [
        "*** Removed the loop parameter.***"
      ]
    },
    {
      "cell_type": "code",
      "execution_count": null,
      "metadata": {
        "colab": {
          "base_uri": "https://localhost:8080/"
        },
        "id": "feKJEGqQKvMO",
        "outputId": "7017de4d-1dbf-4f5d-d424-434a1a57ceab"
      },
      "outputs": [
        {
          "name": "stdout",
          "output_type": "stream",
          "text": [
            "Task A: Compute factorial(2), currently i=2...\n",
            "Task B: Compute factorial(3), currently i=2...\n",
            "Task C: Compute factorial(4), currently i=2...\n",
            "Task A: factorial(2) = 2\n",
            "Task B: Compute factorial(3), currently i=3...\n",
            "Task C: Compute factorial(4), currently i=3...\n",
            "Task B: factorial(3) = 6\n",
            "Task C: Compute factorial(4), currently i=4...\n",
            "Task C: factorial(4) = 24\n",
            "[2, 6, 24]\n"
          ]
        }
      ],
      "source": [
        "import asyncio\n",
        "\n",
        "async def factorial(name, number):\n",
        "    f = 1\n",
        "    for i in range(2, number + 1):\n",
        "        print(f\"Task {name}: Compute factorial({number}), currently i={i}...\")\n",
        "        await asyncio.sleep(1)\n",
        "        f *= i\n",
        "    print(f\"Task {name}: factorial({number}) = {f}\")\n",
        "    return f\n",
        "\n",
        "async def main():\n",
        "    # Schedule three calls *concurrently*:\n",
        "    L = await asyncio.gather(\n",
        "        factorial(\"A\", 2),\n",
        "        factorial(\"B\", 3),\n",
        "        factorial(\"C\", 4),\n",
        "    )\n",
        "    print(L)\n",
        "\n",
        "asyncio.run(main())\n"
      ]
    },
    {
      "cell_type": "markdown",
      "metadata": {
        "id": "WTpuxm4iK8YO"
      },
      "source": [
        " If return_exceptions is False, cancelling gather() after it has been marked done won’t cancel any submitted awaitables. For instance, gather can be marked done after propagating an exception to the caller, therefore, calling gather.cancel() after catching an exception (raised by one of the awaitables) from gather won’t cancel any other awaitables."
      ]
    },
    {
      "cell_type": "markdown",
      "metadata": {
        "id": "w81yeWlyLAAg"
      },
      "source": [
        "***5. await wait_for()***"
      ]
    },
    {
      "cell_type": "markdown",
      "metadata": {
        "id": "FPqV0CVyLgbn"
      },
      "source": [
        "To avoid the task cancellation, wrap it in shield().\n",
        "\n",
        "The function will wait until the future is actually cancelled, so the total wait time may exceed the timeout. If an exception happens during cancellation, it is propagated.\n",
        "\n",
        "If the wait is cancelled, the future aw is also cancelled."
      ]
    },
    {
      "cell_type": "markdown",
      "metadata": {
        "id": "F7T8Iyr6Li43"
      },
      "source": [
        "### ***Example***"
      ]
    },
    {
      "cell_type": "code",
      "execution_count": null,
      "metadata": {
        "colab": {
          "base_uri": "https://localhost:8080/"
        },
        "id": "Bj1t-XhoLpRg",
        "outputId": "c28897fa-c483-43d5-9dbb-056d558ba9b4"
      },
      "outputs": [
        {
          "name": "stdout",
          "output_type": "stream",
          "text": [
            "timeout!\n"
          ]
        }
      ],
      "source": [
        "import asyncio\n",
        "async def eternity():\n",
        "    # Sleep for one hour\n",
        "    await asyncio.sleep(3600)\n",
        "    print('yay!')\n",
        "\n",
        "async def main():\n",
        "    # Wait for at most 1 second\n",
        "    try:\n",
        "        await asyncio.wait_for(eternity(), timeout=3.0)\n",
        "    except asyncio.TimeoutError:\n",
        "        print('timeout!')\n",
        "\n",
        "asyncio.run(main())\n"
      ]
    },
    {
      "cell_type": "markdown",
      "metadata": {
        "id": "ixrN6cgLLyiG"
      },
      "source": [
        "# ***5. await shield(aw)***"
      ]
    },
    {
      "cell_type": "markdown",
      "metadata": {
        "id": "lk_aBYhWMtgd"
      },
      "source": [
        "If aw is a coroutine it is automatically scheduled as a Task.\n",
        "\n",
        "The statement:\n",
        "\n",
        "***res = await shield(something())***\n",
        "\n",
        "is equivalent to:\n",
        "\n",
        "***res = await something()***"
      ]
    },
    {
      "cell_type": "markdown",
      "metadata": {
        "id": "W7I6SFb9M7ue"
      },
      "source": [
        "except that if the coroutine containing it is cancelled, the Task running in something() is not cancelled. From the point of view of something(), the cancellation did not happen. Although its caller is still cancelled, so the “await” expression still raises a CancelledError.\n",
        "\n",
        "If something() is cancelled by other means (i.e. from within itself) that would also cancel shield().\n",
        "\n",
        "If it is desired to completely ignore cancellation (not recommended) the shield() function should be combined with a try/except clause, as follows:"
      ]
    },
    {
      "cell_type": "markdown",
      "metadata": {
        "id": "ydTVOZ-6vGVO"
      },
      "source": [
        "***get_event_loop()***\n",
        "\n",
        "\n",
        "The main component of any asyncio based Python program has to be the underlying event loop."
      ]
    },
    {
      "cell_type": "markdown",
      "metadata": {
        "id": "jtvjv7OtvX0V"
      },
      "source": [
        "**Let’s take a quick look at how you can define a very simple event loop. In order to instantiate an event loop we’ll use asyncio.get_event_loop(), we’ll then start a try... finally and within the body of our try we’ll specify that we want our newly instantiated event loop to run until it has completed our myCoroutine() function.**"
      ]
    },
    {
      "cell_type": "code",
      "execution_count": null,
      "metadata": {
        "colab": {
          "base_uri": "https://localhost:8080/"
        },
        "id": "0etLAnUPvcrV",
        "outputId": "767b28fb-23b6-4818-f8cf-632b9565da13"
      },
      "outputs": [
        {
          "name": "stdout",
          "output_type": "stream",
          "text": [
            "Starting Work\n",
            "Finishing Work\n",
            "jack\n",
            "exit from the  loop\n"
          ]
        }
      ],
      "source": [
        "import asyncio\n",
        "import time\n",
        "\n",
        "async def myWork():\n",
        "  print(\"Starting Work\")\n",
        "  time.sleep(3)\n",
        "  print(\"Finishing Work\")\n",
        "\n",
        "loop = asyncio.get_event_loop()\n",
        "try:\n",
        "  loop.run_until_complete(myWork())\n",
        "  print(\"jack\")\n",
        "finally:\n",
        "  print(\"exit from the  loop\")"
      ]
    },
    {
      "cell_type": "code",
      "execution_count": null,
      "metadata": {
        "colab": {
          "base_uri": "https://localhost:8080/"
        },
        "id": "zTDsSzOCM9aA",
        "outputId": "77026ec8-5ac6-4b2d-ca7e-df372c001634"
      },
      "outputs": [
        {
          "name": "stdout",
          "output_type": "stream",
          "text": [
            "0\n",
            "Task Executed\n",
            "Task Executed\n",
            "Task Executed\n",
            "1\n",
            "This gets called at 3, not 5\n",
            "write something\n"
          ]
        }
      ],
      "source": [
        "import asyncio\n",
        "\n",
        "async def count_number(n): #count the number\n",
        "  for i in range(n):\n",
        "    print(i)\n",
        "    await asyncio.sleep(3)\n",
        "\n",
        "async def call_shield():\n",
        "  try:\n",
        "    await asyncio.shield(count_number(5))\n",
        "  except asyncio.CancelledError:\n",
        "    print('This gets called at 3, not 5')\n",
        "  return \"write something\"\n",
        "\n",
        "async def shield_sleep(info):\n",
        "  await asyncio.sleep(3)\n",
        "  info.cancel()\n",
        "\n",
        "async def main():\n",
        "  info = asyncio.ensure_future(call_shield())\n",
        "  ct = asyncio.ensure_future(shield_sleep(info)) #return None\n",
        "  store_shield_sleep = await info\n",
        "  print(store_shield_sleep)\n",
        "\n",
        "loop = asyncio.get_event_loop()\n",
        "loop.run_until_complete(main())"
      ]
    },
    {
      "cell_type": "code",
      "execution_count": null,
      "metadata": {
        "colab": {
          "base_uri": "https://localhost:8080/"
        },
        "id": "VYDgE5ubrFBT",
        "outputId": "5b83cb1e-e0f5-42ca-a681-c3ec097020fa"
      },
      "outputs": [
        {
          "name": "stdout",
          "output_type": "stream",
          "text": [
            "starting\n"
          ]
        },
        {
          "name": "stderr",
          "output_type": "stream",
          "text": [
            "Exception ignored in: <coroutine object sleep at 0x7f0639942ef0>\n",
            "KeyError: ('__builtins__',)\n",
            "<string>:27: RuntimeWarning: coroutine 'sleep' was never awaited\n"
          ]
        },
        {
          "name": "stdout",
          "output_type": "stream",
          "text": [
            "cancellation effected\n",
            "done sleep\n"
          ]
        }
      ],
      "source": [
        "import asyncio\n",
        "async def coro():\n",
        "    print('starting')\n",
        "    await asyncio.sleep(2)\n",
        "    print('done sleep')\n",
        "\n",
        "async def cancel_it(some_task):\n",
        "    await asyncio.sleep(0.5)\n",
        "    some_task.cancel()\n",
        "    print('cancellation effected')\n",
        "\n",
        "async def main():\n",
        "    loop = asyncio.get_event_loop()\n",
        "    real_task = loop.create_task(coro())\n",
        "    shield = asyncio.shield(real_task)\n",
        "    # cancel the shield in the background while we're waiting\n",
        "    loop.create_task(cancel_it(shield))\n",
        "    await real_task\n",
        "\n",
        "    assert not real_task.cancelled()\n",
        "    assert shield.cancelled()\n",
        "\n",
        "asyncio.get_event_loop().run_until_complete(main())"
      ]
    },
    {
      "cell_type": "markdown",
      "metadata": {
        "id": "iTvNTRWlNFll"
      },
      "source": [
        "### ***6. await wait()***"
      ]
    },
    {
      "cell_type": "markdown",
      "metadata": {
        "id": "l4jE6hMJNIuW"
      },
      "source": [
        "\t\n",
        "Monitor for completion."
      ]
    },
    {
      "cell_type": "markdown",
      "metadata": {
        "id": "d4I6TwoFNPB9"
      },
      "source": [
        "### Syntax : coroutine asyncio.wait(aws, *, timeout=None, return_when=ALL_COMPLETED)"
      ]
    },
    {
      "cell_type": "markdown",
      "metadata": {
        "id": "gVp9H6m1Ncy8"
      },
      "source": [
        "Returns two sets of Tasks/Futures: (done, pending).\n",
        "\n",
        "Run awaitable objects in the aws iterable concurrently and block until the condition specified by return_when.\n",
        "\n",
        "The aws iterable must not be empty.\n",
        "\n",
        "Returns two sets of Tasks/Futures: (done, pending).\n",
        "\n",
        "### Usage:\n",
        "\n",
        "***done, pending = await asyncio.wait(aws)***"
      ]
    },
    {
      "cell_type": "markdown",
      "metadata": {
        "id": "ej1qlUdSs37u"
      },
      "source": [
        "timeout (a float or int), if specified, can be used to control the maximum number of seconds to wait before returning.\n",
        "\n",
        "Note that this function does not raise asyncio.TimeoutError. Futures or Tasks that aren’t done when the timeout occurs are simply returned in the second set.\n",
        "\n",
        "return_when indicates when this function should return. It must be one of the following constants:"
      ]
    },
    {
      "cell_type": "markdown",
      "metadata": {
        "id": "EmCVFPi_s8W3"
      },
      "source": [
        "Unlike wait_for(), wait() does not cancel the futures when a timeout occurs."
      ]
    },
    {
      "cell_type": "code",
      "execution_count": null,
      "metadata": {
        "colab": {
          "base_uri": "https://localhost:8080/"
        },
        "id": "rOPFQ7mtyndD",
        "outputId": "15b3ca10-c424-4ab7-9b44-5618d45ef6e7"
      },
      "outputs": [
        {
          "name": "stdout",
          "output_type": "stream",
          "text": [
            "Get first result:\n",
            "> 3\n",
            "> 10\n",
            "> 1\n",
            "> 2\n",
            "> 9\n",
            "> 7\n",
            "> 6\n",
            "> 5\n",
            "> 4\n",
            "> 8\n",
            "< 6\n",
            "6\n",
            "unfinished: 9\n",
            "Get more results in 2 seconds:\n",
            "< 7\n",
            "< 10\n",
            "< 8\n",
            "< 9\n",
            "< 4\n",
            "9\n",
            "8\n",
            "7\n",
            "4\n",
            "10\n",
            "unfinished2: 4\n",
            "Get all other results:\n",
            "< 2\n",
            "< 1\n",
            "< 5\n",
            "< 3\n",
            "1\n",
            "2\n",
            "5\n",
            "3\n",
            "exit from the  loop\n"
          ]
        }
      ],
      "source": [
        "import asyncio,random\n",
        "async def coro(tag):\n",
        "    print(\">\", tag)\n",
        "    await asyncio.sleep(random.uniform(0.5, 5))\n",
        "    print(\"<\", tag)\n",
        "    return tag\n",
        "\n",
        "\n",
        "loop = asyncio.get_event_loop() #You've already read the above (await shield(aw)) page.\n",
        "\n",
        "tasks = [coro(i) for i in range(1, 11)]\n",
        "\n",
        "print(\"Get first result:\")\n",
        "finished, unfinished = loop.run_until_complete(\n",
        "    asyncio.wait(tasks, return_when=asyncio.FIRST_COMPLETED))\n",
        "\n",
        "for task in finished:\n",
        "    print(task.result())\n",
        "print(\"unfinished:\", len(unfinished))\n",
        "\n",
        "print(\"Get more results in 2 seconds:\")\n",
        "finished2, unfinished2 = loop.run_until_complete(\n",
        "    asyncio.wait(unfinished, timeout=2))\n",
        "\n",
        "for task in finished2:\n",
        "    print(task.result())\n",
        "print(\"unfinished2:\", len(unfinished2))\n",
        "\n",
        "print(\"Get all other results:\")\n",
        "finished3, unfinished3 = loop.run_until_complete(asyncio.wait(unfinished2))\n",
        "\n",
        "for task in finished3:\n",
        "    print(task.result())\n",
        "\n",
        "print(\"exit from the  loop\")"
      ]
    },
    {
      "cell_type": "markdown",
      "metadata": {
        "id": "fXnrQ3zROBhU"
      },
      "source": [
        "### ***7. current_task()***"
      ]
    },
    {
      "cell_type": "markdown",
      "metadata": {
        "id": "ztmKO2kNOHQ3"
      },
      "source": [
        "\t\n",
        "Return the current Task."
      ]
    },
    {
      "cell_type": "markdown",
      "metadata": {
        "id": "HW3ymFoDNm7e"
      },
      "source": [
        "***syntax : asyncio.current_task(loop=None)***"
      ]
    },
    {
      "cell_type": "markdown",
      "metadata": {
        "id": "I1dX9jOhNtGe"
      },
      "source": [
        "Return the currently running Task instance, or None if no task is running.\n",
        "\n",
        "If loop is None get_running_loop() is used to get the current loop."
      ]
    },
    {
      "cell_type": "markdown",
      "metadata": {
        "id": "_SNwEnnfN6xO"
      },
      "source": [
        "### ***8.all_tasks()***"
      ]
    },
    {
      "cell_type": "markdown",
      "metadata": {
        "id": "jPb5BhZVOKYG"
      },
      "source": [
        "Return all tasks for an event loop.\n",
        "\n",
        "**asyncio.all_tasks(loop=None)**"
      ]
    },
    {
      "cell_type": "markdown",
      "metadata": {
        "id": "OH75jn8mqkCI"
      },
      "source": [
        "Being able to ascertain what tasks are currently pending can be important for systems in production needing to be able to anticipate things such as workload etc. The all_tasks() method gives us some incite as to what tasks are currently in a pending state before they are executed by our event loop."
      ]
    },
    {
      "cell_type": "code",
      "execution_count": null,
      "metadata": {
        "colab": {
          "base_uri": "https://localhost:8080/"
        },
        "id": "xIpjUdleOP4c",
        "outputId": "19da7c7b-c4b1-4090-b645-b4196984d115"
      },
      "outputs": [
        {
          "name": "stdout",
          "output_type": "stream",
          "text": [
            "{<Task pending coro=<myTask() running at <ipython-input-122-930d022e314c>:4>>, <Task finished coro=<coro() done, defined at <ipython-input-121-bb5eafd543f5>:2> result=5>, <Task finished coro=<sleep() done, defined at /usr/lib/python3.7/asyncio/tasks.py:582> result=3>, <Task finished coro=<coro() done, defined at <ipython-input-121-bb5eafd543f5>:2> result=1>, <Task pending coro=<myTask() running at <ipython-input-122-930d022e314c>:4>>, <Task finished coro=<coro() done, defined at <ipython-input-121-bb5eafd543f5>:2> result=8>, <Task finished coro=<main() done, defined at <ipython-input-26-7af1c80f4abc>:3> result=None>, <Task finished coro=<tcp_echo_client() done, defined at <ipython-input-55-163cf17985ff>:3> exception=ConnectionRefusedError(111, \"Connect call failed ('127.0.0.1', 8000)\")>, <Task finished coro=<coro() done, defined at <ipython-input-121-bb5eafd543f5>:2> result=10>, <Task finished coro=<main() done, defined at <ipython-input-27-fd0c48040b80>:3> result=None>, <Task pending coro=<myTask() running at <ipython-input-122-930d022e314c>:4>>, <Task pending coro=<main() running at <ipython-input-122-930d022e314c>:12>>, <Task finished coro=<coro() done, defined at <ipython-input-121-bb5eafd543f5>:2> result=3>, <Task finished coro=<coro() done, defined at <ipython-input-121-bb5eafd543f5>:2> result=6>, <Task finished coro=<coro() done, defined at <ipython-input-121-bb5eafd543f5>:2> result=7>, <Task finished coro=<coro() done, defined at <ipython-input-121-bb5eafd543f5>:2> result=4>, <Task finished coro=<coro() done, defined at <ipython-input-121-bb5eafd543f5>:2> result=2>, <Task finished coro=<main() done, defined at <ipython-input-25-c5da1aa0eb5a>:3> result=None>, <Task finished coro=<coro() done, defined at <ipython-input-121-bb5eafd543f5>:2> result=9>, <Task finished coro=<tcp_echo_client() done, defined at <ipython-input-86-20974c8a0d5f>:3> exception=ConnectionRefusedError(111, \"Connect call failed ('127.0.0.1', 8000)\")>, <Task pending coro=<myTask() running at <ipython-input-122-930d022e314c>:4>>, <Task finished coro=<main() done, defined at <ipython-input-24-7e9c520be881>:3> result=None>, <Task pending coro=<myTask() running at <ipython-input-122-930d022e314c>:4>>}\n",
            "Completed All Tasks\n",
            "close loop\n"
          ]
        }
      ],
      "source": [
        "import asyncio\n",
        "import time\n",
        "\n",
        "async def myTask():\n",
        "    time.sleep(1)\n",
        "    print(\"Processing Task\")\n",
        "\n",
        "async def main():\n",
        "    for i in range(5):\n",
        "        asyncio.ensure_future(myTask())\n",
        "    pending = asyncio.Task.all_tasks()\n",
        "    print(pending)\n",
        "\n",
        "loop = asyncio.get_event_loop()\n",
        "loop.run_until_complete(main())\n",
        "print(\"Completed All Tasks\")\n",
        "print(\"close loop\")"
      ]
    },
    {
      "cell_type": "markdown",
      "metadata": {
        "id": "b3Lxpo_bOYCN"
      },
      "source": [
        "Return a set of not yet finished Task objects run by the loop.\n",
        "\n",
        "If loop is None, get_running_loop() is used for getting current loop."
      ]
    },
    {
      "cell_type": "markdown",
      "metadata": {
        "id": "mSQVY5NoOccE"
      },
      "source": [
        "### ***9. Task***"
      ]
    },
    {
      "cell_type": "markdown",
      "metadata": {
        "id": "lXuvo3avOu53"
      },
      "source": [
        "\t\n",
        "Task object."
      ]
    },
    {
      "cell_type": "markdown",
      "metadata": {
        "id": "_tb2yxpgOjFU"
      },
      "source": [
        "### syntax : class asyncio.Task(coro, *, loop=None, name=None)"
      ]
    },
    {
      "cell_type": "markdown",
      "metadata": {
        "id": "6eReJ_QsO53k"
      },
      "source": [
        "Tasks are used to run coroutines in event loops. If a coroutine awaits on a Future, the Task suspends the execution of the coroutine and waits for the completion of the Future. When the Future is done, the execution of the wrapped coroutine resumes.\n",
        "\n",
        "Event loops use cooperative scheduling: an event loop runs one Task at a time. While a Task awaits for the completion of a Future, the event loop runs other Tasks, callbacks, or performs IO operations.\n",
        "\n",
        "Use the high-level asyncio.create_task() function to create Tasks, or the low-level loop.create_task() or ensure_future() functions. Manual instantiation of Tasks is discouraged.\n",
        "\n",
        "To cancel a running Task use the cancel() method. Calling it will cause the Task to throw a CancelledError exception into the wrapped coroutine. If a coroutine is awaiting on a Future object during cancellation, the Future object will be cancelled."
      ]
    },
    {
      "cell_type": "markdown",
      "metadata": {
        "id": "MC2tU3tNRIka"
      },
      "source": [
        "***The following example illustrates how coroutines can intercept the cancellation request:***"
      ]
    },
    {
      "cell_type": "code",
      "execution_count": null,
      "metadata": {
        "colab": {
          "base_uri": "https://localhost:8080/"
        },
        "id": "4WIZZDK6QOMr",
        "outputId": "0fbb1928-3a52-4d0b-93b8-5538a36d1388"
      },
      "outputs": [
        {
          "name": "stdout",
          "output_type": "stream",
          "text": [
            "cancel_me(): before sleep\n",
            "cancel_me(): cancel sleep\n",
            "cancel_me(): after sleep\n",
            "main(): cancel_me is cancelled now\n"
          ]
        }
      ],
      "source": [
        "import asyncio,time\n",
        "async def cancel_me():\n",
        "    print('cancel_me(): before sleep')\n",
        "\n",
        "    try:\n",
        "        # Wait for 1 hour\n",
        "        await asyncio.sleep(3600)\n",
        "    except asyncio.CancelledError:\n",
        "        print('cancel_me(): cancel sleep')\n",
        "        raise\n",
        "    finally:\n",
        "        print('cancel_me(): after sleep')\n",
        "\n",
        "async def main():\n",
        "    # Create a \"cancel_me\" Task\n",
        "    task = asyncio.create_task(cancel_me())\n",
        "\n",
        "    # Wait for 1 second\n",
        "    await asyncio.sleep(1)\n",
        "\n",
        "    task.cancel()\n",
        "    try:\n",
        "        await task\n",
        "    except asyncio.CancelledError:\n",
        "        print(\"main(): cancel_me is cancelled now\")\n",
        "\n",
        "asyncio.run(main())"
      ]
    },
    {
      "cell_type": "markdown",
      "metadata": {
        "id": "PzFcFo63O_5k"
      },
      "source": [
        "### ***10. to_thread()***\n",
        "\n"
      ]
    },
    {
      "cell_type": "markdown",
      "metadata": {
        "id": "hNe7mu5dPN3O"
      },
      "source": [
        "\t\n",
        "Asynchronously run a function in a separate OS thread."
      ]
    },
    {
      "cell_type": "markdown",
      "metadata": {
        "id": "Q1ZQX-LQRR4c"
      },
      "source": [
        "### syntax : coroutine asyncio.to_thread(func, /, *args, **kwargs)"
      ]
    },
    {
      "cell_type": "markdown",
      "metadata": {
        "id": "ht52DoOpRVHs"
      },
      "source": [
        "Asynchronously run function func in a separate thread.\n",
        "\n",
        "Any *args and **kwargs supplied for this function are directly passed to func. Also, the current contextvars.Context is propagated, allowing context variables from the event loop thread to be accessed in the separate thread.\n",
        "\n",
        "Return a coroutine that can be awaited to get the eventual result of func.\n",
        "\n",
        "This coroutine function is primarily intended to be used for executing IO-bound functions/methods that would otherwise block the event loop if they were ran in the main thread. For example:"
      ]
    },
    {
      "cell_type": "markdown",
      "metadata": {
        "id": "k4GxkvTvDzDs"
      },
      "source": [
        "***to_thread is only available in python 3.9+, if you are working with python 3.8 or an older version***"
      ]
    },
    {
      "cell_type": "code",
      "execution_count": null,
      "metadata": {
        "id": "3ao-T2VND4mF"
      },
      "outputs": [],
      "source": [
        "import asyncio,time\n",
        "def blocking_io():\n",
        "    print(f\"start blocking_io at {time.strftime('%X')}\")\n",
        "    # Note that time.sleep() can be replaced with any blocking\n",
        "    # IO-bound operation, such as file operations.\n",
        "    time.sleep(1)\n",
        "    print(f\"blocking_io complete at {time.strftime('%X')}\")\n",
        "\n",
        "async def main():\n",
        "    print(f\"started main at {time.strftime('%X')}\")\n",
        "\n",
        "    await asyncio.gather(\n",
        "        asyncio.to_thread(blocking_io),\n",
        "        asyncio.sleep(1))\n",
        "\n",
        "    print(f\"finished main at {time.strftime('%X')}\")\n",
        "\n",
        "\n",
        "asyncio.run(main())"
      ]
    },
    {
      "cell_type": "markdown",
      "metadata": {
        "id": "4VtnU-w8Rkyj"
      },
      "source": [
        "Directly calling blocking_io() in any coroutine would block the event loop for its duration, resulting in an additional 1 second of run time. Instead, by using asyncio.to_thread(), we can run it in a separate thread without blocking the event loop."
      ]
    },
    {
      "cell_type": "markdown",
      "metadata": {
        "id": "5l2kvtO1Rpsz"
      },
      "source": [
        "# ***11.run_coroutine_threadsafe()***"
      ]
    },
    {
      "cell_type": "markdown",
      "metadata": {
        "id": "tglrqgg_RsAm"
      },
      "source": [
        "\t\n",
        "Schedule a coroutine from another OS thread."
      ]
    },
    {
      "cell_type": "markdown",
      "metadata": {
        "id": "WGXYmVraRwS6"
      },
      "source": [
        "### syntax : asyncio.run_coroutine_threadsafe(coro, loop)"
      ]
    },
    {
      "cell_type": "markdown",
      "metadata": {
        "id": "A8QGK-EpR06L"
      },
      "source": [
        "***example***"
      ]
    },
    {
      "cell_type": "code",
      "execution_count": null,
      "metadata": {
        "colab": {
          "base_uri": "https://localhost:8080/"
        },
        "id": "mLCTp9_rH8eC",
        "outputId": "da7e412e-4f99-4f49-949f-03fdffbdb0dc"
      },
      "outputs": [
        {
          "name": "stdout",
          "output_type": "stream",
          "text": [
            "Task Executed\n",
            "Task Executed\n",
            "Task Executed\n",
            "3\n"
          ]
        }
      ],
      "source": [
        "import asyncio\n",
        "async def stop():\n",
        "    await asyncio.sleep(3)\n",
        "\n",
        "event_loop = asyncio.get_event_loop()\n",
        "coro = asyncio.sleep(1, result=3)\n",
        "future = asyncio.run_coroutine_threadsafe(coro, event_loop)\n",
        "event_loop.run_until_complete(stop())\n",
        "print(future.result())"
      ]
    },
    {
      "cell_type": "markdown",
      "metadata": {
        "id": "6To2Ah_uR4zE"
      },
      "source": [
        "If an exception is raised in the coroutine, the returned Future will be notified. It can also be used to cancel the task in the event loop:"
      ]
    },
    {
      "cell_type": "markdown",
      "metadata": {
        "id": "fPxtacXwR-Dr"
      },
      "source": [
        "# ***12. for in as_completed()***"
      ]
    },
    {
      "cell_type": "markdown",
      "metadata": {
        "id": "-hRCrEMaSeOa"
      },
      "source": [
        "\t\n",
        "Monitor for completion with a for loop."
      ]
    },
    {
      "cell_type": "markdown",
      "metadata": {
        "id": "3YphPWoFSCDr"
      },
      "source": [
        "### syntax: asyncio.as_completed(aws, *, timeout=None)"
      ]
    },
    {
      "cell_type": "markdown",
      "metadata": {
        "id": "xQQECBifSGni"
      },
      "source": [
        "***Example:***\n",
        "\n",
        "for coro in as_completed(aws):\n",
        "\n",
        "    earliest_result = await coro"
      ]
    },
    {
      "cell_type": "code",
      "execution_count": null,
      "metadata": {
        "id": "1wdPn8TWSJqK"
      },
      "outputs": [],
      "source": []
    },
    {
      "cell_type": "markdown",
      "metadata": {
        "id": "KuQ9GpNdSj7Z"
      },
      "source": [
        "# ***Queues***"
      ]
    },
    {
      "cell_type": "markdown",
      "metadata": {
        "id": "q-3juJ0rS9Ka"
      },
      "source": [
        "Queues should be used to distribute work amongst multiple asyncio Tasks, implement connection pools, and pub/sub patterns."
      ]
    },
    {
      "cell_type": "markdown",
      "metadata": {
        "id": "KfXOgQicTLj7"
      },
      "source": [
        "## ***Queue***"
      ]
    },
    {
      "cell_type": "markdown",
      "metadata": {
        "id": "YZlu5VF8TT6y"
      },
      "source": [
        "Queue is a FIFO queue.\n",
        "\n",
        "### Syntax: class asyncio.Queue(maxsize=0)."
      ]
    },
    {
      "cell_type": "markdown",
      "metadata": {
        "id": "ckyRegzwT1VJ"
      },
      "source": [
        "A first in, first out (FIFO) queue.\n",
        "\n",
        "If maxsize is less than or equal to zero, the queue size is infinite. If it is an integer greater than 0, then await put() blocks when the queue reaches maxsize until an item is removed by get().\n",
        "\n",
        "Unlike the standard library threading queue, the size of the queue is always known and can be returned by calling the qsize() method."
      ]
    },
    {
      "cell_type": "markdown",
      "metadata": {
        "id": "Jkpn1cNWUI55"
      },
      "source": [
        "***Queues can be used to distribute workload between several concurrent tasks:***"
      ]
    },
    {
      "cell_type": "code",
      "execution_count": null,
      "metadata": {
        "colab": {
          "base_uri": "https://localhost:8080/"
        },
        "id": "96WB-YMOUTIy",
        "outputId": "75618421-1b6f-4e41-fb29-d30cebbad794"
      },
      "outputs": [
        {
          "name": "stdout",
          "output_type": "stream",
          "text": [
            "worker-1 has slept for 0.20 seconds\n",
            "worker-2 has slept for 0.31 seconds\n",
            "worker-1 has slept for 0.11 seconds\n",
            "worker-1 has slept for 0.19 seconds\n",
            "worker-0 has slept for 0.51 seconds\n",
            "worker-0 has slept for 0.34 seconds\n",
            "worker-1 has slept for 0.59 seconds\n",
            "worker-2 has slept for 0.87 seconds\n",
            "worker-1 has slept for 0.27 seconds\n",
            "worker-2 has slept for 0.23 seconds\n",
            "worker-1 has slept for 0.25 seconds\n",
            "worker-0 has slept for 0.90 seconds\n",
            "worker-2 has slept for 0.45 seconds\n",
            "worker-1 has slept for 0.30 seconds\n",
            "worker-2 has slept for 0.20 seconds\n",
            "worker-0 has slept for 0.63 seconds\n",
            "worker-1 has slept for 0.73 seconds\n",
            "worker-2 has slept for 0.59 seconds\n",
            "worker-0 has slept for 0.88 seconds\n",
            "worker-1 has slept for 0.97 seconds\n",
            "====\n",
            "3 workers slept in parallel for 3.61 seconds\n",
            "total expected sleep time: 9.52 seconds\n"
          ]
        }
      ],
      "source": [
        "import asyncio\n",
        "import random\n",
        "import time\n",
        "\n",
        "\n",
        "async def worker(name, queue):\n",
        "    while True:\n",
        "        # Get a \"work item\" out of the queue.\n",
        "        sleep_for = await queue.get()\n",
        "\n",
        "        # Sleep for the \"sleep_for\" seconds.\n",
        "        await asyncio.sleep(sleep_for)\n",
        "\n",
        "        # Notify the queue that the \"work item\" has been processed.\n",
        "        queue.task_done()\n",
        "\n",
        "        print(f'{name} has slept for {sleep_for:.2f} seconds')\n",
        "\n",
        "\n",
        "async def main():\n",
        "    # Create a queue that we will use to store our \"workload\".\n",
        "    queue = asyncio.Queue()\n",
        "\n",
        "    # Generate random timings and put them into the queue.\n",
        "    total_sleep_time = 0\n",
        "    for _ in range(20):\n",
        "        sleep_for = random.uniform(0.05, 1.0)\n",
        "        total_sleep_time += sleep_for\n",
        "        queue.put_nowait(sleep_for)\n",
        "\n",
        "    # Create three worker tasks to process the queue concurrently.\n",
        "    tasks = []\n",
        "    for i in range(3):\n",
        "        task = asyncio.create_task(worker(f'worker-{i}', queue))\n",
        "        tasks.append(task)\n",
        "\n",
        "    # Wait until the queue is fully processed.\n",
        "    started_at = time.monotonic()\n",
        "    await queue.join()\n",
        "    total_slept_for = time.monotonic() - started_at\n",
        "\n",
        "    # Cancel our worker tasks.\n",
        "    for task in tasks:\n",
        "        task.cancel()\n",
        "    # Wait until all worker tasks are cancelled.\n",
        "    await asyncio.gather(*tasks, return_exceptions=True)\n",
        "\n",
        "    print('====')\n",
        "    print(f'3 workers slept in parallel for {total_slept_for:.2f} seconds')\n",
        "    print(f'total expected sleep time: {total_sleep_time:.2f} seconds')\n",
        "\n",
        "\n",
        "asyncio.run(main())"
      ]
    },
    {
      "cell_type": "markdown",
      "metadata": {
        "id": "9iYRVUB6UcUo"
      },
      "source": [
        "## ***PriorityQueue***"
      ]
    },
    {
      "cell_type": "markdown",
      "metadata": {
        "id": "WKqGfploUpOo"
      },
      "source": [
        "A priorityQueue is a priority queue.\n",
        "\n",
        "### Syntax: class asyncio.PriorityQueue"
      ]
    },
    {
      "cell_type": "markdown",
      "metadata": {
        "id": "rZNdsVdYU4b5"
      },
      "source": [
        "A variant of Queue; retrieves entries in priority order (lowest first).\n",
        "\n",
        "Entries are typically tuples of the form (priority_number, data)."
      ]
    },
    {
      "cell_type": "markdown",
      "metadata": {
        "id": "siWPAR8aU9Xx"
      },
      "source": [
        "## ***LifoQueue***"
      ]
    },
    {
      "cell_type": "markdown",
      "metadata": {
        "id": "2ONYUesCVEMZ"
      },
      "source": [
        "### ***Syntax : class asyncio.LifoQueue***"
      ]
    },
    {
      "cell_type": "markdown",
      "metadata": {
        "id": "yfe2bj95VITh"
      },
      "source": [
        "A variant of Queue that retrieves most recently added entries first (last in, first out)."
      ]
    },
    {
      "cell_type": "markdown",
      "metadata": {
        "id": "1jUYOlftVT2r"
      },
      "source": [
        "# ***Subprocesses***"
      ]
    },
    {
      "cell_type": "markdown",
      "metadata": {
        "id": "kWI142P-VmnJ"
      },
      "source": [
        "Utilities to spawn subprocesses and run shell commands.\n",
        "\n",
        "This section describes high-level async/await asyncio APIs to create and manage subprocesses.\n",
        "\n"
      ]
    },
    {
      "cell_type": "code",
      "execution_count": null,
      "metadata": {
        "colab": {
          "base_uri": "https://localhost:8080/"
        },
        "id": "V8Q1x1ECWrnf",
        "outputId": "866026bb-fa45-4abe-c02a-7111325cd157"
      },
      "outputs": [
        {
          "name": "stdout",
          "output_type": "stream",
          "text": [
            "['ls /zzz' exited with 2]\n",
            "[stderr]\n",
            "ls: cannot access '/zzz': No such file or directory\n",
            "\n"
          ]
        }
      ],
      "source": [
        "import asyncio\n",
        "\n",
        "async def run(cmd):\n",
        "    proc = await asyncio.create_subprocess_shell(\n",
        "        cmd,\n",
        "        stdout=asyncio.subprocess.PIPE,\n",
        "        stderr=asyncio.subprocess.PIPE)\n",
        "\n",
        "    stdout, stderr = await proc.communicate()\n",
        "\n",
        "    print(f'[{cmd!r} exited with {proc.returncode}]')\n",
        "    if stdout:\n",
        "        print(f'[stdout]\\n{stdout.decode()}')\n",
        "    if stderr:\n",
        "        print(f'[stderr]\\n{stderr.decode()}')\n",
        "\n",
        "asyncio.run(run('ls /zzz'))"
      ]
    },
    {
      "cell_type": "markdown",
      "metadata": {
        "id": "KAmRw4X4Vo2r"
      },
      "source": [
        "### ***await create_subprocess_exec()***"
      ]
    },
    {
      "cell_type": "markdown",
      "metadata": {
        "id": "FaLz1IRkVs7p"
      },
      "source": [
        "### Syntax: coroutine asyncio.create_subprocess_exec(program, *args, stdin=None, stdout=None, stderr=None, limit=None, **kwds)"
      ]
    },
    {
      "cell_type": "markdown",
      "metadata": {
        "id": "Z-vquPHvXtCw"
      },
      "source": [
        "Create a subprocess from one or more string arguments specified by args.\n",
        "\n",
        "args must be a list of strings represented by:\n",
        "\n",
        "str;\n",
        "\n",
        "or bytes, encoded to the filesystem encoding.\n",
        "\n",
        "The first string specifies the program executable, and the remaining strings specify the arguments. Together, string arguments form the argv of the program.\n",
        "\n",
        "This is similar to the standard library subprocess.Popen class called with shell=False and the list of strings passed as the first argument; however, where Popen takes a single argument which is list of strings, subprocess_exec takes multiple string arguments."
      ]
    },
    {
      "cell_type": "markdown",
      "metadata": {
        "id": "wc8Ti8IsXxpP"
      },
      "source": [
        "### ***await create_subprocess_shell()***"
      ]
    },
    {
      "cell_type": "markdown",
      "metadata": {
        "id": "xtW4p2LeX44p"
      },
      "source": [
        "### Syntax: coroutine asyncio.create_subprocess_shell(cmd, stdin=None, stdout=None, stderr=None, limit=None, **kwds)"
      ]
    },
    {
      "cell_type": "markdown",
      "metadata": {
        "id": "qXA7GmdCYO5o"
      },
      "source": [
        "Run the cmd shell command.\n",
        "\n",
        "The limit argument sets the buffer limit for StreamReader wrappers for Process.stdout and Process.stderr (if subprocess.PIPE is passed to stdout and stderr arguments).\n",
        "\n",
        "Return a Process instance."
      ]
    },
    {
      "cell_type": "markdown",
      "metadata": {
        "id": "PD0Dz32cV9bI"
      },
      "source": [
        "### ***Example The subprocess is created by the create_subprocess_exec() function:***"
      ]
    },
    {
      "cell_type": "code",
      "execution_count": null,
      "metadata": {
        "colab": {
          "base_uri": "https://localhost:8080/"
        },
        "id": "-ccy5YocWCxT",
        "outputId": "e0dde34b-f63e-4b8f-c283-0539b863ed26"
      },
      "outputs": [
        {
          "name": "stdout",
          "output_type": "stream",
          "text": [
            "Current date: 2022-04-28 05:07:39.165879\n"
          ]
        }
      ],
      "source": [
        "import asyncio\n",
        "import sys\n",
        "\n",
        "async def get_date():\n",
        "    code = 'import datetime; print(datetime.datetime.now())'\n",
        "\n",
        "    # Create the subprocess; redirect the standard output\n",
        "    # into a pipe.\n",
        "    proc = await asyncio.create_subprocess_exec(\n",
        "        sys.executable, '-c', code,\n",
        "        stdout=asyncio.subprocess.PIPE)\n",
        "\n",
        "    # Read one line of output.\n",
        "    data = await proc.stdout.readline()\n",
        "    line = data.decode('ascii').rstrip()\n",
        "\n",
        "    # Wait for the subprocess exit.\n",
        "    await proc.wait()\n",
        "    return line\n",
        "\n",
        "date = asyncio.run(get_date())\n",
        "print(f\"Current date: {date}\")"
      ]
    },
    {
      "cell_type": "markdown",
      "metadata": {
        "id": "mwzVbU6sYfL0"
      },
      "source": [
        "# ***Streams***"
      ]
    },
    {
      "cell_type": "markdown",
      "metadata": {
        "id": "7pOUT0ooYk4o"
      },
      "source": [
        "Streams are high-level async/await-ready primitives to work with network connections. Streams allow sending and receiving data without using callbacks or low-level protocols and transports."
      ]
    },
    {
      "cell_type": "markdown",
      "metadata": {
        "id": "Pe2WrnMqh-O7"
      },
      "source": [
        "### Here is an example of a TCP echo client written using asyncio streams:"
      ]
    },
    {
      "cell_type": "code",
      "execution_count": null,
      "metadata": {
        "id": "CXxCH-r9iBUS"
      },
      "outputs": [],
      "source": [
        "# WORKING ON THIS POINT\n",
        "#     -------------------------------------------------\n",
        "import asyncio\n",
        "\n",
        "async def tcp_echo_client(message):\n",
        "    reader, writer = await asyncio.open_connection('127.0.0.1', 8000)\n",
        "\n",
        "    print(f'Send: {message!r}')\n",
        "    writer.write(message.encode())\n",
        "    await writer.drain()\n",
        "\n",
        "    data = await reader.read(100)\n",
        "    print(f'Received: {data.decode()!r}')\n",
        "\n",
        "    print('Close the connection')\n",
        "    writer.close()\n",
        "    await writer.wait_closed()\n",
        "\n",
        "asyncio.run(tcp_echo_client('Hello World!'))\n",
        "\n",
        "\n",
        "#   --------------------------------------------------------"
      ]
    },
    {
      "cell_type": "markdown",
      "metadata": {
        "id": "MMi5H2mIYv4k"
      },
      "source": [
        "### ***await open_connection()***"
      ]
    },
    {
      "cell_type": "markdown",
      "metadata": {
        "id": "r5_Aw9paYyEp"
      },
      "source": [
        "Establish a TCP connection."
      ]
    },
    {
      "cell_type": "markdown",
      "metadata": {
        "id": "Bd9Ogbj5aoVd"
      },
      "source": [
        "### Syntax: coroutine asyncio.open_connection(host=None, port=None, *, limit=None, ssl=None, family=0, proto=0, flags=0, sock=None, local_addr=None, server_hostname=None, ssl_handshake_timeout=None, happy_eyeballs_delay=None, interleave=None)"
      ]
    },
    {
      "cell_type": "markdown",
      "metadata": {
        "id": "kd80nd-vaq_E"
      },
      "source": [
        "Establish a network connection and return a pair of (reader, writer) objects.\n",
        "\n",
        "The returned reader and writer objects are instances of StreamReader and StreamWriter classes."
      ]
    },
    {
      "cell_type": "markdown",
      "metadata": {
        "id": "BHxCOcTnYzwH"
      },
      "source": [
        "### ***await open_unix_connection()***"
      ]
    },
    {
      "cell_type": "markdown",
      "metadata": {
        "id": "1lqE1h7aY2Gm"
      },
      "source": [
        "Establish a Unix socket connection."
      ]
    },
    {
      "cell_type": "markdown",
      "metadata": {
        "id": "wGhzZ_lOaxEU"
      },
      "source": [
        "### Syntax: coroutine asyncio.open_unix_connection(path=None, *, limit=None, ssl=None, sock=None, server_hostname=None, ssl_handshake_timeout=None) **bold text**"
      ]
    },
    {
      "cell_type": "markdown",
      "metadata": {
        "id": "YfyuP5Dza1Q_"
      },
      "source": [
        "Establish a Unix socket connection and return a pair of (reader, writer).\n",
        "\n",
        "Similar to open_connection() but operates on Unix sockets."
      ]
    },
    {
      "cell_type": "markdown",
      "metadata": {
        "id": "HA4ZHHtFY5FY"
      },
      "source": [
        "### ***await start_server()***"
      ]
    },
    {
      "cell_type": "markdown",
      "metadata": {
        "id": "VmQF4zwuY8lP"
      },
      "source": [
        "\t\n",
        "Start a TCP server."
      ]
    },
    {
      "cell_type": "markdown",
      "metadata": {
        "id": "RdtrWtT3bCBb"
      },
      "source": [
        "### Syntax: coroutine asyncio.start_server(client_connected_cb, host=None, port=None, *, limit=None, family=socket.AF_UNSPEC, flags=socket.AI_PASSIVE, sock=None, backlog=100, ssl=None, reuse_address=None, reuse_port=None, ssl_handshake_timeout=None, start_serving=True)"
      ]
    },
    {
      "cell_type": "markdown",
      "metadata": {
        "id": "xHVLv3zybH_8"
      },
      "source": [
        "Start a socket server.\n",
        "\n",
        "The client_connected_cb callback is called whenever a new client connection is established. It receives a (reader, writer) pair as two arguments, instances of the StreamReader and StreamWriter classes.\n",
        "\n",
        "client_connected_cb can be a plain callable or a coroutine function; if it is a coroutine function, it will be automatically scheduled as a Task.\n",
        "\n",
        "limit determines the buffer size limit used by the returned StreamReader instance. By default the limit is set to 64 KiB."
      ]
    },
    {
      "cell_type": "markdown",
      "metadata": {
        "id": "gmk5AANaY-2v"
      },
      "source": [
        "### ***await start_unix_server()***"
      ]
    },
    {
      "cell_type": "markdown",
      "metadata": {
        "id": "uwOmKAXMZCNW"
      },
      "source": [
        "\t\n",
        "Start a Unix socket server."
      ]
    },
    {
      "cell_type": "markdown",
      "metadata": {
        "id": "ZpyhgLYDbRru"
      },
      "source": [
        "### Syntax: coroutine asyncio.start_unix_server(client_connected_cb, path=None, *, limit=None, sock=None, backlog=100, ssl=None, ssl_handshake_timeout=None, start_serving=True) **bold text**"
      ]
    },
    {
      "cell_type": "markdown",
      "metadata": {
        "id": "3Bze-FXGbVrM"
      },
      "source": [
        "Start a Unix socket server.\n",
        "\n",
        "Similar to start_server() but works with Unix sockets.\n",
        "\n",
        "Availability: Unix."
      ]
    },
    {
      "cell_type": "markdown",
      "metadata": {
        "id": "85ow2U8pZDzu"
      },
      "source": [
        "### ***StreamReader***"
      ]
    },
    {
      "cell_type": "markdown",
      "metadata": {
        "id": "aNk4DQJgZHYs"
      },
      "source": [
        "High-level async/await object to receive network data."
      ]
    },
    {
      "cell_type": "markdown",
      "metadata": {
        "id": "yUa7MYgDbl4L"
      },
      "source": [
        "### Syntax: class asyncio.StreamReader"
      ]
    },
    {
      "cell_type": "markdown",
      "metadata": {
        "id": "lvQEM8OycF3r"
      },
      "source": [
        "Represents a reader object that provides APIs to read data from the IO stream.\n",
        "\n",
        "It is not recommended to instantiate StreamReader objects directly; use open_connection() and start_server() instead."
      ]
    },
    {
      "cell_type": "markdown",
      "metadata": {
        "id": "DIl1VKvRZJOm"
      },
      "source": [
        "### ***StreamWriter***"
      ]
    },
    {
      "cell_type": "markdown",
      "metadata": {
        "id": "gkcAX00rZL-_"
      },
      "source": [
        "High-level async/await object to send network data."
      ]
    },
    {
      "cell_type": "markdown",
      "metadata": {
        "id": "1jwpN-hDcMLM"
      },
      "source": [
        "### Syntax: class asyncio.StreamWriter"
      ]
    },
    {
      "cell_type": "markdown",
      "metadata": {
        "id": "vmaJAHAEcSFL"
      },
      "source": [
        "Represents a writer object that provides APIs to write data to the IO stream.\n",
        "\n",
        "It is not recommended to instantiate StreamWriter objects directly; use open_connection() and start_server() instead."
      ]
    },
    {
      "cell_type": "markdown",
      "metadata": {
        "id": "ROcRHlpycW77"
      },
      "source": [
        "**1. write(data)**\n",
        "\n",
        "**2. writelines(data)**"
      ]
    },
    {
      "cell_type": "markdown",
      "metadata": {
        "id": "kakZgyjkZPVf"
      },
      "source": [
        "# ***Synchronization***"
      ]
    },
    {
      "cell_type": "markdown",
      "metadata": {
        "id": "qs-ZEgwrckeM"
      },
      "source": [
        "Threading-like synchronization primitives that can be used in Tasks."
      ]
    },
    {
      "cell_type": "markdown",
      "metadata": {
        "id": "_3W4EvRrcmLF"
      },
      "source": [
        "### ***Lock***"
      ]
    },
    {
      "cell_type": "markdown",
      "metadata": {
        "id": "TP5My2x2l3L8"
      },
      "source": [
        "*In this example we are going to create a asyncio.Lock() instance and we are going to try to acquire this lock using with await lock. Once our worker has attained this lock we will then execute our critical section of code and then proceed to release the lock that we have just attained.*"
      ]
    },
    {
      "cell_type": "markdown",
      "metadata": {
        "id": "u-5ltBfUli-F"
      },
      "source": [
        "A mutex lock.\n",
        "\n",
        "when we lock something, we essentially prevent someone else coming in and messing with the locked resource whilst it’s in use."
      ]
    },
    {
      "cell_type": "markdown",
      "metadata": {
        "id": "haoqj5P5lx7O"
      },
      "source": [
        "***A Simple Lock Example***"
      ]
    },
    {
      "cell_type": "markdown",
      "metadata": {
        "id": "qMGY9KMNdzxU"
      },
      "source": [
        "### Syntax: class asyncio.Lock"
      ]
    },
    {
      "cell_type": "markdown",
      "metadata": {
        "id": "_qfDDUaEd6fr"
      },
      "source": [
        "Implements a mutex lock for asyncio tasks. Not thread-safe.\n",
        "\n",
        "An asyncio lock can be used to guarantee exclusive access to a shared resource.\n",
        "\n",
        "The preferred way to use a Lock is an async with statement:"
      ]
    },
    {
      "cell_type": "code",
      "execution_count": null,
      "metadata": {
        "colab": {
          "base_uri": "https://localhost:8080/"
        },
        "id": "2aMfYNOwmSZS",
        "outputId": "85badd1c-5d41-42d0-b38b-92ee405c0e28"
      },
      "outputs": [
        {
          "name": "stdout",
          "output_type": "stream",
          "text": [
            "Attempting to attain lock\n",
            "Currently Locked\n"
          ]
        },
        {
          "name": "stderr",
          "output_type": "stream",
          "text": [
            "/usr/local/lib/python3.7/dist-packages/ipykernel_launcher.py:7: DeprecationWarning: 'with await lock' is deprecated use 'async with lock' instead\n",
            "  import sys\n"
          ]
        },
        {
          "name": "stdout",
          "output_type": "stream",
          "text": [
            "Unlocked Critical Section\n",
            "Attempting to attain lock\n",
            "Currently Locked\n",
            "Unlocked Critical Section\n",
            "Task Executed\n",
            "All Tasks Completed\n",
            "loop close\n"
          ]
        }
      ],
      "source": [
        "import asyncio\n",
        "import time\n",
        "\n",
        "async def myWorker(lock):\n",
        "    print(\"Attempting to attain lock\")\n",
        "    ## acquire lock\n",
        "    with await lock:\n",
        "        ## run critical section of code\n",
        "        print(\"Currently Locked\")\n",
        "        time.sleep(2)\n",
        "    ## our worker releases lock at this poit\n",
        "    print(\"Unlocked Critical Section\")\n",
        "\n",
        "async def main():\n",
        "    ## instantiate our lock\n",
        "    lock = asyncio.Lock()\n",
        "    ## await the execution of 2 myWorker coroutines\n",
        "    ## each with our same lock instance passed in\n",
        "    await asyncio.wait([myWorker(lock), myWorker(lock)])\n",
        "\n",
        "## Start up a simple loop and run our main function\n",
        "## until it is complete\n",
        "lock = asyncio.Lock()\n",
        "loop = asyncio.get_event_loop()\n",
        "loop.run_until_complete(main())\n",
        "print(\"All Tasks Completed\")\n",
        "print(\"loop close\")"
      ]
    },
    {
      "cell_type": "markdown",
      "metadata": {
        "id": "-jHs6uzGcprD"
      },
      "source": [
        "### ***Event***"
      ]
    },
    {
      "cell_type": "markdown",
      "metadata": {
        "id": "8Yv3Txgwcsfz"
      },
      "source": [
        "An event object."
      ]
    },
    {
      "cell_type": "markdown",
      "metadata": {
        "id": "ueaFmYT6eFqd"
      },
      "source": [
        "### Syntax: class asyncio.Event"
      ]
    },
    {
      "cell_type": "markdown",
      "metadata": {
        "id": "72vKC6jVeLvL"
      },
      "source": [
        "An event object. Not thread-safe.\n",
        "\n",
        "An asyncio event can be used to notify multiple asyncio tasks that some event has happened.\n",
        "\n",
        "An Event object manages an internal flag that can be set to true with the set() method and reset to false with the clear() method. The wait() method blocks until the flag is set to true. The flag is set to false initially."
      ]
    },
    {
      "cell_type": "code",
      "execution_count": null,
      "metadata": {
        "colab": {
          "base_uri": "https://localhost:8080/"
        },
        "id": "9ysE5uHPeRfj",
        "outputId": "67d3a018-8cda-4133-f759-7e25464775b3"
      },
      "outputs": [
        {
          "name": "stdout",
          "output_type": "stream",
          "text": [
            "waiting for it ...\n",
            "... got it!\n"
          ]
        }
      ],
      "source": [
        "import asyncio,time\n",
        "async def waiter(event):\n",
        "    print('waiting for it ...')\n",
        "    await event.wait()\n",
        "    print('... got it!')\n",
        "\n",
        "async def main():\n",
        "    # Create an Event object.\n",
        "    event = asyncio.Event()\n",
        "\n",
        "    # Spawn a Task to wait until 'event' is set.\n",
        "    waiter_task = asyncio.create_task(waiter(event))\n",
        "\n",
        "    # Sleep for 1 second and set the event.\n",
        "    await asyncio.sleep(1)\n",
        "    event.set()\n",
        "\n",
        "    # Wait until the waiter task is finished.\n",
        "    await waiter_task\n",
        "\n",
        "asyncio.run(main())"
      ]
    },
    {
      "cell_type": "markdown",
      "metadata": {
        "id": "nFu3HmqheXT1"
      },
      "source": [
        "coroutine wait()\n",
        "Wait until the event is set.\n",
        "\n",
        "If the event is set, return True immediately. Otherwise block until another task calls set().\n",
        "\n",
        "set()\n",
        "Set the event.\n",
        "\n",
        "All tasks waiting for event to be set will be immediately awakened.\n",
        "\n",
        "clear()\n",
        "Clear (unset) the event.\n",
        "\n",
        "Tasks awaiting on wait() will now block until the set() method is called again.\n",
        "\n",
        "is_set()\n",
        "Return True if the event is set."
      ]
    },
    {
      "cell_type": "markdown",
      "metadata": {
        "id": "V7aTys6acuit"
      },
      "source": [
        "### ***Condition***"
      ]
    },
    {
      "cell_type": "markdown",
      "metadata": {
        "id": "3XfkPJmecwtg"
      },
      "source": [
        "A condition object."
      ]
    },
    {
      "cell_type": "markdown",
      "metadata": {
        "id": "tZSBiT5meaIU"
      },
      "source": [
        "### Syntax: class asyncio.Condition(lock=None)"
      ]
    },
    {
      "cell_type": "markdown",
      "metadata": {
        "id": "s4iZJzVieiGL"
      },
      "source": [
        "A Condition object. Not thread-safe.\n",
        "\n",
        "An asyncio condition primitive can be used by a task to wait for some event to happen and then get exclusive access to a shared resource.\n",
        "\n",
        "In essence, a Condition object combines the functionality of an Event and a Lock. It is possible to have multiple Condition objects share one Lock, which allows coordinating exclusive access to a shared resource between different tasks interested in particular states of that shared resource.\n",
        "\n",
        "The optional lock argument must be a Lock object or None. In the latter case a new Lock object is created automatically."
      ]
    },
    {
      "cell_type": "markdown",
      "metadata": {
        "id": "DIdlwu1kekdU"
      },
      "source": [
        "### Example"
      ]
    },
    {
      "cell_type": "markdown",
      "metadata": {
        "id": "mlFe9FgZveIu"
      },
      "source": [
        "cond = asyncio.Condition()\n",
        "\n",
        "\n",
        "async with cond:\n",
        "\n",
        "    await cond.wait()\n",
        "\n",
        "\n",
        "\n",
        "***which is equivalent to:***\n",
        "\n"
      ]
    },
    {
      "cell_type": "code",
      "execution_count": null,
      "metadata": {
        "id": "yYBGvfmperRF"
      },
      "outputs": [],
      "source": [
        "# THIS IS A SAMPLE INTENDATION FUNCTION OF HOW TO RUN AWATE\n",
        "\n",
        "# cond = asyncio.Condition()\n",
        "\n",
        "# ... later\n",
        "# await cond.acquire()\n",
        "# try:\n",
        "    # await cond.wait()\n",
        "# finally:\n",
        "    # cond.release()"
      ]
    },
    {
      "cell_type": "markdown",
      "metadata": {
        "id": "4PWggkTJe7wU"
      },
      "source": [
        "coroutine acquire()\n",
        "Acquire the underlying lock.\n",
        "\n",
        "This method waits until the underlying lock is unlocked, sets it to locked and returns True."
      ]
    },
    {
      "cell_type": "markdown",
      "metadata": {
        "id": "sFq-9dUTcx9b"
      },
      "source": [
        "### ***Semaphore***"
      ]
    },
    {
      "cell_type": "markdown",
      "metadata": {
        "id": "5eCvkNI5c1EU"
      },
      "source": [
        "A semaphore."
      ]
    },
    {
      "cell_type": "markdown",
      "metadata": {
        "id": "czdXx_Ile_Ur"
      },
      "source": [
        "### Syntax: class asyncio.Semaphore(value=1)"
      ]
    },
    {
      "cell_type": "markdown",
      "metadata": {
        "id": "xq9qADWffNUS"
      },
      "source": [
        "A Semaphore object. Not thread-safe.\n",
        "\n",
        "A semaphore manages an internal counter which is decremented by each acquire() call and incremented by each release() call. The counter can never go below zero; when acquire() finds that it is zero, it blocks, waiting until some task calls release().\n",
        "\n",
        "The optional value argument gives the initial value for the internal counter (1 by default). If the given value is less than 0 a ValueError is raised."
      ]
    },
    {
      "cell_type": "markdown",
      "metadata": {
        "id": "allvwGi5fO80"
      },
      "source": [
        "***Example***"
      ]
    },
    {
      "cell_type": "code",
      "execution_count": null,
      "metadata": {
        "colab": {
          "base_uri": "https://localhost:8080/"
        },
        "id": "Ev4umqVunkOC",
        "outputId": "48e192b2-007a-40ef-c9f0-37000d330d5a"
      },
      "outputs": [
        {
          "name": "stdout",
          "output_type": "stream",
          "text": [
            "Successfully acquired the semaphore\n",
            "Successfully acquired the semaphore\n",
            "Putting news item onto queue\n",
            "Consumer: 2 consumed article with id: 1\n",
            "Consumer: 2 Attempting to get from queue\n",
            "Task Executed\n",
            "Putting news item onto queue\n",
            "Consumer: 1 consumed article with id: 5\n",
            "Consumer: 1 Attempting to get from queue\n",
            "Task Executed\n",
            "Putting news item onto queue\n",
            "Consumer: 2 consumed article with id: 1\n",
            "Consumer: 2 Attempting to get from queue\n",
            "Task Executed\n",
            "Releasing Semaphore\n",
            "Successfully acquired the semaphore\n",
            "Releasing Semaphore\n",
            "Putting news item onto queue\n",
            "Consumer: 1 consumed article with id: 3\n",
            "Consumer: 1 Attempting to get from queue\n",
            "Task Executed\n",
            "Putting news item onto queue\n",
            "Consumer: 2 consumed article with id: 1\n",
            "Consumer: 2 Attempting to get from queue\n",
            "Task Executed\n",
            "Putting news item onto queue\n",
            "Consumer: 1 consumed article with id: 3\n",
            "Consumer: 1 Attempting to get from queue\n",
            "Task Executed\n",
            "Releasing Semaphore\n",
            "Main Coroutine\n",
            "All Workers Completed\n",
            "loop close\n"
          ]
        }
      ],
      "source": [
        "import asyncio\n",
        "import time\n",
        "\n",
        "async def myWorker(semaphore):\n",
        "    await semaphore.acquire()\n",
        "    print(\"Successfully acquired the semaphore\")\n",
        "    await asyncio.sleep(3)\n",
        "    print(\"Releasing Semaphore\")\n",
        "    semaphore.release()\n",
        "\n",
        "async def main(loop):\n",
        "    mySemaphore = asyncio.Semaphore(value=2)\n",
        "    await asyncio.wait([myWorker(mySemaphore), myWorker(mySemaphore), myWorker(mySemaphore)])\n",
        "    print(\"Main Coroutine\")\n",
        "\n",
        "loop = asyncio.get_event_loop()\n",
        "loop.run_until_complete(main(loop))\n",
        "print(\"All Workers Completed\")\n",
        "print(\"loop close\")"
      ]
    },
    {
      "cell_type": "markdown",
      "metadata": {
        "id": "QY_E27N3c1kF"
      },
      "source": [
        "### ***BoundedSemaphore***"
      ]
    },
    {
      "cell_type": "markdown",
      "metadata": {
        "id": "sUnrMqHoc5PV"
      },
      "source": [
        "A bounded semaphore."
      ]
    },
    {
      "cell_type": "markdown",
      "metadata": {
        "id": "zdLwncZAfhuE"
      },
      "source": [
        "### class asyncio.BoundedSemaphore(value=1)"
      ]
    },
    {
      "cell_type": "markdown",
      "metadata": {
        "id": "JpjlfU8hfklK"
      },
      "source": [
        "A bounded semaphore object. Not thread-safe.\n",
        "\n",
        "Bounded Semaphore is a version of Semaphore that raises a ValueError in release() if it increases the internal counter above the initial value."
      ]
    },
    {
      "cell_type": "markdown",
      "metadata": {
        "id": "B6K0cU1Ic75S"
      },
      "source": [
        "# ***Exceptions***"
      ]
    },
    {
      "cell_type": "markdown",
      "metadata": {
        "id": "FiZ1hIRjc_bk"
      },
      "source": [
        "### ***asyncio.TimeoutError***"
      ]
    },
    {
      "cell_type": "markdown",
      "metadata": {
        "id": "El1QwvwCdCK1"
      },
      "source": [
        "Raised on timeout by functions like wait_for(). Keep in mind that asyncio.TimeoutError is unrelated to the built-in TimeoutError exception."
      ]
    },
    {
      "cell_type": "markdown",
      "metadata": {
        "id": "oZEAyUqSfsNv"
      },
      "source": [
        "### Syntax: exception asyncio.TimeoutError"
      ]
    },
    {
      "cell_type": "markdown",
      "metadata": {
        "id": "gx1lGH-rfww-"
      },
      "source": [
        "The operation has exceeded the given deadline.\n",
        "\n",
        "Important This exception is different from the builtin TimeoutError exception."
      ]
    },
    {
      "cell_type": "markdown",
      "metadata": {
        "id": "TaSLHxsAdDu1"
      },
      "source": [
        "### ***asyncio.CancelledError***"
      ]
    },
    {
      "cell_type": "markdown",
      "metadata": {
        "id": "QoNzJdl1dHHr"
      },
      "source": [
        "Raised when a Task is cancelled. See also Task.cancel()."
      ]
    },
    {
      "cell_type": "markdown",
      "metadata": {
        "id": "29Gx-mVTf0KC"
      },
      "source": [
        "### Syntax: exception asyncio.CancelledError"
      ]
    },
    {
      "cell_type": "markdown",
      "metadata": {
        "id": "sJuxTdGzgsT6"
      },
      "source": [
        "The operation has been cancelled.\n",
        "\n",
        "This exception can be caught to perform custom operations when asyncio Tasks are cancelled. In almost all situations the exception must be re-raised."
      ]
    },
    {
      "cell_type": "markdown",
      "metadata": {
        "id": "mXTvqPL-dOE1"
      },
      "source": [
        "***The following example illustrates how coroutines can intercept the cancellation request:***"
      ]
    },
    {
      "cell_type": "code",
      "execution_count": null,
      "metadata": {
        "colab": {
          "base_uri": "https://localhost:8080/"
        },
        "id": "vCNQ88lddY8d",
        "outputId": "bf676569-6721-4643-c8bf-cc23e35c9335"
      },
      "outputs": [
        {
          "name": "stdout",
          "output_type": "stream",
          "text": [
            "cancel_me(): before sleep\n",
            "cancel_me(): cancel sleep\n",
            "cancel_me(): after sleep\n",
            "main(): cancel_me is cancelled now\n"
          ]
        }
      ],
      "source": [
        "import asyncio,time\n",
        "async def cancel_me():\n",
        "    print('cancel_me(): before sleep')\n",
        "\n",
        "    try:\n",
        "        # Wait for 1 hour\n",
        "        await asyncio.sleep(3600)\n",
        "    except asyncio.CancelledError:\n",
        "        print('cancel_me(): cancel sleep')\n",
        "        raise\n",
        "    finally:\n",
        "        print('cancel_me(): after sleep')\n",
        "\n",
        "async def main():\n",
        "    # Create a \"cancel_me\" Task\n",
        "    task = asyncio.create_task(cancel_me())\n",
        "\n",
        "    # Wait for 1 second\n",
        "    await asyncio.sleep(1)\n",
        "\n",
        "    task.cancel()\n",
        "    try:\n",
        "        await task\n",
        "    except asyncio.CancelledError:\n",
        "        print(\"main(): cancel_me is cancelled now\")\n",
        "\n",
        "asyncio.run(main())"
      ]
    },
    {
      "cell_type": "markdown",
      "metadata": {
        "id": "c6lEt1JllDXl"
      },
      "source": [
        "# ***Excercise***"
      ]
    },
    {
      "cell_type": "markdown",
      "metadata": {
        "id": "gBpuS-7klF4R"
      },
      "source": [
        "***1. Awaiting on a coroutine. The following snippet of code will print “hello” after waiting for 5 second, and then print “world” after waiting for another 7 seconds:***"
      ]
    },
    {
      "cell_type": "code",
      "execution_count": null,
      "metadata": {
        "colab": {
          "base_uri": "https://localhost:8080/"
        },
        "id": "zOdj0e-_lXYV",
        "outputId": "dd14bba4-fab1-4dce-b702-771dc3591ec6"
      },
      "outputs": [
        {
          "name": "stdout",
          "output_type": "stream",
          "text": [
            "started at 05:12:28\n",
            "hello\n",
            "world\n",
            "finished at 05:12:40\n"
          ]
        }
      ],
      "source": [
        "import asyncio\n",
        "import time\n",
        "\n",
        "async def say_after(delay, what):\n",
        "    await asyncio.sleep(delay)\n",
        "    print(what)\n",
        "\n",
        "async def main():\n",
        "    print(f\"started at {time.strftime('%X')}\")\n",
        "\n",
        "    await say_after(5, 'hello')\n",
        "    await say_after(7, 'world')\n",
        "\n",
        "    print(f\"finished at {time.strftime('%X')}\")\n",
        "\n",
        "asyncio.run(main())"
      ]
    },
    {
      "cell_type": "markdown",
      "metadata": {
        "id": "DuUN_y_YmnRk"
      },
      "source": [
        "***2. Write a program. we are going to create a newsProducer() coroutine and a newsConsumer() coroutine. The newsProducer() coroutine will push new news items onto our synchronized queue, the newsConsumer() coroutine will attempt to retrieve any items that have been pushed onto said queue and then print whenever it does get something.***"
      ]
    },
    {
      "cell_type": "code",
      "execution_count": null,
      "metadata": {
        "id": "p5AKLp2sm1ET"
      },
      "outputs": [],
      "source": [
        "import asyncio\n",
        "import random\n",
        "import time\n",
        "\n",
        "async def newsProducer(myQueue):\n",
        "    while True:\n",
        "        await asyncio.sleep(1)\n",
        "        print(\"Putting news item onto queue\")\n",
        "        await myQueue.put(random.randint(1,5))\n",
        "\n",
        "async def newsConsumer(id, myQueue):\n",
        "    print(myQueue)\n",
        "    while True:\n",
        "        print(\"Consumer: {} Attempting to get from queue\".format(id))\n",
        "        item = await myQueue.get()\n",
        "        if item is None:\n",
        "            ## the producer emits None to indicate that it is done\n",
        "            break\n",
        "        print(\"Consumer: {} consumed article with id: {}\".format(id, item))\n",
        "\n",
        "\n",
        "loop = asyncio.get_event_loop()\n",
        "myQueue = asyncio.Queue(loop=loop, maxsize=10)\n",
        "try:\n",
        "    loop.run_until_complete(asyncio.gather(newsProducer(myQueue), newsConsumer(1, myQueue), newsConsumer(2, myQueue)))\n",
        "except KeyboardInterrupt:\n",
        "    pass\n",
        "finally:\n",
        "    print(\"close loop\")\n"
      ]
    },
    {
      "cell_type": "markdown",
      "metadata": {
        "id": "_ZOTH-xUoyEj"
      },
      "source": [
        "***3. how we can use a task generator function in order to generate 5 distinct tasks for our event loop to process.***"
      ]
    },
    {
      "cell_type": "code",
      "execution_count": null,
      "metadata": {
        "colab": {
          "base_uri": "https://localhost:8080/"
        },
        "id": "yUj5FSxNo01q",
        "outputId": "9ade0e51-4635-4fab-ff6c-0ed6e8170d38"
      },
      "outputs": [
        {
          "name": "stdout",
          "output_type": "stream",
          "text": [
            "Completed All Tasks\n",
            "loop close\n"
          ]
        }
      ],
      "source": [
        "import asyncio\n",
        "import time\n",
        "\n",
        "async def myTask():\n",
        "    time.sleep(1)\n",
        "    print(\"Processing Task\")\n",
        "\n",
        "async def myTaskGenerator():\n",
        "    for i in range(5):\n",
        "        asyncio.ensure_future(myTask())\n",
        "\n",
        "loop = asyncio.get_event_loop()\n",
        "loop.run_until_complete(myTaskGenerator())\n",
        "print(\"Completed All Tasks\")\n",
        "print(\"loop close\")"
      ]
    },
    {
      "cell_type": "markdown",
      "metadata": {
        "id": "0EaLd7glr2DZ"
      },
      "source": [
        "### ***4. Create a as_completed() function***"
      ]
    },
    {
      "cell_type": "code",
      "execution_count": null,
      "metadata": {
        "colab": {
          "base_uri": "https://localhost:8080/"
        },
        "id": "Sz1bCj2Mr-Kw",
        "outputId": "cfdce030-1a9a-4860-badf-8ea4c26405fd"
      },
      "outputs": [
        {
          "name": "stdout",
          "output_type": "stream",
          "text": [
            "2\n",
            "2\n",
            "2\n",
            "2\n",
            "2\n",
            "close loop\n"
          ]
        }
      ],
      "source": [
        "import asyncio\n",
        "\n",
        "async def myWorker(number):\n",
        "    return number * 2\n",
        "\n",
        "async def main(coros):\n",
        "    for fs in asyncio.as_completed(coros):\n",
        "        print(await fs)\n",
        "\n",
        "coros = [myWorker(1) for i in range(5)]\n",
        "\n",
        "try:\n",
        "    loop = asyncio.get_event_loop()\n",
        "    loop.run_until_complete(main(coros))\n",
        "except KeyboardInterrupt:\n",
        "    pass\n",
        "finally:\n",
        "    print(\"close loop\")"
      ]
    },
    {
      "cell_type": "markdown",
      "metadata": {
        "id": "dGeZpN2JsRHw"
      },
      "source": [
        "### ***5. Create simple run_until_complete() method.***"
      ]
    },
    {
      "cell_type": "code",
      "execution_count": null,
      "metadata": {
        "colab": {
          "base_uri": "https://localhost:8080/"
        },
        "id": "ZdZDh7busXq9",
        "outputId": "8ca844e8-9bb8-4ff8-bccd-34b401a1832a"
      },
      "outputs": [
        {
          "name": "stdout",
          "output_type": "stream",
          "text": [
            "Starting Work\n",
            "Finishing Work\n",
            "close loop\n",
            "Task Executed\n",
            "Putting news item onto queue\n",
            "Consumer: 2 consumed article with id: 4\n",
            "Consumer: 2 Attempting to get from queue\n"
          ]
        }
      ],
      "source": [
        "import asyncio\n",
        "import time\n",
        "\n",
        "async def myWork():\n",
        "    print(\"Starting Work\")\n",
        "    time.sleep(5)\n",
        "    print(\"Finishing Work\")\n",
        "\n",
        "loop = asyncio.get_event_loop()\n",
        "try:\n",
        "    loop.run_until_complete(myWork())\n",
        "finally:\n",
        "    print(\"close loop\")"
      ]
    },
    {
      "cell_type": "markdown",
      "metadata": {
        "id": "s7kAKDRUsrUX"
      },
      "source": [
        "### ***6. Create simple run_forever() method***"
      ]
    },
    {
      "cell_type": "code",
      "execution_count": null,
      "metadata": {
        "id": "RZBCrPYEswlR"
      },
      "outputs": [],
      "source": [
        "import asyncio\n",
        "\n",
        "async def work():\n",
        "    while True:\n",
        "        await asyncio.sleep(1)\n",
        "        print(\"Task Executed\")\n",
        "\n",
        "loop = asyncio.get_event_loop()\n",
        "try:\n",
        "    asyncio.ensure_future(work())\n",
        "    loop.run_forever()\n",
        "except KeyboardInterrupt:\n",
        "    pass\n",
        "finally:\n",
        "    print(\"Closing Loop\")\n",
        "    "
      ]
    },
    {
      "cell_type": "markdown",
      "metadata": {
        "id": "FBOpm9Bgs9eu"
      },
      "source": [
        "### ***7. Create Running Multiple coroutines:***"
      ]
    },
    {
      "cell_type": "code",
      "execution_count": null,
      "metadata": {
        "id": "UHoZ1dCgtBGA"
      },
      "outputs": [],
      "source": [
        "import asyncio\n",
        "import time\n",
        "\n",
        "async def firstWorker():\n",
        "    while True:\n",
        "        await asyncio.sleep(1)\n",
        "        print(\"First Worker Executed\")\n",
        "\n",
        "async def secondWorker():\n",
        "    while True:\n",
        "        await asyncio.sleep(1)\n",
        "        print(\"Second Worker Executed\")\n",
        "\n",
        "\n",
        "loop = asyncio.get_event_loop()\n",
        "try:\n",
        "    asyncio.ensure_future(firstWorker())\n",
        "    asyncio.ensure_future(secondWorker())\n",
        "    loop.run_forever()\n",
        "except KeyboardInterrupt:\n",
        "    pass\n",
        "finally:\n",
        "    print(\"Closing Loop\")\n",
        "    # loop.close()"
      ]
    },
    {
      "cell_type": "markdown",
      "metadata": {
        "id": "2VK9gyh9tiVI"
      },
      "source": [
        "### ***8. Create cancel() function***"
      ]
    },
    {
      "cell_type": "code",
      "execution_count": null,
      "metadata": {
        "colab": {
          "base_uri": "https://localhost:8080/"
        },
        "id": "ulc75GBTtm6N",
        "outputId": "d5e84260-74e1-4368-fe4a-68358b7daee6"
      },
      "outputs": [
        {
          "name": "stdout",
          "output_type": "stream",
          "text": [
            "Completed All Tasks\n"
          ]
        }
      ],
      "source": [
        "import asyncio\n",
        "import time\n",
        "\n",
        "async def myTask():\n",
        "    time.sleep(1)\n",
        "    print(\"Processing Task\")\n",
        "\n",
        "    for task in asyncio.Task.all_tasks():\n",
        "        print(task)\n",
        "        task.cancel()\n",
        "        print(task)\n",
        "\n",
        "async def main():\n",
        "    for i in range(5):\n",
        "        asyncio.ensure_future(myTask())\n",
        "\n",
        "loop = asyncio.get_event_loop()\n",
        "loop.run_until_complete(main())\n",
        "print(\"Completed All Tasks\")\n"
      ]
    },
    {
      "cell_type": "markdown",
      "metadata": {
        "id": "eTWWBjGxu0re"
      },
      "source": [
        "### ***9. Create a Asyncio Futures***"
      ]
    },
    {
      "cell_type": "code",
      "execution_count": null,
      "metadata": {
        "colab": {
          "base_uri": "https://localhost:8080/"
        },
        "id": "pLDlSCtXu7N-",
        "outputId": "72910043-abdf-4552-e9d5-2accd3b79a2b"
      },
      "outputs": [
        {
          "name": "stdout",
          "output_type": "stream",
          "text": [
            "My Coroutine-turned-future has completed\n",
            "close loop\n"
          ]
        }
      ],
      "source": [
        "import asyncio\n",
        "\n",
        "## Define a coroutine that takes in a future\n",
        "async def myCoroutine(future):\n",
        "    ## simulate some 'work'\n",
        "    await asyncio.sleep(1)\n",
        "    ## set the result of our future object\n",
        "    future.set_result(\"My Coroutine-turned-future has completed\")\n",
        "\n",
        "async def main():\n",
        "    ## define a future object\n",
        "    future = asyncio.Future()\n",
        "    ## wait for the completion of our coroutine that we've\n",
        "    ## turned into a future object using the ensure_future() function\n",
        "    await asyncio.ensure_future(myCoroutine(future))\n",
        "    ## Print the result of our future\n",
        "    print(future.result())\n",
        "\n",
        "## Spin up a quick and simple event loop\n",
        "## and run until completed\n",
        "loop = asyncio.get_event_loop()\n",
        "try:\n",
        "    loop.run_until_complete(main())\n",
        "finally:\n",
        "    print(\"close loop\")"
      ]
    },
    {
      "cell_type": "markdown",
      "metadata": {
        "id": "kkpnYQANvHE-"
      },
      "source": [
        "### ***10 . Create Multiple Coroutines***"
      ]
    },
    {
      "cell_type": "code",
      "execution_count": null,
      "metadata": {
        "colab": {
          "base_uri": "https://localhost:8080/"
        },
        "id": "i6sMvsVCvNlY",
        "outputId": "a3a09abf-4c9f-41e8-cfb5-1ce0ab632410"
      },
      "outputs": [
        {
          "name": "stdout",
          "output_type": "stream",
          "text": [
            "Coroutine: 3, has successfully completed after 1 seconds\n",
            "Coroutine: 5, has successfully completed after 1 seconds\n",
            "Coroutine: 8, has successfully completed after 1 seconds\n",
            "Coroutine: 9, has successfully completed after 1 seconds\n",
            "Coroutine: 1, has successfully completed after 2 seconds\n",
            "Coroutine: 7, has successfully completed after 2 seconds\n",
            "Coroutine: 4, has successfully completed after 4 seconds\n",
            "Coroutine: 6, has successfully completed after 4 seconds\n",
            "Coroutine: 0, has successfully completed after 5 seconds\n",
            "Coroutine: 2, has successfully completed after 5 seconds\n",
            "close loop\n"
          ]
        }
      ],
      "source": [
        "import asyncio\n",
        "import random\n",
        "\n",
        "async def myCoroutine(id):\n",
        "    process_time = random.randint(1,5)\n",
        "    await asyncio.sleep(process_time)\n",
        "    print(\"Coroutine: {}, has successfully completed after {} seconds\".format(id, process_time))\n",
        "\n",
        "async def main():\n",
        "    tasks = []\n",
        "    for i in range(10):\n",
        "        tasks.append(asyncio.ensure_future(myCoroutine(i)))\n",
        "\n",
        "    await asyncio.gather(*tasks)\n",
        "\n",
        "\n",
        "loop = asyncio.get_event_loop()\n",
        "try:\n",
        "    loop.run_until_complete(main())\n",
        "finally:\n",
        "    print(\"close loop\")"
      ]
    }
  ],
  "metadata": {
    "colab": {
      "collapsed_sections": [
        "w81yeWlyLAAg",
        "iTvNTRWlNFll",
        "d4I6TwoFNPB9",
        "KAmRw4X4Vo2r",
        "wc8Ti8IsXxpP"
      ],
      "name": "asyncio_Api.ipynb",
      "provenance": []
    },
    "kernelspec": {
      "display_name": "Python 3.9.10 ('int_py39')",
      "language": "python",
      "name": "python3"
    },
    "language_info": {
      "codemirror_mode": {
        "name": "ipython",
        "version": 3
      },
      "file_extension": ".py",
      "mimetype": "text/x-python",
      "name": "python",
      "nbconvert_exporter": "python",
      "pygments_lexer": "ipython3",
      "version": "3.9.10"
    },
    "vscode": {
      "interpreter": {
        "hash": "a131790579ebc573d4bbf4cea7f8d82f0b3d82b3d3b1e2f5f9012c96a494e8dc"
      }
    }
  },
  "nbformat": 4,
  "nbformat_minor": 0
}
