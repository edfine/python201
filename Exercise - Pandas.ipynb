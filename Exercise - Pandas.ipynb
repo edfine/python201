{
 "cells": [
  {
   "cell_type": "markdown",
   "id": "fe3a6864",
   "metadata": {},
   "source": [
    "# Exercise 1 - Pandas"
   ]
  },
  {
   "cell_type": "markdown",
   "id": "3cb89451",
   "metadata": {},
   "source": [
    "### Read __`data/drinks.csv`__ into a DataFrame called __`drinks`__\n"
   ]
  },
  {
   "cell_type": "code",
   "execution_count": null,
   "id": "18193a89",
   "metadata": {},
   "outputs": [],
   "source": []
  },
  {
   "cell_type": "markdown",
   "id": "e59e97e3",
   "metadata": {},
   "source": [
    "### Print out first and last 5 lines, determine the shape, and data types of the columns "
   ]
  },
  {
   "cell_type": "code",
   "execution_count": null,
   "id": "f1fe7fb0",
   "metadata": {},
   "outputs": [],
   "source": []
  },
  {
   "cell_type": "markdown",
   "id": "71f38e4b",
   "metadata": {},
   "source": [
    "### Print the __`beer_servings`__ column"
   ]
  },
  {
   "cell_type": "code",
   "execution_count": null,
   "id": "2ca6536f",
   "metadata": {},
   "outputs": [],
   "source": []
  },
  {
   "cell_type": "markdown",
   "id": "01d9951f",
   "metadata": {},
   "source": [
    "### Calculate the average beer_servings for the entire data set"
   ]
  },
  {
   "cell_type": "code",
   "execution_count": null,
   "id": "1d658da1",
   "metadata": {},
   "outputs": [],
   "source": []
  },
  {
   "cell_type": "markdown",
   "id": "1d9b2931",
   "metadata": {},
   "source": [
    "### Count the number of occurrences of each __`continent`__ value and see if it looks correct"
   ]
  },
  {
   "cell_type": "code",
   "execution_count": null,
   "id": "989a4f22",
   "metadata": {},
   "outputs": [],
   "source": []
  },
  {
   "cell_type": "markdown",
   "id": "772f8521",
   "metadata": {},
   "source": [
    "### Filter __`drinks`__ to only include European countries"
   ]
  },
  {
   "cell_type": "code",
   "execution_count": null,
   "id": "41ce4baa",
   "metadata": {},
   "outputs": [],
   "source": []
  },
  {
   "cell_type": "markdown",
   "id": "b09c5ef8",
   "metadata": {},
   "source": [
    "### Filter __`drinks`__ to only include European countries with __`wine_servings > 300`__"
   ]
  },
  {
   "cell_type": "code",
   "execution_count": null,
   "id": "a06e5a7b",
   "metadata": {},
   "outputs": [],
   "source": []
  },
  {
   "cell_type": "markdown",
   "id": "0b75f4f8",
   "metadata": {},
   "source": [
    "### Calculate the average __`beer_servings`__ for all of Europe"
   ]
  },
  {
   "cell_type": "code",
   "execution_count": null,
   "id": "34dea362",
   "metadata": {},
   "outputs": [],
   "source": []
  },
  {
   "cell_type": "markdown",
   "id": "3831b47f",
   "metadata": {},
   "source": [
    "### Determine which 10 countries have the highest __`total_litres_of_pure_alcohol`__"
   ]
  },
  {
   "cell_type": "code",
   "execution_count": null,
   "id": "40244f75",
   "metadata": {},
   "outputs": [],
   "source": []
  },
  {
   "cell_type": "markdown",
   "id": "8dae97c9",
   "metadata": {},
   "source": [
    "### Read __`data/ufo.csv`__ into a DataFrame called __`ufo`__"
   ]
  },
  {
   "cell_type": "code",
   "execution_count": 18,
   "id": "b2745134",
   "metadata": {},
   "outputs": [],
   "source": [
    "ufo = pd.read_csv('data/ufo.csv')"
   ]
  },
  {
   "cell_type": "markdown",
   "id": "3142f35f",
   "metadata": {},
   "source": [
    "### What are the three most common colors reported?"
   ]
  },
  {
   "cell_type": "code",
   "execution_count": null,
   "id": "d6faed33",
   "metadata": {},
   "outputs": [],
   "source": []
  },
  {
   "cell_type": "markdown",
   "id": "249038bc",
   "metadata": {},
   "source": [
    "### Rename columns to removes spaces in the column names"
   ]
  },
  {
   "cell_type": "code",
   "execution_count": null,
   "id": "7058b381",
   "metadata": {},
   "outputs": [],
   "source": []
  },
  {
   "cell_type": "markdown",
   "id": "2573a531",
   "metadata": {},
   "source": [
    "### For reports in VA, what's the most common city?"
   ]
  },
  {
   "cell_type": "code",
   "execution_count": null,
   "id": "1ebea46d",
   "metadata": {},
   "outputs": [],
   "source": []
  },
  {
   "cell_type": "markdown",
   "id": "4d1886e5",
   "metadata": {},
   "source": [
    "### Print a DataFrame containing only reports from Arlington, VA"
   ]
  },
  {
   "cell_type": "code",
   "execution_count": null,
   "id": "fee9e95e",
   "metadata": {},
   "outputs": [],
   "source": []
  }
 ],
 "metadata": {
  "kernelspec": {
   "display_name": "Python 3 (ipykernel)",
   "language": "python",
   "name": "python3"
  },
  "language_info": {
   "codemirror_mode": {
    "name": "ipython",
    "version": 3
   },
   "file_extension": ".py",
   "mimetype": "text/x-python",
   "name": "python",
   "nbconvert_exporter": "python",
   "pygments_lexer": "ipython3",
   "version": "3.8.2"
  }
 },
 "nbformat": 4,
 "nbformat_minor": 5
}
