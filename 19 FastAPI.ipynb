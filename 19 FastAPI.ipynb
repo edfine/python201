{
 "cells": [
  {
   "cell_type": "markdown",
   "metadata": {},
   "source": [
    "![FastAPI](https://fastapi.tiangolo.com/img/logo-margin/logo-teal.png)\n",
    "# FastAPI \n",
    "\n",
    "## The new and improved way to make a web server\n",
    "\n",
    "https://fastapi.tiangolo.com/\n",
    "\n",
    "- Fast: Very high performance, on par with NodeJS and Go (thanks to Starlette and Pydantic). One of the fastest Python frameworks available.\n",
    "\n",
    "- Fast to code: Increase the speed to develop features by about 200% to 300%. \n",
    "\n",
    "- Fewer bugs: Reduce about 40% of human (developer) induced errors. \n",
    "\n",
    "- Intuitive: Great editor support. Completion everywhere. Less time debugging.\n",
    "\n",
    "- Easy: Designed to be easy to use and learn. Less time reading docs.\n",
    "\n",
    "- Short: Minimize code duplication. Multiple features from each parameter declaration. Fewer bugs.\n",
    "\n",
    "- Robust: Get production-ready code. With automatic interactive documentation.\n",
    "\n",
    "- Standards-based: Based on (and fully compatible with) the open standards for APIs: \n",
    "    OpenAPI (previously known as Swagger) and JSON Schema\n",
    "\n",
    "\n",
    "If you need to install it: \n"
   ]
  },
  {
   "cell_type": "code",
   "execution_count": 1,
   "metadata": {},
   "outputs": [],
   "source": [
    "# pip install \"fastapi[all]\""
   ]
  },
  {
   "cell_type": "markdown",
   "metadata": {},
   "source": [
    "Inside a main.py file, add the below code:"
   ]
  },
  {
   "cell_type": "markdown",
   "metadata": {},
   "source": [
    "from fastapi import FastAPI\n",
    "\n",
    "app = FastAPI()\n",
    "\n",
    "\n",
    "@app.get(\"/\")\n",
    "async def root():\n",
    "    return {\"message\": \"Welcome to FastAPI\"}"
   ]
  },
  {
   "cell_type": "markdown",
   "metadata": {},
   "source": [
    "And then at the command line run: (without the #)"
   ]
  },
  {
   "cell_type": "code",
   "execution_count": null,
   "metadata": {
    "vscode": {
     "languageId": "powershell"
    }
   },
   "outputs": [],
   "source": [
    "# uvicorn main:app --reload"
   ]
  },
  {
   "cell_type": "markdown",
   "metadata": {},
   "source": [
    "Open your browser at http://127.0.0.1:8000. Or alternately: \n",
    "\n",
    "You will see the JSON response.\n",
    "\n",
    "Then next, check out the documentation:\n",
    "\n",
    "## Interactive API docs¶\n",
    "Now go to http://127.0.0.1:8000/docs. Or alternatively http://127.0.0.1:8000/redoc\n",
    "\n",
    "You will see the automatic interactive API documentation (provided by Swagger UI):"
   ]
  },
  {
   "cell_type": "markdown",
   "metadata": {},
   "source": [
    "So what did our program do:\n",
    "\n",
    "- Import FastAPI.\n",
    "\n",
    "- Create an app instance.\n",
    "\n",
    "- Write a path operation decorator (like @app.get(\"/\")).\n",
    "    - or one of POST, GET, PUT, DELETE \n",
    "    - \n",
    "\n",
    "- Write a path operation function (like def root(): ... above).\n",
    "\n",
    "- Run the development server (like uvicorn main:app --reload)."
   ]
  },
  {
   "cell_type": "markdown",
   "metadata": {},
   "source": [
    "# Passing parameters\n",
    "\n",
    "We have 2 kind of parameters:\n",
    "1. Path parameters\n",
    "2. Query parameters\n",
    "\n",
    "First let's look at path parameters:"
   ]
  },
  {
   "cell_type": "code",
   "execution_count": null,
   "metadata": {},
   "outputs": [],
   "source": [
    "# Path parameters in a query string\n",
    "from fastapi import FastAPI\n",
    "\n",
    "app = FastAPI()\n",
    "\n",
    "@app.get(\"/items/{item_id}\")\n",
    "# Use type hinting to get validation almost for free\n",
    "async def read_item(item_id: int):\n",
    "    return {\"item_id\": item_id}"
   ]
  },
  {
   "cell_type": "markdown",
   "metadata": {},
   "source": [
    "Go to the following URLs:\n",
    "http://127.0.0.1:8000/items/17\n",
    "and then\n",
    "http://127.0.0.1:8000/items/hammer"
   ]
  },
  {
   "cell_type": "markdown",
   "metadata": {},
   "source": [
    "Next let's play with query parameters: "
   ]
  },
  {
   "cell_type": "code",
   "execution_count": null,
   "metadata": {},
   "outputs": [],
   "source": [
    "from typing import Union\n",
    "\n",
    "from fastapi import FastAPI\n",
    "\n",
    "app = FastAPI()\n",
    "\n",
    "\n",
    "@app.get(\"/users/{user_id}/items/{item_id}\")\n",
    "async def read_user_item(\n",
    "    user_id: int, item_id: str, q: Union[str, None] = None, short: bool = False\n",
    "):\n",
    "    item = {\"item_id\": item_id, \"owner_id\": user_id}\n",
    "    if q:\n",
    "        item.update({\"q\": q})\n",
    "    if not short:\n",
    "        item.update(\n",
    "            {\"description\": \"This is a horse of a different color.\"}\n",
    "        )\n",
    "    return item"
   ]
  },
  {
   "cell_type": "markdown",
   "metadata": {},
   "source": [
    "Go to the following URLs:\n",
    "http://127.0.0.1:8000/user/Ed/items/17\n",
    "and then\n",
    "http://127.0.0.1:8000/items/hammer"
   ]
  },
  {
   "cell_type": "code",
   "execution_count": null,
   "metadata": {},
   "outputs": [],
   "source": [
    "from typing import Union\n",
    "\n",
    "from fastapi import FastAPI\n",
    "\n",
    "app = FastAPI()\n",
    "\n",
    "\n",
    "@app.get(\"/items/{item_id}\")\n",
    "async def read_user_item(\n",
    "    item_id: str, needy: str, skip: int = 0, limit: Union[int, None] = None\n",
    "):\n",
    "    item = {\"item_id\": item_id, \"needy\": needy, \"skip\": skip, \"limit\": limit}\n",
    "    return item"
   ]
  }
 ],
 "metadata": {
  "kernelspec": {
   "display_name": "Python 3.9.10 ('int_py39')",
   "language": "python",
   "name": "python3"
  },
  "language_info": {
   "codemirror_mode": {
    "name": "ipython",
    "version": 3
   },
   "file_extension": ".py",
   "mimetype": "text/x-python",
   "name": "python",
   "nbconvert_exporter": "python",
   "pygments_lexer": "ipython3",
   "version": "3.9.10"
  },
  "orig_nbformat": 4,
  "vscode": {
   "interpreter": {
    "hash": "a131790579ebc573d4bbf4cea7f8d82f0b3d82b3d3b1e2f5f9012c96a494e8dc"
   }
  }
 },
 "nbformat": 4,
 "nbformat_minor": 2
}
