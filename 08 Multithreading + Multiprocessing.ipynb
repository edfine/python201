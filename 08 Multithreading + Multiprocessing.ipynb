{
 "cells": [
  {
   "cell_type": "markdown",
   "metadata": {
    "scrolled": true,
    "slideshow": {
     "slide_type": "slide"
    }
   },
   "source": [
    "# Multithreading and Multiprocessing"
   ]
  },
  {
   "cell_type": "markdown",
   "metadata": {
    "slideshow": {
     "slide_type": "subslide"
    }
   },
   "source": [
    "### Threading\n",
    "* typically, concurrency is created so that we can do some task while I/O is happening (e.g., a server can start processing a new request while waiting for data from a previous request to arrive)\n",
    "* we can create objects that appear to be running independently, but simultaneously\n",
    "* the job of threading is to enable an application to be responsive\n",
    "* CPython, the default implementation of Python, has a Global Interpreter Lock (GIL), which prevents your application from doing two things at once, but rather, the CPU time is being rationed across your threads"
   ]
  },
  {
   "cell_type": "markdown",
   "metadata": {
    "slideshow": {
     "slide_type": "subslide"
    }
   },
   "source": [
    "### Simple threading example"
   ]
  },
  {
   "cell_type": "code",
   "execution_count": 1,
   "metadata": {
    "slideshow": {
     "slide_type": "subslide"
    }
   },
   "outputs": [
    {
     "name": "stdout",
     "output_type": "stream",
     "text": [
      "calculated squares up to 25,501,290 * 25,501,290 = 650,315,740,661,521\n",
      "while you typed \"I am still a slow human\"\n"
     ]
    }
   ],
   "source": [
    "from threading import Thread\n",
    "\n",
    "class InputReader(Thread):\n",
    "    \"\"\"Thread example, extends Thread class\"\"\"\n",
    "\n",
    "    def run(self):\n",
    "        \"\"\"\n",
    "        Whatever is in the run method (or called from\n",
    "        it) is executed in a separate thread\n",
    "        \"\"\"\n",
    "        self.line_of_text = input('Enter some text: ')\n",
    "\n",
    "input('Are you ready? When you hit return the thread will start.')\n",
    "thread = InputReader() # create thread object\n",
    "thread.start() # cf. thread.run() for no concurrency\n",
    "\n",
    "count, result = 1, 1\n",
    "\n",
    "while thread.is_alive():\n",
    "    result = count * count\n",
    "    count += 1\n",
    "\n",
    "print('calculated squares up to {0:,} * {0:,} = {1:,}'\n",
    "      .format(count, result))\n",
    "print('while you typed \"{}\"'.format(thread.line_of_text))"
   ]
  },
  {
   "cell_type": "code",
   "execution_count": 2,
   "metadata": {
    "slideshow": {
     "slide_type": "subslide"
    }
   },
   "outputs": [
    {
     "name": "stdout",
     "output_type": "stream",
     "text": [
      "it is 90°F in Boulder\n",
      "it is 81°F in Atlanta\n",
      "it is 96°F in Reno\n",
      "it is 83°F in Honolulu\n",
      "it is 56°F in Zurich\n",
      "it is 97°F in Dubai\n",
      "it is 84°F in Dublin\n",
      "it is 76°F in Hyderabad\n",
      "it is 83°F in Rome\n",
      "Got 9 temps in 0.4673891067504883 seconds\n"
     ]
    }
   ],
   "source": [
    "from threading import Thread\n",
    "import json\n",
    "from urllib.request import urlopen\n",
    "import time\n",
    "\n",
    "cities = ['Boulder', 'Atlanta', \n",
    "          'Reno', 'Honolulu', 'Zurich', 'Dubai',\n",
    "          'Dublin', 'Hyderabad', 'Rome']\n",
    "\n",
    "class TempGetter(Thread):\n",
    "    def __init__(self, city):\n",
    "        \"\"\"Initialize our thread\n",
    "\n",
    "In the previous example, our class which extended\n",
    "Thread did not need an __init__ method, because\n",
    "there was no per-thread information to store. Which\n",
    "means that the __init__ method from the superclass\n",
    "(Thread) was called automatically. Here, because we\n",
    "need to store per-thread information (the city), we\n",
    "have to explicitly call the__init__ method of Thread.\n",
    "        \"\"\"\n",
    "        super().__init__()\n",
    "        self.city = city\n",
    "\n",
    "    def run(self):\n",
    "        url_template = (\n",
    "            'http://api.openweathermap.org/data/2.5/' \n",
    "            'weather?q={}&units=imperial'\n",
    "                        '&&APPID=10d4440bbaa8581bb8da9bd1fbea5617')\n",
    "        response = urlopen(url_template.format(self.city))\n",
    "        data = json.loads(response.read().decode())\n",
    "        self.temperature = data['main']['temp']\n",
    "        \n",
    "threads = [TempGetter(c) for c in cities] # creates 9 threads\n",
    "start = time.time()\n",
    "\n",
    "# start all 10 threads\n",
    "for thread in threads:\n",
    "    thread.start() # not run()\n",
    "\n",
    "# wait for all 10 threads to complete\n",
    "for thread in threads:\n",
    "    thread.join()\n",
    "\n",
    "for thread in threads:\n",
    "    print(f\"it is {thread.temperature:.0f}°F in {thread.city}\")\n",
    "print(f\"Got {len(threads)} temps in {time.time() - start} seconds\")"
   ]
  },
  {
   "cell_type": "code",
   "execution_count": 3,
   "metadata": {
    "slideshow": {
     "slide_type": "-"
    }
   },
   "outputs": [
    {
     "name": "stdout",
     "output_type": "stream",
     "text": [
      "Boulder\n",
      "Atlanta\n",
      "Germantown\n",
      "Reno\n",
      "Honolulu\n",
      "Zurich\n",
      "Dubai\n",
      "Dublin\n",
      "Stuttgart\n",
      "Rome\n",
      "it is 90°F in Boulder\n",
      "it is 81°F in Atlanta\n",
      "it is 74°F in Germantown\n",
      "it is 96°F in Reno\n",
      "it is 83°F in Honolulu\n",
      "it is 56°F in Zurich\n",
      "it is 97°F in Dubai\n",
      "it is 84°F in Dublin\n",
      "it is 64°F in Stuttgart\n",
      "it is 83°F in Rome\n",
      "Got 10 temps in 0.25002074241638184 seconds\n"
     ]
    }
   ],
   "source": [
    "%%bash\n",
    "python3 getweather.py"
   ]
  },
  {
   "cell_type": "markdown",
   "metadata": {
    "slideshow": {
     "slide_type": "subslide"
    }
   },
   "source": [
    "## Threading (cont'd)\n",
    "* the main problem with threads is also their primary advantage–shared memory\n",
    " * all threads have access to all the memory\n",
    " * what if two threads access the same data?\n",
    "* synchronization is the solution, but it's tricky\n",
    " * bugs due to incorrect synchronization can be very difficult to find due to ordering issues\n",
    "* one solution is to force communication between threads to occur using a data structure that has built in locking, such as queue.Queue\n",
    "* disadvantages could be outweighed by the fact that shared memory is FAST, except for the GIL"
   ]
  },
  {
   "cell_type": "markdown",
   "metadata": {
    "slideshow": {
     "slide_type": "subslide"
    }
   },
   "source": [
    "## Lab: threads\n",
    "* create a program which uses threads to simulate a database server\n",
    "* your \"database server\" should simply be a thread which sleeps for a random interval (check out __`time.sleep()`__ and __`random.randint()`__ if you're not familiar with them)\n",
    "* your main thread should get input from the user and respond to it (perhaps reversing the input given by the user) while the database thread is busy"
   ]
  },
  {
   "cell_type": "markdown",
   "metadata": {
    "slideshow": {
     "slide_type": "subslide"
    }
   },
   "source": [
    "# Multiprocessing\n",
    "* the Python multiprocessing library is designed for cases where CPU-bound jobs needs to happen in parallel and multiple cores are available\n",
    "* advantages\n",
    " * separate memory space for each process\n",
    " * code is usually straightforward compared to threads\n",
    " * avoids GIL limitation\n",
    " * eliminates synchronization (assuming no shared memory)"
   ]
  },
  {
   "cell_type": "markdown",
   "metadata": {
    "slideshow": {
     "slide_type": "subslide"
    }
   },
   "source": [
    "## A Simple Multiprocessing Example"
   ]
  },
  {
   "cell_type": "code",
   "execution_count": 4,
   "metadata": {
    "slideshow": {
     "slide_type": "subslide"
    }
   },
   "outputs": [
    {
     "name": "stdout",
     "output_type": "stream",
     "text": [
      "Running...\n",
      "35456\n",
      "35456\n",
      "work took 10.96575927734375 seconds\n"
     ]
    }
   ],
   "source": [
    "from multiprocessing import Process, cpu_count\n",
    "import time\n",
    "import os\n",
    "\n",
    "class MuchCPU(Process):\n",
    "    def run(self):\n",
    "        print(os.getpid()) # get process ID\n",
    "        for i in range(80_000_000):\n",
    "            result = i * i\n",
    "            \n",
    "if __name__ == '__main__':\n",
    "    print('Running...')\n",
    "    procs = [MuchCPU() for f in range(2)]\n",
    "    t = time.time()\n",
    "\n",
    "    for p in procs:\n",
    "        p.run()\n",
    "    \n",
    "    #for p in procs:\n",
    "        #p.join()\n",
    "    \n",
    "    print('work took {} seconds'.format(time.time() - t))"
   ]
  },
  {
   "cell_type": "markdown",
   "metadata": {
    "slideshow": {
     "slide_type": "subslide"
    }
   },
   "source": [
    "## Multiprocessing (cont'd)\n",
    "* no reason for more processes than there are processors\n",
    " * only `cpu_count()` procs can run simultaneously\n",
    " * each proc consumes resources with a full copy of Python interpreter\n",
    " * interproc communication is expensive\n",
    " * creating procs takes a nonzero amount of time\n",
    "* so we create at most `cpu_count()` processes when the program starts and have them execute tasks as needed\n",
    "* easy to implement a basic series of communicating processes to do this, but it can be tricky to debug, test, and get correct–we don't have to do all this work because the Python developers have already done it for us–multiprocessing pools\n"
   ]
  },
  {
   "cell_type": "markdown",
   "metadata": {
    "slideshow": {
     "slide_type": "subslide"
    }
   },
   "source": [
    "## Multiprocessing Pools\n",
    "* pools abstract away the overhead of figuring out what code is running in main process and what code is running in subprocess\n",
    "* abstraction restricts the number of places that code in different processes interact with each other, making it easier to keep track of\n",
    "* pools also hide the passing of data between processes\n",
    " * using a pool looks much like a function call–you pass data into a function, it's executed in another process or processes, and when the work is complete, a value is returned\n",
    " * under the hood, a lot of work is being done to support this–objects in one process are being pickled (serialized) and passed into a pipe, then another process retrieves data from the pipe and unpickles it. Work is done in the subprocess and a result is produced. The result is pickled and passed into a pipe. Eventually, the original process unpickles it and returns it."
   ]
  },
  {
   "cell_type": "markdown",
   "metadata": {
    "slideshow": {
     "slide_type": "subslide"
    }
   },
   "source": [
    "## Multiprocessing Pool Example"
   ]
  },
  {
   "cell_type": "code",
   "execution_count": 5,
   "metadata": {
    "slideshow": {
     "slide_type": "subslide"
    }
   },
   "outputs": [
    {
     "name": "stdout",
     "output_type": "stream",
     "text": [
      "    prime_factor(2, 1) 35725\n",
      "    prime_factor(3, 1) 35724\n",
      "    prime_factor(36323272, 1) 35725\n",
      "    prime_factor(24439827, 1) 35724\n",
      "    prime_factor(3, 1) 35729\n",
      "    prime_factor(2, 1) 35727\n",
      "    prime_factor(2, 1) 35728\n",
      "    prime_factor(2, 1) 35730\n",
      "    prime_factor(3, 1) 35731\n",
      "        prime_factor(2, 2) 35725\n",
      "    prime_factor(13975623, 1) 35729\n",
      "    prime_factor(25483710, 1) 35728\n",
      "    prime_factor(34936661, 1) 35727\n",
      "        prime_factor(3, 2) 35724\n",
      "    prime_factor(27984523, 1) 35730\n",
      "    prime_factor(22108321, 1) 35731\n",
      "        prime_factor(2, 2) 35728\n",
      "        prime_factor(18161636, 2) 35725\n",
      "        prime_factor(3, 2) 35729\n",
      "        prime_factor(5441, 2) 35727\n",
      "        prime_factor(8146609, 2) 35724\n",
      "        prime_factor(7, 2) 35730\n",
      "        prime_factor(12741855, 2) 35728\n",
      "        prime_factor(4658541, 2) 35729\n",
      "            prime_factor(2, 3) 35725\n",
      "        prime_factor(43, 2) 35731\n",
      "        prime_factor(3997789, 2) 35730\n",
      "        prime_factor(6421, 2) 35727\n",
      "            prime_factor(3, 3) 35729\n",
      "            prime_factor(9080818, 3) 35725\n",
      "        prime_factor(514147, 2) 35731\n",
      "            prime_factor(3, 3) 35728\n",
      "            prime_factor(1129, 3) 35730\n",
      "    prime_factor(23, 1) 35727\n",
      "            prime_factor(1552847, 3) 35729\n",
      "                prime_factor(2, 4) 35725\n",
      "            prime_factor(4247285, 3) 35728\n",
      "            prime_factor(3541, 3) 35730\n",
      "    prime_factor(3002641, 1) 35727\n",
      "                prime_factor(53, 4) 35729\n",
      "                prime_factor(5, 4) 35728\n",
      "                prime_factor(4540409, 4) 35725\n",
      "    prime_factor(2, 1) 35730\n",
      "                prime_factor(29299, 4) 35729\n",
      "                prime_factor(849457, 4) 35728\n",
      "                    prime_factor(661, 5) 35725\n",
      "    prime_factor(22236987, 1) 35730\n",
      "                    prime_factor(7, 5) 35728\n",
      "                    prime_factor(83, 5) 35729\n",
      "        prime_factor(3, 2) 35730\n",
      "                    prime_factor(6869, 5) 35725\n",
      "                    prime_factor(353, 5) 35729\n",
      "                    prime_factor(121351, 5) 35728\n",
      "        prime_factor(7412329, 2) 35730\n",
      "    prime_factor(5, 1) 35725\n",
      "    prime_factor(2, 1) 35729\n",
      "            prime_factor(71, 3) 35730\n",
      "    prime_factor(12149917, 1) 35725\n",
      "[73319481, 41361953, 72646544, 60749585, 64310717, 52316290, 69873322, 69060743, 50967420, 43031070, 41926869, 64534348, 55969046, 44473974, 66324963, 64450951, 72851264, 68232032, 71406971, 69717333, 55260953, 47841730, 65564845, 66839318, 56427493, 47851815, 73870278, 73072806, 49297396, 61861981, 68080854, 50261437, 56112934, 46482489, 68876811, 79113972, 48736961, 41674517, 64993117, 63153145, 75404811, 71993277, 78667403, 49065833, 66289789, 58837754, 68570353, 75210820, 45476444, 76289132, 60305926, 72463709, 42973647, 76629471, 49157195, 55486453, 65708375, 65762168, 50700505, 74112455, 72453586, 45915894, 44104910, 56497176]\n",
      "    prime_factor(32267174, 1) 35729\n",
      "        prime_factor(13, 2) 35725\n",
      "            prime_factor(104399, 3) 35730\n",
      "        prime_factor(2, 2) 35729\n",
      "        prime_factor(934609, 2) 35725\n",
      "        prime_factor(16133587, 2) 35729\n",
      "            prime_factor(13, 3) 35725\n",
      "            prime_factor(677, 3) 35729\n",
      "            prime_factor(71893, 3) 35725\n",
      "            prime_factor(23831, 3) 35729\n",
      "                prime_factor(17, 4) 35725\n",
      "                prime_factor(4229, 4) 35725\n",
      "    prime_factor(2, 1) 35725\n",
      "    prime_factor(36425632, 1) 35725\n",
      "        prime_factor(2, 2) 35725\n",
      "    prime_factor(199, 1) 35729\n",
      "    prime_factor(358829, 1) 35729\n",
      "        prime_factor(18212816, 2) 35725\n",
      "            prime_factor(2, 3) 35725\n",
      "            prime_factor(9106408, 3) 35725\n",
      "                prime_factor(2, 4) 35725\n",
      "                prime_factor(4553204, 4) 35725\n",
      "                    prime_factor(2, 5) 35725\n",
      "    prime_factor(2, 1) 35728\n",
      "                    prime_factor(2276602, 5) 35725\n",
      "    prime_factor(21515535, 1) 35728\n",
      "                        prime_factor(2, 6) 35725\n",
      "        prime_factor(3, 2) 35728\n",
      "                        prime_factor(1138301, 6) 35725\n",
      "        prime_factor(7171845, 2) 35728\n",
      "                            prime_factor(127, 7) 35725\n",
      "            prime_factor(3, 3) 35728\n",
      "                            prime_factor(8963, 7) 35725\n",
      "    prime_factor(11, 1) 35730\n",
      "            prime_factor(2390615, 3) 35728\n",
      "                prime_factor(5, 4) 35728\n",
      "    prime_factor(5023723, 1) 35730\n",
      "    prime_factor(2, 1) 35725\n",
      "                prime_factor(478123, 4) 35728\n",
      "        prime_factor(1193, 2) 35730\n",
      "    prime_factor(34116016, 1) 35725\n",
      "                    prime_factor(29, 5) 35728\n",
      "        prime_factor(2, 2) 35725\n",
      "        prime_factor(4211, 2) 35730\n",
      "                    prime_factor(16487, 5) 35728\n",
      "        prime_factor(17058008, 2) 35725\n",
      "            prime_factor(2, 3) 35725\n",
      "    prime_factor(2, 1) 35730\n",
      "            prime_factor(8529004, 3) 35725\n",
      "    prime_factor(23920865, 1) 35730\n",
      "        prime_factor(5, 2) 35730\n",
      "                prime_factor(2, 4) 35725\n",
      "                prime_factor(4264502, 4) 35725\n",
      "    prime_factor(5, 1) 35728\n",
      "        prime_factor(4784173, 2) 35730\n",
      "                    prime_factor(2, 5) 35725\n",
      "    prime_factor(13112969, 1) 35728\n",
      "                    prime_factor(2132251, 5) 35725\n",
      "            prime_factor(787, 3) 35730\n",
      "                        prime_factor(11, 6) 35725\n",
      "        prime_factor(31, 2) 35728\n",
      "            prime_factor(6079, 3) 35730\n",
      "                        prime_factor(193841, 6) 35725\n",
      "        prime_factor(422999, 2) 35728\n",
      "            prime_factor(131, 3) 35728\n",
      "            prime_factor(3229, 3) 35728\n",
      "    prime_factor(2, 1) 35728\n",
      "    prime_factor(33419659, 1) 35728\n",
      "        prime_factor(7, 2) 35728\n",
      "        prime_factor(4774237, 2) 35728\n",
      "            prime_factor(13, 3) 35728\n",
      "            prime_factor(367249, 3) 35728\n",
      "                prime_factor(181, 4) 35728\n",
      "                prime_factor(2029, 4) 35728\n",
      "    prime_factor(2, 1) 35728\n",
      "    prime_factor(36935139, 1) 35728\n",
      "        prime_factor(3, 2) 35728\n",
      "        prime_factor(12311713, 2) 35728\n",
      "            prime_factor(37, 3) 35728\n",
      "            prime_factor(332749, 3) 35728\n",
      "    prime_factor(59, 1) 35731\n",
      "    prime_factor(2, 1) 35725\n",
      "    prime_factor(1092389, 1) 35731\n",
      "    prime_factor(24648698, 1) 35725\n",
      "        prime_factor(2, 2) 35725\n",
      "        prime_factor(12324349, 2) 35725\n",
      "            prime_factor(131, 3) 35725\n",
      "            prime_factor(94079, 3) 35725\n",
      "    prime_factor(2143, 1) 35725\n",
      "    prime_factor(3, 1) 35729\n",
      "    prime_factor(28867, 1) 35725\n",
      "    prime_factor(23239111, 1) 35729\n",
      "        prime_factor(7, 2) 35729\n",
      "        prime_factor(3319873, 2) 35729\n",
      "            prime_factor(283, 3) 35729\n",
      "            prime_factor(11731, 3) 35729\n",
      "    prime_factor(2, 1) 35725\n",
      "    prime_factor(34040427, 1) 35725\n",
      "    prime_factor(2, 1) 35729\n",
      "        prime_factor(3, 2) 35725\n",
      "    prime_factor(28056467, 1) 35729\n",
      "        prime_factor(11346809, 2) 35725\n",
      "        prime_factor(479, 2) 35729\n",
      "        prime_factor(58573, 2) 35729\n",
      "    prime_factor(2, 1) 35728\n",
      "    prime_factor(3, 1) 35729\n",
      "    prime_factor(36536403, 1) 35728\n",
      "        prime_factor(3, 2) 35728\n",
      "    prime_factor(15494163, 1) 35729\n",
      "        prime_factor(12178801, 2) 35728\n",
      "        prime_factor(3, 2) 35729\n",
      "        prime_factor(5164721, 2) 35729\n",
      "            prime_factor(113, 3) 35728\n",
      "            prime_factor(107777, 3) 35728\n",
      "            prime_factor(1721, 3) 35729\n",
      "            prime_factor(3001, 3) 35729\n",
      "    prime_factor(3, 1) 35729\n",
      "    prime_factor(22958937, 1) 35729\n",
      "        prime_factor(3, 2) 35729\n",
      "        prime_factor(7652979, 2) 35729\n",
      "            prime_factor(3, 3) 35729\n",
      "            prime_factor(2550993, 3) 35729\n",
      "                prime_factor(3, 4) 35729\n",
      "                prime_factor(850331, 4) 35729\n",
      "    prime_factor(7, 1) 35728\n",
      "    prime_factor(6962423, 1) 35728\n",
      "        prime_factor(13, 2) 35728\n",
      "        prime_factor(535571, 2) 35728\n",
      "    prime_factor(89, 1) 35728\n",
      "    prime_factor(468253, 1) 35728\n",
      "    prime_factor(7, 1) 35731\n",
      "    prime_factor(9284731, 1) 35731\n",
      "        prime_factor(271, 2) 35731\n",
      "        prime_factor(34261, 2) 35731\n",
      "    prime_factor(5, 1) 35731\n",
      "    prime_factor(12630629, 1) 35731\n",
      "        prime_factor(11, 2) 35731\n",
      "        prime_factor(1148239, 2) 35731\n",
      "            prime_factor(331, 3) 35731\n",
      "            prime_factor(3469, 3) 35731\n",
      "    prime_factor(3, 1) 35731\n",
      "    prime_factor(25134937, 1) 35731\n",
      "    prime_factor(2, 1) 35729\n",
      "    prime_factor(39556986, 1) 35729\n",
      "        prime_factor(2, 2) 35729\n",
      "        prime_factor(19778493, 2) 35729\n",
      "            prime_factor(3, 3) 35729\n",
      "            prime_factor(6592831, 3) 35729\n",
      "                prime_factor(7, 4) 35729\n",
      "                prime_factor(941833, 4) 35729\n",
      "                    prime_factor(29, 5) 35729\n",
      "                    prime_factor(32477, 5) 35729\n",
      "                        prime_factor(47, 6) 35729\n",
      "                        prime_factor(691, 6) 35729\n",
      "    prime_factor(43, 1) 35728\n",
      "    prime_factor(1541623, 1) 35728\n",
      "        prime_factor(71, 2) 35728\n",
      "        prime_factor(21713, 2) 35728\n",
      "    prime_factor(2, 1) 35728\n",
      "    prime_factor(29418877, 1) 35728\n",
      "        prime_factor(151, 2) 35728\n",
      "        prime_factor(194827, 2) 35728\n",
      "    prime_factor(1567, 1) 35728\n",
      "    prime_factor(43759, 1) 35728\n",
      "    prime_factor(2, 1) 35728\n",
      "    prime_factor(37605410, 1) 35728\n",
      "        prime_factor(2, 2) 35728\n",
      "        prime_factor(18802705, 2) 35728\n",
      "            prime_factor(5, 3) 35728\n",
      "            prime_factor(3760541, 3) 35728\n",
      "    prime_factor(2, 1) 35727\n",
      "    prime_factor(22738222, 1) 35727\n",
      "        prime_factor(2, 2) 35727\n",
      "        prime_factor(11369111, 2) 35727\n",
      "            prime_factor(13, 3) 35727\n",
      "            prime_factor(874547, 3) 35727\n",
      "    prime_factor(2, 1) 35727\n",
      "    prime_factor(38144566, 1) 35727\n",
      "        prime_factor(2, 2) 35727\n",
      "        prime_factor(19072283, 2) 35727\n",
      "            prime_factor(17, 3) 35727\n",
      "            prime_factor(1121899, 3) 35727\n",
      "    prime_factor(2, 1) 35727\n",
      "    prime_factor(30152963, 1) 35727\n",
      "    prime_factor(3, 1) 35728\n",
      "    prime_factor(14324549, 1) 35728\n",
      "    prime_factor(149, 1) 35724\n",
      "    prime_factor(277597, 1) 35724\n",
      "    prime_factor(5, 1) 35724\n",
      "    prime_factor(9831439, 1) 35724\n",
      "        prime_factor(1823, 2) 35724\n",
      "        prime_factor(5393, 2) 35724\n",
      "    prime_factor(11, 1) 35724\n",
      "    prime_factor(5044223, 1) 35724\n",
      "        prime_factor(17, 2) 35724\n",
      "        prime_factor(296719, 2) 35724\n",
      "    prime_factor(5, 1) 35724\n",
      "    prime_factor(13141675, 1) 35724\n",
      "        prime_factor(5, 2) 35724\n",
      "        prime_factor(2628335, 2) 35724\n",
      "            prime_factor(5, 3) 35724\n",
      "            prime_factor(525667, 3) 35724\n",
      "                prime_factor(31, 4) 35724\n",
      "                prime_factor(16957, 4) 35724\n",
      "                    prime_factor(31, 5) 35724\n",
      "                    prime_factor(547, 5) 35724\n",
      "    prime_factor(2, 1) 35724\n",
      "    prime_factor(32881084, 1) 35724\n",
      "        prime_factor(2, 2) 35724\n",
      "        prime_factor(16440542, 2) 35724\n",
      "            prime_factor(2, 3) 35724\n",
      "            prime_factor(8220271, 3) 35724\n",
      "    prime_factor(29, 1) 35725\n",
      "    prime_factor(1733153, 1) 35725\n",
      "        prime_factor(53, 2) 35725\n",
      "        prime_factor(32701, 2) 35725\n",
      "            prime_factor(53, 3) 35725\n",
      "            prime_factor(617, 3) 35725\n",
      "    prime_factor(5, 1) 35725\n",
      "    prime_factor(10140101, 1) 35725\n",
      "    prime_factor(2, 1) 35724\n",
      "    prime_factor(36226793, 1) 35724\n",
      "        prime_factor(79, 2) 35724\n",
      "        prime_factor(458567, 2) 35724\n",
      "    prime_factor(2, 1) 35724\n",
      "    prime_factor(22957947, 1) 35724\n",
      "        prime_factor(3, 2) 35724\n",
      "        prime_factor(7652649, 2) 35724\n",
      "            prime_factor(3, 3) 35724\n",
      "            prime_factor(2550883, 3) 35724\n",
      "                prime_factor(19, 4) 35724\n",
      "                prime_factor(134257, 4) 35724\n",
      "    prime_factor(2, 1) 35724\n",
      "    prime_factor(22052455, 1) 35724\n",
      "        prime_factor(5, 2) 35724\n",
      "        prime_factor(4410491, 2) 35724\n",
      "            prime_factor(79, 3) 35724\n",
      "            prime_factor(55829, 3) 35724\n",
      "    prime_factor(2, 1) 35724\n",
      "    prime_factor(28248588, 1) 35724\n",
      "        prime_factor(2, 2) 35724\n",
      "        prime_factor(14124294, 2) 35724\n",
      "            prime_factor(2, 3) 35724\n",
      "            prime_factor(7062147, 3) 35724\n",
      "                prime_factor(3, 4) 35724\n",
      "                prime_factor(2354049, 4) 35724\n",
      "                    prime_factor(3, 5) 35724\n",
      "                    prime_factor(784683, 5) 35724\n",
      "                        prime_factor(3, 6) 35724\n",
      "                        prime_factor(261561, 6) 35724\n",
      "                            prime_factor(3, 7) 35724\n",
      "                            prime_factor(87187, 7) 35724\n",
      "    prime_factor(3, 1) 35728\n",
      "    prime_factor(25543157, 1) 35728\n",
      "        prime_factor(599, 2) 35728\n",
      "        prime_factor(42643, 2) 35728\n",
      "    prime_factor(5, 1) 35725\n",
      "    prime_factor(14822491, 1) 35725\n",
      "        prime_factor(3847, 2) 35725\n",
      "        prime_factor(3853, 2) 35725\n",
      "    prime_factor(3, 1) 35731\n",
      "    prime_factor(23997759, 1) 35731\n",
      "        prime_factor(3, 2) 35731\n",
      "        prime_factor(7999253, 2) 35731\n",
      "            prime_factor(131, 3) 35731\n",
      "            prime_factor(61063, 3) 35731\n",
      "                prime_factor(227, 4) 35731\n",
      "                prime_factor(269, 4) 35731\n",
      "    prime_factor(31, 1) 35727\n",
      "    prime_factor(2337539, 1) 35727\n",
      "    prime_factor(3, 1) 35730\n",
      "    prime_factor(15950605, 1) 35730\n",
      "        prime_factor(5, 2) 35730\n",
      "        prime_factor(3190121, 2) 35730\n",
      "            prime_factor(11, 3) 35730\n",
      "            prime_factor(290011, 3) 35730\n",
      "    prime_factor(2, 1) 35726\n",
      "    prime_factor(26158145, 1) 35726\n",
      "        prime_factor(5, 2) 35726\n",
      "        prime_factor(5231629, 2) 35726\n",
      "            prime_factor(13, 3) 35726\n",
      "            prime_factor(402433, 3) 35726\n",
      "                prime_factor(29, 4) 35726\n",
      "                prime_factor(13877, 4) 35726\n",
      "    prime_factor(6229, 1) 35729\n",
      "    prime_factor(7877, 1) 35729\n",
      "The factors of 73319481 are [3, 3, 8146609]\n",
      "The factors of 41361953 are [149, 277597]\n",
      "The factors of 72646544 are [2, 2, 2, 2, 661, 6869]\n",
      "The factors of 60749585 are [5, 13, 13, 17, 4229]\n",
      "The factors of 64310717 are [64310717]\n",
      "The factors of 52316290 are [2, 5, 13, 29, 13877]\n",
      "The factors of 69873322 are [2, 5441, 6421]\n",
      "The factors of 69060743 are [23, 3002641]\n",
      "The factors of 50967420 are [2, 2, 3, 5, 7, 121351]\n",
      "The factors of 43031070 are [2, 3, 3, 5, 29, 16487]\n",
      "The factors of 41926869 are [3, 3, 3, 53, 83, 353]\n",
      "The factors of 64534348 are [2, 2, 677, 23831]\n",
      "The factors of 55969046 are [2, 7, 1129, 3541]\n",
      "The factors of 44473974 are [2, 3, 71, 104399]\n",
      "The factors of 66324963 are [3, 43, 514147]\n",
      "The factors of 64450951 are [59, 1092389]\n",
      "The factors of 72851264 are [2, 2, 2, 2, 2, 2, 127, 8963]\n",
      "The factors of 68232032 are [2, 2, 2, 2, 2, 11, 193841]\n",
      "The factors of 71406971 are [199, 358829]\n",
      "The factors of 69717333 are [3, 7, 283, 11731]\n",
      "The factors of 55260953 are [11, 1193, 4211]\n",
      "The factors of 47841730 are [2, 5, 787, 6079]\n",
      "The factors of 65564845 are [5, 31, 131, 3229]\n",
      "The factors of 66839318 are [2, 7, 13, 181, 2029]\n",
      "The factors of 56427493 are [56427493]\n",
      "The factors of 47851815 are [3, 5, 11, 290011]\n",
      "The factors of 73870278 are [2, 3, 37, 332749]\n",
      "The factors of 73072806 are [2, 3, 113, 107777]\n",
      "The factors of 49297396 are [2, 2, 131, 94079]\n",
      "The factors of 61861981 are [2143, 28867]\n",
      "The factors of 68080854 are [2, 3, 11346809]\n",
      "The factors of 50261437 are [29, 53, 53, 617]\n",
      "The factors of 56112934 are [2, 479, 58573]\n",
      "The factors of 46482489 are [3, 3, 1721, 3001]\n",
      "The factors of 68876811 are [3, 3, 3, 3, 850331]\n",
      "The factors of 79113972 are [2, 2, 3, 7, 29, 47, 691]\n",
      "The factors of 48736961 are [7, 13, 535571]\n",
      "The factors of 41674517 are [89, 468253]\n",
      "The factors of 64993117 are [7, 271, 34261]\n",
      "The factors of 63153145 are [5, 11, 331, 3469]\n",
      "The factors of 75404811 are [3, 25134937]\n",
      "The factors of 71993277 are [3, 3, 131, 227, 269]\n",
      "The factors of 78667403 are [78667403]\n",
      "The factors of 49065833 are [6229, 7877]\n",
      "The factors of 66289789 are [43, 71, 21713]\n",
      "The factors of 58837754 are [2, 151, 194827]\n",
      "The factors of 68570353 are [1567, 43759]\n",
      "The factors of 75210820 are [2, 2, 5, 3760541]\n",
      "The factors of 45476444 are [2, 2, 13, 874547]\n",
      "The factors of 76289132 are [2, 2, 17, 1121899]\n",
      "The factors of 60305926 are [2, 30152963]\n",
      "The factors of 72463709 are [31, 2337539]\n",
      "The factors of 42973647 are [3, 14324549]\n",
      "The factors of 76629471 are [3, 599, 42643]\n",
      "The factors of 49157195 are [5, 1823, 5393]\n",
      "The factors of 55486453 are [11, 17, 296719]\n",
      "The factors of 65708375 are [5, 5, 5, 31, 31, 547]\n",
      "The factors of 65762168 are [2, 2, 2, 8220271]\n",
      "The factors of 50700505 are [5, 10140101]\n",
      "The factors of 74112455 are [5, 3847, 3853]\n",
      "The factors of 72453586 are [2, 79, 458567]\n",
      "The factors of 45915894 are [2, 3, 3, 19, 134257]\n",
      "The factors of 44104910 are [2, 5, 79, 55829]\n",
      "The factors of 56497176 are [2, 2, 2, 3, 3, 3, 3, 87187]\n"
     ]
    }
   ],
   "source": [
    "import random\n",
    "import math\n",
    "import os\n",
    "from multiprocessing.pool import Pool\n",
    "\n",
    "def prime_factor(value, level=0):\n",
    "    factors = []\n",
    "    if level:\n",
    "        print('    ' * level, 'prime_factor(', value, ', ', level, ') ', os.getpid(), sep='')\n",
    "        pass\n",
    "    for divisor in range(2, value - 1):\n",
    "        quotient, remainder = divmod(value, divisor)\n",
    "        if not remainder:\n",
    "            factors.extend(prime_factor(divisor, level + 1))\n",
    "            factors.extend(prime_factor(quotient, level + 1))\n",
    "            break\n",
    "    else:\n",
    "        factors = [value]\n",
    "    return factors\n",
    "\n",
    "if __name__ == '__main__': # distiguishes between running and importing\n",
    "    pool = Pool()\n",
    "\n",
    "    to_factor = [\n",
    "        random.randint(40_000_000, 80_000_000) \n",
    "                for _ in range(64)\n",
    "    ]\n",
    "    print(to_factor)\n",
    "    results = pool.map(prime_factor, to_factor)\n",
    "    for value, factors in zip(to_factor, results):\n",
    "        print(\"The factors of {} are {}\".format(value, factors))\n",
    "    #print(results)"
   ]
  },
  {
   "cell_type": "markdown",
   "metadata": {
    "slideshow": {
     "slide_type": "subslide"
    }
   },
   "source": [
    "## Lab: Multiprocessing Pool\n",
    "* write a program to compute 1!…48! using a multiprocessing pool\n",
    "* won't be much of a parallelism example, but it's easy to code\n",
    "* use previous example as a template"
   ]
  },
  {
   "cell_type": "markdown",
   "metadata": {
    "slideshow": {
     "slide_type": "subslide"
    }
   },
   "source": [
    "# Multithreading/Multiprocessing for Python 3\n",
    "* Python 3.2 introduced the __`concurrent.futures`__ module for multithreading  via the ThreadPoolExecutor, or multiprocessing, using ProcessPoolExecutor\n",
    "* it's been backported to Python 2.6+ and can be installed using __`pip install futures`__"
   ]
  },
  {
   "cell_type": "code",
   "execution_count": 6,
   "metadata": {},
   "outputs": [
    {
     "name": "stdout",
     "output_type": "stream",
     "text": [
      "http://www.python.org is 50032 bytes\n",
      "http://www.wikipedia.org is 73675 bytes\n",
      "http://www.foxnews.com/ is 272107 bytes\n",
      "http://www.cnn.com/ is 1111186 bytes\n",
      "http://www.apple.com is 72375 bytes\n",
      "http://blahblahblah.org generated an exception: <urlopen error [Errno 8] nodename nor servname provided, or not known>\n",
      "http://europe.wsj.com/ generated an exception: HTTP Error 403: Forbidden\n",
      "https://www.japan.go.jp/ is 30157 bytes\n",
      "http://www.bbc.co.uk/ is 339028 bytes\n",
      "Completed in 2.10 seconds\n"
     ]
    }
   ],
   "source": [
    "import concurrent.futures\n",
    "import urllib.request\n",
    "import time\n",
    "\n",
    "URLS = ['https://www.japan.go.jp/',\n",
    "        'http://www.foxnews.com/',\n",
    "        'http://www.cnn.com/',\n",
    "        'http://www.python.org',\n",
    "        'http://www.wikipedia.org',\n",
    "        'http://europe.wsj.com/',\n",
    "        'http://www.bbc.co.uk/',\n",
    "        'http://www.apple.com',\n",
    "        'http://blahblahblah.org']\n",
    "\n",
    "# Retrieve a single page and report the URL and contents\n",
    "def load_url(url, timeout):\n",
    "    with urllib.request.urlopen(url, timeout=timeout) as conn:\n",
    "        return conn.read()\n",
    "\n",
    "start = time.time()\n",
    "# We use a with statement to ensure threads are cleaned up promptly\n",
    "with concurrent.futures.ThreadPoolExecutor(max_workers=5) as executor:\n",
    "    # start the load operations and mark each future with its URL\n",
    "    future_to_url = {\n",
    "        executor.submit(load_url, url, 60): url for url in URLS }\n",
    "    \n",
    "    # asynchronously wait for threads to complete...\n",
    "    for future in concurrent.futures.as_completed(future_to_url):\n",
    "        url = future_to_url[future]\n",
    "        try:\n",
    "            data = future.result()\n",
    "        except Exception as exc:\n",
    "            print(f'{url} generated an exception: {exc}')\n",
    "        else:\n",
    "            print(f'{url} is {len(data)} bytes')\n",
    "            \n",
    "print(f'Completed in {time.time() - start:.2f} seconds')"
   ]
  },
  {
   "cell_type": "code",
   "execution_count": 7,
   "metadata": {},
   "outputs": [],
   "source": [
    "def serial():\n",
    "    start = time.time()\n",
    "    for url in URLS:\n",
    "        try:\n",
    "            data = load_url(url, 60)\n",
    "        except Exception as exc:\n",
    "            print(f'{url} generated an exception: {exc}')\n",
    "        else:\n",
    "            print(f'{url} is {len(data)} bytes')\n",
    "            \n",
    "    print(f'Completed in {time.time() - start:.2f} seconds')"
   ]
  },
  {
   "cell_type": "code",
   "execution_count": 8,
   "metadata": {},
   "outputs": [
    {
     "name": "stdout",
     "output_type": "stream",
     "text": [
      "https://www.japan.go.jp/ is 30157 bytes\n",
      "http://www.foxnews.com/ is 272027 bytes\n",
      "http://www.cnn.com/ is 1111186 bytes\n",
      "http://www.python.org is 50032 bytes\n",
      "http://www.wikipedia.org is 73675 bytes\n",
      "http://europe.wsj.com/ generated an exception: HTTP Error 403: Forbidden\n",
      "http://www.bbc.co.uk/ is 339028 bytes\n",
      "http://www.apple.com is 72375 bytes\n",
      "http://blahblahblah.org generated an exception: <urlopen error [Errno 8] nodename nor servname provided, or not known>\n",
      "Completed in 6.47 seconds\n"
     ]
    }
   ],
   "source": [
    "serial()"
   ]
  },
  {
   "cell_type": "code",
   "execution_count": 9,
   "metadata": {},
   "outputs": [],
   "source": [
    "import concurrent.futures\n",
    "import math\n",
    "\n",
    "PRIMES = [\n",
    "    112272535095293,\n",
    "    112582705942171,\n",
    "    112272535095293,\n",
    "    115280095190773,\n",
    "    115797848077099,\n",
    "    1099726899285419]\n",
    "\n",
    "def is_prime(n):\n",
    "    if n % 2 == 0:\n",
    "        return False\n",
    "\n",
    "    sqrt_n = int(math.floor(math.sqrt(n)))\n",
    "    \n",
    "    for i in range(3, sqrt_n + 1, 2):\n",
    "        if n % i == 0:\n",
    "            return False\n",
    "    return True\n",
    "\n",
    "def main():\n",
    "    with concurrent.futures.ProcessPoolExecutor() as executor:\n",
    "        for number, prime in zip(PRIMES, executor.map(is_prime, PRIMES)):\n",
    "            print(f'{number} is prime: {prime}')"
   ]
  },
  {
   "cell_type": "code",
   "execution_count": 10,
   "metadata": {},
   "outputs": [
    {
     "name": "stdout",
     "output_type": "stream",
     "text": [
      "112272535095293 is prime: True\n",
      "112582705942171 is prime: True\n",
      "112272535095293 is prime: True\n",
      "115280095190773 is prime: True\n",
      "115797848077099 is prime: True\n",
      "1099726899285419 is prime: False\n",
      "112272535095293 is prime: True\n",
      "112582705942171 is prime: True\n",
      "112272535095293 is prime: True\n",
      "115280095190773 is prime: True\n",
      "115797848077099 is prime: True\n",
      "1099726899285419 is prime: False\n",
      "112272535095293 is prime: True\n",
      "112582705942171 is prime: True\n",
      "112272535095293 is prime: True\n",
      "115280095190773 is prime: True\n",
      "115797848077099 is prime: True\n",
      "1099726899285419 is prime: False\n",
      "112272535095293 is prime: True\n",
      "112582705942171 is prime: True\n",
      "112272535095293 is prime: True\n",
      "115280095190773 is prime: True\n",
      "115797848077099 is prime: True\n",
      "1099726899285419 is prime: False\n",
      "112272535095293 is prime: True\n",
      "112582705942171 is prime: True\n",
      "112272535095293 is prime: True\n",
      "115280095190773 is prime: True\n",
      "115797848077099 is prime: True\n",
      "1099726899285419 is prime: False\n",
      "112272535095293 is prime: True\n",
      "112582705942171 is prime: True\n",
      "112272535095293 is prime: True\n",
      "115280095190773 is prime: True\n",
      "115797848077099 is prime: True\n",
      "1099726899285419 is prime: False\n",
      "1.33 s ± 47.9 ms per loop (mean ± std. dev. of 5 runs, 1 loop each)\n"
     ]
    }
   ],
   "source": [
    "%timeit -r 5 main()"
   ]
  },
  {
   "cell_type": "code",
   "execution_count": 11,
   "metadata": {},
   "outputs": [],
   "source": [
    "def serial():\n",
    "    for prime in PRIMES:\n",
    "        print(f'{prime} is prime: {is_prime(prime)}')"
   ]
  },
  {
   "cell_type": "code",
   "execution_count": 12,
   "metadata": {},
   "outputs": [
    {
     "name": "stdout",
     "output_type": "stream",
     "text": [
      "112272535095293 is prime: True\n",
      "112582705942171 is prime: True\n",
      "112272535095293 is prime: True\n",
      "115280095190773 is prime: True\n",
      "115797848077099 is prime: True\n",
      "1099726899285419 is prime: False\n",
      "112272535095293 is prime: True\n",
      "112582705942171 is prime: True\n",
      "112272535095293 is prime: True\n",
      "115280095190773 is prime: True\n",
      "115797848077099 is prime: True\n",
      "1099726899285419 is prime: False\n",
      "112272535095293 is prime: True\n",
      "112582705942171 is prime: True\n",
      "112272535095293 is prime: True\n",
      "115280095190773 is prime: True\n",
      "115797848077099 is prime: True\n",
      "1099726899285419 is prime: False\n",
      "112272535095293 is prime: True\n",
      "112582705942171 is prime: True\n",
      "112272535095293 is prime: True\n",
      "115280095190773 is prime: True\n",
      "115797848077099 is prime: True\n",
      "1099726899285419 is prime: False\n",
      "112272535095293 is prime: True\n",
      "112582705942171 is prime: True\n",
      "112272535095293 is prime: True\n",
      "115280095190773 is prime: True\n",
      "115797848077099 is prime: True\n",
      "1099726899285419 is prime: False\n",
      "112272535095293 is prime: True\n",
      "112582705942171 is prime: True\n",
      "112272535095293 is prime: True\n",
      "115280095190773 is prime: True\n",
      "115797848077099 is prime: True\n",
      "1099726899285419 is prime: False\n",
      "3.53 s ± 35.5 ms per loop (mean ± std. dev. of 5 runs, 1 loop each)\n"
     ]
    }
   ],
   "source": [
    "%timeit -r 5 serial()"
   ]
  },
  {
   "cell_type": "code",
   "execution_count": null,
   "metadata": {},
   "outputs": [],
   "source": []
  }
 ],
 "metadata": {
  "celltoolbar": "Slideshow",
  "interpreter": {
   "hash": "3527f294f9700bdfbf89bf53429f7afc5a22433e908fabe54efa2c4cecbfa256"
  },
  "kernelspec": {
   "display_name": "Python 3.7.7 64-bit ('int_python': conda)",
   "name": "python3"
  },
  "language_info": {
   "codemirror_mode": {
    "name": "ipython",
    "version": 3
   },
   "file_extension": ".py",
   "mimetype": "text/x-python",
   "name": "python",
   "nbconvert_exporter": "python",
   "pygments_lexer": "ipython3",
   "version": "3.7.7"
  }
 },
 "nbformat": 4,
 "nbformat_minor": 1
}