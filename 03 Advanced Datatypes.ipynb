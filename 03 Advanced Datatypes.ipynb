{
 "cells": [
  {
   "cell_type": "markdown",
   "metadata": {
    "slideshow": {
     "slide_type": "slide"
    }
   },
   "source": [
    "# The `collections` module\n",
    "* the __`collections`__ module contains a bunch of useful types which are derived from (read: inherited from) some of the built-in types we're already familiar with"
   ]
  },
  {
   "cell_type": "code",
   "execution_count": 1,
   "metadata": {
    "tags": []
   },
   "outputs": [
    {
     "output_type": "stream",
     "name": "stdout",
     "text": [
      "{'one': 3, 'two': 6, 'three': 0}\n"
     ]
    }
   ],
   "source": [
    "# Python 3.6 dicts retain insertion order by default\n",
    "# see https://mail.python.org/pipermail/python-dev/2016-September/146327.html\n",
    "d = {}\n",
    "d['one'] = 3\n",
    "d['two'] = 6\n",
    "d['three'] = 0\n",
    "print(d)"
   ]
  },
  {
   "cell_type": "markdown",
   "metadata": {
    "slideshow": {
     "slide_type": "slide"
    }
   },
   "source": [
    "# The `collections` module: Default Dictionaries"
   ]
  },
  {
   "cell_type": "markdown",
   "metadata": {
    "slideshow": {
     "slide_type": "subslide"
    }
   },
   "source": [
    "## Default Dictionaries\n",
    "* suppose we need a default value for any key which does not exist in the dictionary\n",
    " * we can use the __`get()`__ function, or __`setdefault()`__ (or the __`in`__ operator), or we can use a `Default Dictionary`"
   ]
  },
  {
   "cell_type": "code",
   "execution_count": 2,
   "metadata": {},
   "outputs": [
    {
     "output_type": "execute_result",
     "data": {
      "text/plain": [
       "{'a': 4,\n",
       " 'n': 3,\n",
       " 't': 3,\n",
       " 'i': 5,\n",
       " 'd': 1,\n",
       " 's': 4,\n",
       " 'e': 2,\n",
       " 'b': 1,\n",
       " 'l': 1,\n",
       " 'h': 1,\n",
       " 'm': 2,\n",
       " 'r': 1}"
      ]
     },
     "metadata": {},
     "execution_count": 2
    }
   ],
   "source": [
    "# what we did before...\n",
    "\n",
    "def count_letters(word):\n",
    "    '''Returns a dict of letters and how many times the letter\n",
    "    appeared in the word passed in'''\n",
    "    count = {}\n",
    "    for ltr in word:\n",
    "        #count[ltr] = count.setdefault(ltr, 0) + 1\n",
    "        count[ltr] = count.get(ltr, 0) + 1\n",
    "    return count\n",
    "\n",
    "count_letters('antidisestablishmentarianism')"
   ]
  },
  {
   "cell_type": "code",
   "execution_count": 2,
   "metadata": {},
   "outputs": [
    {
     "output_type": "execute_result",
     "data": {
      "text/plain": [
       "defaultdict(int,\n",
       "            {'o': 4,\n",
       "             'n': 1,\n",
       "             'e': 7,\n",
       "             ' ': 6,\n",
       "             't': 5,\n",
       "             'w': 2,\n",
       "             'h': 3,\n",
       "             'r': 4,\n",
       "             'f': 1,\n",
       "             'u': 1})"
      ]
     },
     "metadata": {},
     "execution_count": 2
    }
   ],
   "source": [
    "from collections import defaultdict\n",
    "\n",
    "def count_letters(word):\n",
    "    '''Returns a dict of letters and how many times the letter\n",
    "    appeared in the string passed in.'''\n",
    "    # When creating a defaultdict,\n",
    "    # the passed argument dictates what the\n",
    "    # default value will be (int = 0, str = \"\", list = [])\n",
    "    count = defaultdict(int)\n",
    "    for ltr in word:\n",
    "        count[ltr] += 1\n",
    "    return count\n",
    "\n",
    "count_letters('one two three four two three three')"
   ]
  },
  {
   "cell_type": "markdown",
   "metadata": {
    "slideshow": {
     "slide_type": "subslide"
    }
   },
   "source": [
    "## Lab: Default Dictionaries\n",
    "* read from a file where each line is a word followed by a count, e.g.,\n",
    "<pre>\n",
    "    apple 2\n",
    "    pear 3\n",
    "    cherry 5\n",
    "    apple 3\n",
    "    pear 6\n",
    "    apple 1\n",
    "</pre>\n",
    "(as shown above, words may be duplicated)\n",
    "* generate a __`defaultdict`__ where the keys are the words and the value are a _list_ of all the counts for that word, e.g.,\n",
    "<pre>\n",
    "defaultdict(&lt;class 'list'>, {'apple': ['2', '3', '1'], 'pear': ['3', '6'], 'cherry': ['5']})\n",
    "</pre>"
   ]
  },
  {
   "cell_type": "markdown",
   "metadata": {},
   "source": [
    "## Now, for more fun, let's implement a default dictionary without using the __`collections`__ module\n",
    "* In other words, make your own class (e.g., MyDefaultDict)\n",
    "* What class or classes should it inherit from?\n",
    "* You will need to create the method `__getitem__(self, key)__` which is what Python uses under the hood to retrieve an item from a dictionary\n",
    " * if the key in question is not currenty in the dict, what should you return?"
   ]
  },
  {
   "cell_type": "markdown",
   "metadata": {
    "slideshow": {
     "slide_type": "slide"
    }
   },
   "source": [
    "# The `collections` module: Deque"
   ]
  },
  {
   "cell_type": "markdown",
   "metadata": {
    "slideshow": {
     "slide_type": "subslide"
    }
   },
   "source": [
    "# Deque\n",
    "* double ended queue\n",
    "* pronounced \"deck\""
   ]
  },
  {
   "cell_type": "code",
   "execution_count": 4,
   "metadata": {
    "tags": []
   },
   "outputs": [
    {
     "output_type": "stream",
     "name": "stdout",
     "text": [
      "deque([0, 1, 2, 3, 4, 5, 6, 7, 8, 9], maxlen=10)\n"
     ]
    }
   ],
   "source": [
    "from collections import deque\n",
    "dq = deque(range(10), maxlen=10) # maxlen is optional\n",
    "print(dq)"
   ]
  },
  {
   "cell_type": "code",
   "execution_count": 5,
   "metadata": {
    "tags": []
   },
   "outputs": [
    {
     "output_type": "stream",
     "name": "stdout",
     "text": [
      "deque([7, 8, 9, 0, 1, 2, 3, 4, 5, 6], maxlen=10)\n"
     ]
    }
   ],
   "source": [
    "dq.rotate(3) # +n takes items from right, prepends to left, vice versa for -n\n",
    "print(dq)"
   ]
  },
  {
   "cell_type": "code",
   "execution_count": 6,
   "metadata": {
    "tags": []
   },
   "outputs": [
    {
     "output_type": "stream",
     "name": "stdout",
     "text": [
      "deque([1, 2, 3, 4, 5, 6, 7, 8, 9, 0], maxlen=10)\n"
     ]
    }
   ],
   "source": [
    "dq.rotate(-4)\n",
    "print(dq)"
   ]
  },
  {
   "cell_type": "code",
   "execution_count": 7,
   "metadata": {
    "tags": []
   },
   "outputs": [
    {
     "output_type": "stream",
     "name": "stdout",
     "text": [
      "deque(['a', 1, 2, 3, 4, 5, 6, 7, 8, 9], maxlen=10)\n"
     ]
    }
   ],
   "source": [
    "dq.appendleft('a') # appending to full deque discards item(s) from other end\n",
    "print(dq)"
   ]
  },
  {
   "cell_type": "code",
   "execution_count": 8,
   "metadata": {
    "tags": []
   },
   "outputs": [
    {
     "output_type": "stream",
     "name": "stdout",
     "text": [
      "deque([1, 2, 3, 4, 5, 6, 7, 8, 9, 'bcd'], maxlen=10)\n"
     ]
    }
   ],
   "source": [
    "dq.extend(['bcd'])\n",
    "print(dq)"
   ]
  },
  {
   "cell_type": "code",
   "execution_count": 9,
   "metadata": {
    "tags": []
   },
   "outputs": [
    {
     "output_type": "stream",
     "name": "stdout",
     "text": [
      "deque([-3, -2, -1, 1, 2, 3, 4, 5, 6, 7], maxlen=10)\n"
     ]
    }
   ],
   "source": [
    "dq.extendleft((-1, -2, -3))\n",
    "print(dq)"
   ]
  },
  {
   "cell_type": "code",
   "execution_count": 10,
   "metadata": {},
   "outputs": [
    {
     "output_type": "execute_result",
     "data": {
      "text/plain": [
       "7"
      ]
     },
     "metadata": {},
     "execution_count": 10
    }
   ],
   "source": [
    "dq.pop() # same as list"
   ]
  },
  {
   "cell_type": "code",
   "execution_count": 11,
   "metadata": {},
   "outputs": [
    {
     "output_type": "execute_result",
     "data": {
      "text/plain": [
       "-3"
      ]
     },
     "metadata": {},
     "execution_count": 11
    }
   ],
   "source": [
    "dq.popleft() # specific to deque, as is rotate()"
   ]
  },
  {
   "cell_type": "code",
   "execution_count": 12,
   "metadata": {
    "tags": []
   },
   "outputs": [
    {
     "output_type": "stream",
     "name": "stdout",
     "text": [
      "deque([-2, -1, 1, 2, 3, 4, 5, 6], maxlen=10)\ndeque([-2, -1, 1, 2, 4, 5, 6], maxlen=10)\n"
     ]
    }
   ],
   "source": [
    "print(dq)\n",
    "dq.remove(3) # same as list\n",
    "print(dq)"
   ]
  },
  {
   "cell_type": "code",
   "execution_count": 13,
   "metadata": {
    "tags": []
   },
   "outputs": [
    {
     "output_type": "stream",
     "name": "stdout",
     "text": [
      "deque([6, 5, 4, 2, 1, -1, -2], maxlen=10)\n"
     ]
    }
   ],
   "source": [
    "dq.reverse()\n",
    "print(dq)"
   ]
  },
  {
   "cell_type": "code",
   "execution_count": 14,
   "metadata": {},
   "outputs": [
    {
     "output_type": "execute_result",
     "data": {
      "text/plain": [
       "deque([6, 5, 4, 2, 1, -1, -2, 0])"
      ]
     },
     "metadata": {},
     "execution_count": 14
    }
   ],
   "source": [
    "dq.append(0)\n",
    "dq"
   ]
  },
  {
   "cell_type": "markdown",
   "metadata": {},
   "source": [
    "# Lab: Deque\n",
    "* use a deque to print the last *n* lines of file, much like __`tail`__ in Linux\n",
    "* remember that you can iterate through a file a line at a time"
   ]
  },
  {
   "cell_type": "code",
   "execution_count": null,
   "metadata": {},
   "outputs": [],
   "source": [
    "from collections import deque\n",
    "nlines = 8\n",
    "f = open('poem.txt')\n",
    "for line in f:\n"
   ]
  },
  {
   "cell_type": "markdown",
   "metadata": {
    "slideshow": {
     "slide_type": "slide"
    }
   },
   "source": [
    "# The `collections` module: Named Tuples\n"
   ]
  },
  {
   "cell_type": "markdown",
   "metadata": {
    "slideshow": {
     "slide_type": "subslide"
    }
   },
   "source": [
    "## Named Tuples\n",
    "* tuples are quite handy, but they are missing a key feature when using them as records–sometimes we want to name the fields\n",
    " * more efficient (i.e., less memory) than dictionaries because instances don't need to contain the keys themselves, as dictionaries do, just the values\n",
    "* __`namedtuple()`__ returns not an individual object but a new class, customized for the given names"
   ]
  },
  {
   "cell_type": "code",
   "execution_count": 15,
   "metadata": {
    "tags": []
   },
   "outputs": [
    {
     "output_type": "stream",
     "name": "stdout",
     "text": [
      "Point(x=1, y=3) <class '__main__.Point'>\n"
     ]
    }
   ],
   "source": [
    "from collections import namedtuple\n",
    "Point = namedtuple('Point', 'x y')\n",
    "# first argument is the name of the tuple class itself\n",
    "# second argument is attribute names as an iterable of strings or a\n",
    "# single space/comma-delimited string\n",
    "point1 = Point(1, 3)\n",
    "print(point1, type(point1))"
   ]
  },
  {
   "cell_type": "code",
   "execution_count": 16,
   "metadata": {
    "tags": []
   },
   "outputs": [
    {
     "output_type": "stream",
     "name": "stdout",
     "text": [
      "Point(x=-3, y=-2)\n1 -2\n"
     ]
    }
   ],
   "source": [
    "point2 = Point(-3, -2)\n",
    "print(point2)\n",
    "print(point1[0], point2[1]) # what we would do if just a tuple"
   ]
  },
  {
   "cell_type": "code",
   "execution_count": 17,
   "metadata": {
    "tags": []
   },
   "outputs": [
    {
     "output_type": "stream",
     "name": "stdout",
     "text": [
      "1 3\n"
     ]
    }
   ],
   "source": [
    "print(point1.x, point1.y) # much nicer, because fields are named"
   ]
  },
  {
   "cell_type": "code",
   "execution_count": 18,
   "metadata": {
    "tags": []
   },
   "outputs": [
    {
     "output_type": "stream",
     "name": "stdout",
     "text": [
      "City(name='Tokyo', country='JP', population=36.933, coordinates=(35.689722, 139.691667))\n"
     ]
    }
   ],
   "source": [
    "from collections import namedtuple\n",
    "City = namedtuple('City', 'name country population coordinates')\n",
    "tokyo = City('Tokyo', 'JP', 36.933, (35.689722, 139.691667))\n",
    "print(tokyo)"
   ]
  },
  {
   "cell_type": "code",
   "execution_count": 19,
   "metadata": {
    "tags": []
   },
   "outputs": [
    {
     "output_type": "stream",
     "name": "stdout",
     "text": [
      "36.933\n(35.689722, 139.691667)\nJP\n"
     ]
    }
   ],
   "source": [
    "print(tokyo.population) # Prefer to use attribute or field names\n",
    "print(tokyo.coordinates)\n",
    "print(tokyo[1]) # use indexing if I wish"
   ]
  },
  {
   "cell_type": "code",
   "execution_count": 20,
   "metadata": {},
   "outputs": [
    {
     "output_type": "execute_result",
     "data": {
      "text/plain": [
       "(type, __main__.City)"
      ]
     },
     "metadata": {},
     "execution_count": 20
    }
   ],
   "source": [
    "type(City), type(tokyo)"
   ]
  },
  {
   "cell_type": "code",
   "execution_count": 21,
   "metadata": {
    "tags": []
   },
   "outputs": [
    {
     "output_type": "stream",
     "name": "stdout",
     "text": [
      "name\ncountry\npopulation\ncoordinates\n"
     ]
    }
   ],
   "source": [
    "for field in City._fields: # tuple containing field names\n",
    "    print(field)"
   ]
  },
  {
   "cell_type": "code",
   "execution_count": 22,
   "metadata": {},
   "outputs": [],
   "source": [
    "LatLong = namedtuple('LatLong', 'lat long')\n",
    "delhi_data = ('Delhi NCR', 'IN', 21.935,\n",
    "              LatLong(28.613889, 77.2098889)) # tuple"
   ]
  },
  {
   "cell_type": "code",
   "execution_count": 23,
   "metadata": {},
   "outputs": [
    {
     "output_type": "execute_result",
     "data": {
      "text/plain": [
       "City(name='Delhi NCR', country='IN', population=21.935, coordinates=LatLong(lat=28.613889, long=77.2098889))"
      ]
     },
     "metadata": {},
     "execution_count": 23
    }
   ],
   "source": [
    "delhi = City._make(delhi_data)\n",
    "delhi"
   ]
  },
  {
   "cell_type": "code",
   "execution_count": 25,
   "metadata": {},
   "outputs": [
    {
     "output_type": "execute_result",
     "data": {
      "text/plain": [
       "City(name='Delhi NCR', country='IN', population=21.935, coordinates=LatLong(lat=28.613889, long=77.2098889))"
      ]
     },
     "metadata": {},
     "execution_count": 25
    }
   ],
   "source": [
    "delhi2 = City(*delhi_data)\n",
    "delhi2"
   ]
  },
  {
   "cell_type": "code",
   "execution_count": 26,
   "metadata": {},
   "outputs": [
    {
     "output_type": "execute_result",
     "data": {
      "text/plain": [
       "True"
      ]
     },
     "metadata": {},
     "execution_count": 26
    }
   ],
   "source": [
    "delhi == delhi2"
   ]
  },
  {
   "cell_type": "code",
   "execution_count": 27,
   "metadata": {
    "tags": []
   },
   "outputs": [
    {
     "output_type": "stream",
     "name": "stdout",
     "text": [
      "OrderedDict([('name', 'Delhi NCR'), ('country', 'IN'), ('population', 21.935), ('coordinates', LatLong(lat=28.613889, long=77.2098889))])\n"
     ]
    }
   ],
   "source": [
    "d = delhi._asdict() # returns an OrderedDict built from named tuple\n",
    "print(d)"
   ]
  },
  {
   "cell_type": "markdown",
   "metadata": {
    "slideshow": {
     "slide_type": "subslide"
    }
   },
   "source": [
    "# Lab: Named Tuples\n",
    "1. Create a named tuple called __`Card`__ (representing a playing card) which has two fields, __`rank`__ and __`suit`__\n",
    "2. Create a list of __`Card`__s, which, when initialized, contains all 52 cards in a deck\n",
    "3. In other words, the list (or deck) should contain  \n",
    "\n",
    "`[Card(rank=2, suit='clubs'), Card(rank=3, suit='clubs'), Card(rank=4, suit='clubs'), ..., Card(rank='Q', suit='spades'), Card(rank='K', suit='spades'), Card(rank='A', suit='spades')] `"
   ]
  },
  {
   "cell_type": "markdown",
   "metadata": {
    "slideshow": {
     "slide_type": "slide"
    }
   },
   "source": [
    "# The __`collections`__ module: Counters"
   ]
  },
  {
   "cell_type": "markdown",
   "metadata": {
    "slideshow": {
     "slide_type": "subslide"
    }
   },
   "source": [
    "## Counters\n",
    "* __`dict`__ subclass for counting things\n",
    "* unordered collection where things being counted are `dict` keys and the counts are `dict` values\n",
    "* __`Counters`__ can have negative values"
   ]
  },
  {
   "cell_type": "code",
   "execution_count": 28,
   "metadata": {},
   "outputs": [
    {
     "output_type": "execute_result",
     "data": {
      "text/plain": [
       "Counter()"
      ]
     },
     "metadata": {},
     "execution_count": 28
    }
   ],
   "source": [
    "from collections import Counter\n",
    "c = Counter()\n",
    "c"
   ]
  },
  {
   "cell_type": "code",
   "execution_count": 29,
   "metadata": {},
   "outputs": [
    {
     "output_type": "execute_result",
     "data": {
      "text/plain": [
       "Counter({'a': 4,\n",
       "         'n': 3,\n",
       "         't': 3,\n",
       "         'i': 5,\n",
       "         'd': 1,\n",
       "         's': 4,\n",
       "         'e': 2,\n",
       "         'b': 1,\n",
       "         'l': 1,\n",
       "         'h': 1,\n",
       "         'm': 2,\n",
       "         'r': 1})"
      ]
     },
     "metadata": {},
     "execution_count": 29
    }
   ],
   "source": [
    "c = Counter('antidisestablishmentarianism')\n",
    "c"
   ]
  },
  {
   "cell_type": "code",
   "execution_count": 28,
   "metadata": {},
   "outputs": [
    {
     "output_type": "execute_result",
     "data": {
      "text/plain": [
       "Counter({'a': 14,\n",
       "         'n': 3,\n",
       "         't': 13,\n",
       "         'i': 15,\n",
       "         'd': 1,\n",
       "         's': 24,\n",
       "         'e': 12,\n",
       "         'b': 11,\n",
       "         'l': 11,\n",
       "         'h': 11,\n",
       "         'm': 2,\n",
       "         'r': 1})"
      ]
     },
     "metadata": {},
     "execution_count": 28
    }
   ],
   "source": [
    "c.update('establish' * 10)\n",
    "c"
   ]
  },
  {
   "cell_type": "code",
   "execution_count": 30,
   "metadata": {},
   "outputs": [
    {
     "output_type": "execute_result",
     "data": {
      "text/plain": [
       "Counter({'red': 5, 'blue': -1})"
      ]
     },
     "metadata": {},
     "execution_count": 30
    }
   ],
   "source": [
    "c = Counter({'red': 5, 'blue': -1})\n",
    "c"
   ]
  },
  {
   "cell_type": "code",
   "execution_count": 31,
   "metadata": {},
   "outputs": [
    {
     "output_type": "execute_result",
     "data": {
      "text/plain": [
       "Counter({'foo': 1, 'bar': 2})"
      ]
     },
     "metadata": {},
     "execution_count": 31
    }
   ],
   "source": [
    "c = Counter(foo=1, bar=2)\n",
    "c"
   ]
  },
  {
   "cell_type": "code",
   "execution_count": 32,
   "metadata": {},
   "outputs": [
    {
     "output_type": "execute_result",
     "data": {
      "text/plain": [
       "<itertools.chain at 0x7fee4bd8f850>"
      ]
     },
     "metadata": {},
     "execution_count": 32
    }
   ],
   "source": [
    "c = Counter(red=6, blue=5, green=3, pink=1,\n",
    "            yellow=-3)\n",
    "c.elements() # returns an iterator"
   ]
  },
  {
   "cell_type": "code",
   "execution_count": 33,
   "metadata": {
    "tags": []
   },
   "outputs": [
    {
     "output_type": "stream",
     "name": "stdout",
     "text": [
      "red red red red red red blue blue blue blue blue green green green pink "
     ]
    }
   ],
   "source": [
    "for thing in c.elements(): # cf. list(...)\n",
    "    print(thing, end=' ')"
   ]
  },
  {
   "cell_type": "code",
   "execution_count": 34,
   "metadata": {},
   "outputs": [
    {
     "output_type": "execute_result",
     "data": {
      "text/plain": [
       "[('red', 6), ('blue', 5), ('green', 3)]"
      ]
     },
     "metadata": {},
     "execution_count": 34
    }
   ],
   "source": [
    "c.most_common(3) # returns the n most common elements"
   ]
  },
  {
   "cell_type": "code",
   "execution_count": 35,
   "metadata": {},
   "outputs": [
    {
     "output_type": "execute_result",
     "data": {
      "text/plain": [
       "Counter({'red': 3,\n",
       "         'blue': 0,\n",
       "         'green': 1,\n",
       "         'pink': 1,\n",
       "         'yellow': -3,\n",
       "         'fuschia': -3})"
      ]
     },
     "metadata": {},
     "execution_count": 35
    }
   ],
   "source": [
    "d = Counter(fuschia=3, pink=0, red=3, blue=5, green=2)\n",
    "c.subtract(d) # preserves negative values\n",
    "c"
   ]
  },
  {
   "cell_type": "code",
   "execution_count": 36,
   "metadata": {},
   "outputs": [
    {
     "output_type": "execute_result",
     "data": {
      "text/plain": [
       "dict_items([('red', 3), ('blue', 0), ('green', 1), ('pink', 1), ('yellow', -3), ('fuschia', -3)])"
      ]
     },
     "metadata": {},
     "execution_count": 36
    }
   ],
   "source": [
    "c.items() # remember that under the hood, this is a dict"
   ]
  },
  {
   "cell_type": "code",
   "execution_count": 36,
   "metadata": {},
   "outputs": [
    {
     "output_type": "execute_result",
     "data": {
      "text/plain": [
       "Counter({'red': 3, 'green': 1, 'pink': 1})"
      ]
     },
     "metadata": {},
     "execution_count": 36
    }
   ],
   "source": [
    "+c # generates new Counter, discarding 0s or negatives"
   ]
  },
  {
   "cell_type": "code",
   "execution_count": 37,
   "metadata": {},
   "outputs": [
    {
     "output_type": "execute_result",
     "data": {
      "text/plain": [
       "Counter({'red': 3, 'green': 1, 'pink': 1})"
      ]
     },
     "metadata": {},
     "execution_count": 37
    }
   ],
   "source": [
    "c = +c\n",
    "c"
   ]
  },
  {
   "cell_type": "code",
   "execution_count": 38,
   "metadata": {},
   "outputs": [
    {
     "output_type": "execute_result",
     "data": {
      "text/plain": [
       "Counter({'blue': 5, 'yellow': 3})"
      ]
     },
     "metadata": {},
     "execution_count": 38
    }
   ],
   "source": [
    "c = Counter(red=6, blue=-5, green=3, pink=1, yellow=-3)\n",
    "c = -c # discard positives and multiply remaining negatives by -1\n",
    "c"
   ]
  },
  {
   "cell_type": "code",
   "execution_count": 39,
   "metadata": {},
   "outputs": [
    {
     "output_type": "execute_result",
     "data": {
      "text/plain": [
       "Counter({'blue': 5, 'yellow': 10, 'red': 6, 'green': 9})"
      ]
     },
     "metadata": {},
     "execution_count": 39
    }
   ],
   "source": [
    "d = Counter(red=6, yellow=7, green=9)\n",
    "c.update(d)\n",
    "c"
   ]
  },
  {
   "cell_type": "code",
   "execution_count": 40,
   "metadata": {},
   "outputs": [
    {
     "output_type": "execute_result",
     "data": {
      "text/plain": [
       "Counter({'a': 4, 'b': 3, 'c': 9})"
      ]
     },
     "metadata": {},
     "execution_count": 40
    }
   ],
   "source": [
    "c = Counter(a=3, b=1, c=4)\n",
    "d = Counter(a=1, b=2, c=5)\n",
    "c + d"
   ]
  },
  {
   "cell_type": "code",
   "execution_count": 41,
   "metadata": {},
   "outputs": [
    {
     "output_type": "execute_result",
     "data": {
      "text/plain": [
       "Counter({'a': 2})"
      ]
     },
     "metadata": {},
     "execution_count": 41
    }
   ],
   "source": [
    "c - d"
   ]
  },
  {
   "cell_type": "code",
   "execution_count": 42,
   "metadata": {
    "tags": []
   },
   "outputs": [
    {
     "output_type": "stream",
     "name": "stdout",
     "text": [
      "Counter({'c': 4, 'a': 3, 'b': 1})\nCounter({'c': 5, 'b': 2, 'a': 1})\n"
     ]
    }
   ],
   "source": [
    "print(c, d, sep='\\n')"
   ]
  },
  {
   "cell_type": "markdown",
   "metadata": {
    "slideshow": {
     "slide_type": "subslide"
    }
   },
   "source": [
    "## Lab: Counters\n",
    "* Use a __`Counter`__ to count the words in a file\n",
    "* That is, read in a file, separate it into words, and use a __`Counter`__ to count the number of occurrences of each word in the file.\n",
    "* Print out the 10 most common words in the file"
   ]
  },
  {
   "source": [
    "# The __`dataclasses`__ module: "
   ],
   "cell_type": "markdown",
   "metadata": {}
  },
  {
   "source": [
    "A newer alternative to Named Tuples is the dataclass.  It works quite similarly, but it has typing built in and is pricipally applied through decorators.  We haven't yet covered these topics so we will revisit the dataclass later.  "
   ],
   "cell_type": "markdown",
   "metadata": {}
  },
  {
   "cell_type": "code",
   "execution_count": null,
   "metadata": {},
   "outputs": [],
   "source": []
  }
 ],
 "metadata": {
  "celltoolbar": "Slideshow",
  "kernelspec": {
   "display_name": "Python 3",
   "language": "python",
   "name": "python3"
  },
  "language_info": {
   "codemirror_mode": {
    "name": "ipython",
    "version": 3
   },
   "file_extension": ".py",
   "mimetype": "text/x-python",
   "name": "python",
   "nbconvert_exporter": "python",
   "pygments_lexer": "ipython3",
   "version": "3.7.7-final"
  }
 },
 "nbformat": 4,
 "nbformat_minor": 1
}