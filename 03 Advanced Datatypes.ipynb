{
 "cells": [
  {
   "cell_type": "markdown",
   "metadata": {
    "slideshow": {
     "slide_type": "slide"
    }
   },
   "source": [
    "# The `collections` module\n",
    "* the __`collections`__ module contains a bunch of useful types which are derived from (read: inherited from) some of the built-in types we're already familiar with"
   ]
  },
  {
   "cell_type": "code",
   "execution_count": 1,
   "metadata": {
    "tags": []
   },
   "outputs": [
    {
     "name": "stdout",
     "output_type": "stream",
     "text": [
      "{'one': 3, 'two': 6, 'three': 0}\n"
     ]
    }
   ],
   "source": [
    "# Python 3.6 dicts retain insertion order by default\n",
    "# see https://mail.python.org/pipermail/python-dev/2016-September/146327.html\n",
    "d = {}\n",
    "d['one'] = 3\n",
    "d['two'] = 6\n",
    "d['three'] = 0\n",
    "print(d)"
   ]
  },
  {
   "cell_type": "markdown",
   "metadata": {
    "slideshow": {
     "slide_type": "slide"
    }
   },
   "source": [
    "# The `collections` module: Default Dictionaries"
   ]
  },
  {
   "cell_type": "markdown",
   "metadata": {
    "slideshow": {
     "slide_type": "subslide"
    }
   },
   "source": [
    "## Default Dictionaries\n",
    "* suppose we need a default value for any key which does not exist in the dictionary\n",
    " * we can use the __`get()`__ function, or __`setdefault()`__ (or the __`in`__ operator), or we can use a `Default Dictionary`"
   ]
  },
  {
   "cell_type": "code",
   "execution_count": 2,
   "metadata": {},
   "outputs": [
    {
     "data": {
      "text/plain": [
       "{'a': 4,\n",
       " 'n': 3,\n",
       " 't': 3,\n",
       " 'i': 5,\n",
       " 'd': 1,\n",
       " 's': 4,\n",
       " 'e': 2,\n",
       " 'b': 1,\n",
       " 'l': 1,\n",
       " 'h': 1,\n",
       " 'm': 2,\n",
       " 'r': 1}"
      ]
     },
     "execution_count": 2,
     "metadata": {},
     "output_type": "execute_result"
    }
   ],
   "source": [
    "# what we did before...\n",
    "\n",
    "def count_letters(word):\n",
    "    '''Returns a dict of letters and how many times the letter\n",
    "    appeared in the word passed in'''\n",
    "    count = {}\n",
    "    for ltr in word:\n",
    "        #count[ltr] = count.setdefault(ltr, 0) + 1\n",
    "        count[ltr] = count.get(ltr, 0) + 1\n",
    "    return count\n",
    "\n",
    "count_letters('antidisestablishmentarianism')"
   ]
  },
  {
   "cell_type": "code",
   "execution_count": 3,
   "metadata": {},
   "outputs": [
    {
     "data": {
      "text/plain": [
       "defaultdict(int,\n",
       "            {'o': 4,\n",
       "             'n': 1,\n",
       "             'e': 7,\n",
       "             ' ': 6,\n",
       "             't': 5,\n",
       "             'w': 2,\n",
       "             'h': 3,\n",
       "             'r': 4,\n",
       "             'f': 1,\n",
       "             'u': 1})"
      ]
     },
     "execution_count": 3,
     "metadata": {},
     "output_type": "execute_result"
    }
   ],
   "source": [
    "from collections import defaultdict\n",
    "\n",
    "def count_letters(word):\n",
    "    '''Returns a dict of letters and how many times the letter\n",
    "    appeared in the string passed in.'''\n",
    "    # When creating a defaultdict,\n",
    "    # the passed argument dictates what the\n",
    "    # default value will be (int = 0, str = \"\", list = [])\n",
    "    count = defaultdict(int)\n",
    "    for ltr in word:\n",
    "        count[ltr] += 1\n",
    "    return count\n",
    "\n",
    "count_letters('one two three four two three three')"
   ]
  },
  {
   "cell_type": "markdown",
   "metadata": {
    "slideshow": {
     "slide_type": "subslide"
    }
   },
   "source": [
    "## Lab: Default Dictionaries\n",
    "* read from a file where each line is a word followed by a count, e.g.,\n",
    "<pre>\n",
    "    apple 2\n",
    "    pear 3\n",
    "    cherry 5\n",
    "    apple 3\n",
    "    pear 6\n",
    "    apple 1\n",
    "</pre>\n",
    "(as shown above, words may be duplicated)\n",
    "* generate a __`defaultdict`__ where the keys are the words and the value are a _list_ of all the counts for that word, e.g.,\n",
    "<pre>\n",
    "defaultdict(&lt;class 'list'>, {'apple': ['2', '3', '1'], 'pear': ['3', '6'], 'cherry': ['5']})\n",
    "</pre>"
   ]
  },
  {
   "cell_type": "markdown",
   "metadata": {},
   "source": [
    "## Now, for more fun, let's implement a default dictionary without using the __`collections`__ module\n",
    "* In other words, make your own class (e.g., MyDefaultDict)\n",
    "* What class or classes should it inherit from?\n",
    "* You will need to create the method `__getitem__(self, key)__` which is what Python uses under the hood to retrieve an item from a dictionary\n",
    " * if the key in question is not currenty in the dict, what should you return?"
   ]
  },
  {
   "cell_type": "markdown",
   "metadata": {
    "slideshow": {
     "slide_type": "slide"
    }
   },
   "source": [
    "# The `collections` module: Deque"
   ]
  },
  {
   "cell_type": "markdown",
   "metadata": {
    "slideshow": {
     "slide_type": "subslide"
    }
   },
   "source": [
    "# Deque\n",
    "* double ended queue\n",
    "* pronounced \"deck\""
   ]
  },
  {
   "cell_type": "code",
   "execution_count": 4,
   "metadata": {
    "tags": []
   },
   "outputs": [
    {
     "name": "stdout",
     "output_type": "stream",
     "text": [
      "deque([0, 1, 2, 3, 4, 5, 6, 7, 8, 9], maxlen=10)\n"
     ]
    }
   ],
   "source": [
    "from collections import deque\n",
    "dq = deque(range(10), maxlen=10) # maxlen is optional\n",
    "print(dq)"
   ]
  },
  {
   "cell_type": "code",
   "execution_count": 5,
   "metadata": {
    "tags": []
   },
   "outputs": [
    {
     "name": "stdout",
     "output_type": "stream",
     "text": [
      "deque([7, 8, 9, 0, 1, 2, 3, 4, 5, 6], maxlen=10)\n"
     ]
    }
   ],
   "source": [
    "dq.rotate(3) # +n takes items from right, prepends to left, vice versa for -n\n",
    "print(dq)"
   ]
  },
  {
   "cell_type": "code",
   "execution_count": 6,
   "metadata": {
    "tags": []
   },
   "outputs": [
    {
     "name": "stdout",
     "output_type": "stream",
     "text": [
      "deque([1, 2, 3, 4, 5, 6, 7, 8, 9, 0], maxlen=10)\n"
     ]
    }
   ],
   "source": [
    "dq.rotate(-4)\n",
    "print(dq)"
   ]
  },
  {
   "cell_type": "code",
   "execution_count": 7,
   "metadata": {
    "tags": []
   },
   "outputs": [
    {
     "name": "stdout",
     "output_type": "stream",
     "text": [
      "deque(['a', 1, 2, 3, 4, 5, 6, 7, 8, 9], maxlen=10)\n"
     ]
    }
   ],
   "source": [
    "dq.appendleft('a') # appending to full deque discards item(s) from other end\n",
    "print(dq)"
   ]
  },
  {
   "cell_type": "code",
   "execution_count": 8,
   "metadata": {
    "tags": []
   },
   "outputs": [
    {
     "name": "stdout",
     "output_type": "stream",
     "text": [
      "deque([3, 4, 5, 6, 7, 8, 9, 'bcd', 6.6, 9.8], maxlen=10)\n"
     ]
    }
   ],
   "source": [
    "dq.extend(['bcd', 6.6, 9.8])\n",
    "print(dq)"
   ]
  },
  {
   "cell_type": "code",
   "execution_count": 9,
   "metadata": {
    "tags": []
   },
   "outputs": [
    {
     "name": "stdout",
     "output_type": "stream",
     "text": [
      "deque([-3, -2, -1, 3, 4, 5, 6, 7, 8, 9], maxlen=10)\n"
     ]
    }
   ],
   "source": [
    "dq.extendleft((-1, -2, -3))\n",
    "print(dq)"
   ]
  },
  {
   "cell_type": "code",
   "execution_count": 10,
   "metadata": {},
   "outputs": [
    {
     "data": {
      "text/plain": [
       "9"
      ]
     },
     "execution_count": 10,
     "metadata": {},
     "output_type": "execute_result"
    }
   ],
   "source": [
    "dq.pop() # same as list"
   ]
  },
  {
   "cell_type": "code",
   "execution_count": 11,
   "metadata": {},
   "outputs": [
    {
     "ename": "AttributeError",
     "evalue": "attribute 'maxlen' of 'collections.deque' objects is not writable",
     "output_type": "error",
     "traceback": [
      "\u001b[0;31m---------------------------------------------------------------------------\u001b[0m",
      "\u001b[0;31mAttributeError\u001b[0m                            Traceback (most recent call last)",
      "\u001b[1;32m/Users/edwardfine/Code/DI/python201/03 Advanced Datatypes.ipynb Cell 18\u001b[0m in \u001b[0;36m<cell line: 1>\u001b[0;34m()\u001b[0m\n\u001b[0;32m----> <a href='vscode-notebook-cell:/Users/edwardfine/Code/DI/python201/03%20Advanced%20Datatypes.ipynb#Y121sZmlsZQ%3D%3D?line=0'>1</a>\u001b[0m dq\u001b[39m.\u001b[39mmaxlen \u001b[39m=\u001b[39m\u001b[39m7\u001b[39m\n",
      "\u001b[0;31mAttributeError\u001b[0m: attribute 'maxlen' of 'collections.deque' objects is not writable"
     ]
    }
   ],
   "source": [
    "dq.maxlen =7"
   ]
  },
  {
   "cell_type": "code",
   "execution_count": 12,
   "metadata": {},
   "outputs": [
    {
     "data": {
      "text/plain": [
       "-3"
      ]
     },
     "execution_count": 12,
     "metadata": {},
     "output_type": "execute_result"
    }
   ],
   "source": [
    "dq.popleft() # specific to deque, as is rotate()"
   ]
  },
  {
   "cell_type": "code",
   "execution_count": 13,
   "metadata": {
    "tags": []
   },
   "outputs": [
    {
     "name": "stdout",
     "output_type": "stream",
     "text": [
      "deque([-2, -1, 3, 4, 5, 6, 7, 8], maxlen=10)\n",
      "deque([-2, -1, 4, 5, 6, 7, 8], maxlen=10)\n"
     ]
    }
   ],
   "source": [
    "print(dq)\n",
    "dq.remove(3) # same as list\n",
    "print(dq)"
   ]
  },
  {
   "cell_type": "code",
   "execution_count": 14,
   "metadata": {
    "tags": []
   },
   "outputs": [
    {
     "name": "stdout",
     "output_type": "stream",
     "text": [
      "deque([8, 7, 6, 5, 4, -1, -2], maxlen=10)\n"
     ]
    }
   ],
   "source": [
    "dq.reverse()\n",
    "print(dq)"
   ]
  },
  {
   "cell_type": "code",
   "execution_count": null,
   "metadata": {},
   "outputs": [],
   "source": [
    "dq.append(0)\n",
    "dq"
   ]
  },
  {
   "cell_type": "code",
   "execution_count": null,
   "metadata": {},
   "outputs": [],
   "source": [
    "dq.extend(['bcd', 6.6, 9.8])\n",
    "dq"
   ]
  },
  {
   "cell_type": "markdown",
   "metadata": {},
   "source": [
    "# Lab: Deque\n",
    "* use a deque to print the last *n* lines of file, much like __`tail`__ in Linux\n",
    "* remember that you can iterate through a file a line at a time"
   ]
  },
  {
   "cell_type": "code",
   "execution_count": null,
   "metadata": {},
   "outputs": [],
   "source": [
    "\n",
    "    \n",
    "    \n",
    "    poem = 'poem.txt'\n",
    "    def tail(filename, numlines=3):\n",
    "        with open(filename) as fi:\n",
    "\n",
    "            return lines\n",
    "\n",
    "print(lines)\n"
   ]
  },
  {
   "cell_type": "markdown",
   "metadata": {
    "slideshow": {
     "slide_type": "slide"
    }
   },
   "source": [
    "# The `collections` module: Named Tuples\n"
   ]
  },
  {
   "cell_type": "markdown",
   "metadata": {
    "slideshow": {
     "slide_type": "subslide"
    }
   },
   "source": [
    "## Named Tuples\n",
    "* tuples are quite handy, but they are missing a key feature when using them as records–sometimes we want to name the fields\n",
    " * more efficient (i.e., less memory) than dictionaries because instances don't need to contain the keys themselves, as dictionaries do, just the values\n",
    "\n",
    "## Advanced Programming concept: Metaprogramming \n",
    "* Metaprogramming is creating a class that create new classes of objects. It is one of those programming concepts that is not used frequently, but can be very powerful. \n",
    "* __`namedtuple()`__ returns not an individual object but a new class, customized for the given names"
   ]
  },
  {
   "cell_type": "code",
   "execution_count": null,
   "metadata": {
    "tags": []
   },
   "outputs": [],
   "source": [
    "from collections import namedtuple\n",
    "Point = namedtuple('Point', 'x y')\n",
    "# first argument is the name of the tuple class itself\n",
    "# second argument is attribute names as an iterable of strings or a\n",
    "# single space/comma-delimited string\n",
    "point1 = Point(1, 3)\n",
    "print(point1, type(point1))"
   ]
  },
  {
   "cell_type": "code",
   "execution_count": null,
   "metadata": {
    "tags": []
   },
   "outputs": [],
   "source": [
    "point2 = Point(-3, -2)\n",
    "print(point2)\n",
    "print(point1[0], point2[1]) # what we would do if just a tuple"
   ]
  },
  {
   "cell_type": "code",
   "execution_count": null,
   "metadata": {
    "tags": []
   },
   "outputs": [],
   "source": [
    "print(point1.x, point1.y) # much nicer, because fields are named"
   ]
  },
  {
   "cell_type": "code",
   "execution_count": null,
   "metadata": {
    "tags": []
   },
   "outputs": [],
   "source": [
    "from collections import namedtuple\n",
    "City = namedtuple('City', 'name country population coordinates')\n",
    "tokyo = City('Tokyo', 'JP', 36.933, (35.689722, 139.691667))\n",
    "print(tokyo)"
   ]
  },
  {
   "cell_type": "code",
   "execution_count": null,
   "metadata": {
    "tags": []
   },
   "outputs": [],
   "source": [
    "print(tokyo.population) # Prefer to use attribute or field names\n",
    "print(tokyo.coordinates)\n",
    "print(tokyo[1]) # use indexing if I wish"
   ]
  },
  {
   "cell_type": "code",
   "execution_count": null,
   "metadata": {},
   "outputs": [],
   "source": [
    "type(City), type(tokyo)"
   ]
  },
  {
   "cell_type": "code",
   "execution_count": null,
   "metadata": {
    "tags": []
   },
   "outputs": [],
   "source": [
    "for field in City._fields: # tuple containing field names\n",
    "    print(field)"
   ]
  },
  {
   "cell_type": "code",
   "execution_count": null,
   "metadata": {},
   "outputs": [],
   "source": [
    "LatLong = namedtuple('LatLong', 'lat long')\n",
    "delhi_data = ('Delhi NCR', 'IN', 21.935,\n",
    "              LatLong(28.613889, 77.2098889)) # tuple"
   ]
  },
  {
   "cell_type": "code",
   "execution_count": null,
   "metadata": {},
   "outputs": [],
   "source": [
    "delhi = City._make(delhi_data)\n",
    "delhi"
   ]
  },
  {
   "cell_type": "code",
   "execution_count": null,
   "metadata": {},
   "outputs": [],
   "source": [
    "delhi2 = City(*delhi_data)\n",
    "delhi2"
   ]
  },
  {
   "cell_type": "code",
   "execution_count": null,
   "metadata": {},
   "outputs": [],
   "source": [
    "delhi == delhi2"
   ]
  },
  {
   "cell_type": "code",
   "execution_count": null,
   "metadata": {
    "tags": []
   },
   "outputs": [],
   "source": [
    "d = delhi._asdict() # returns an OrderedDict built from named tuple\n",
    "print(d)"
   ]
  },
  {
   "cell_type": "markdown",
   "metadata": {
    "slideshow": {
     "slide_type": "subslide"
    }
   },
   "source": [
    "# Lab: Named Tuples\n",
    "1. Create a named tuple called __`Card`__ (representing a playing card) which has two fields, __`rank`__ and __`suit`__\n",
    "2. Create a list of __`Card`__s, which, when initialized, contains all 52 cards in a deck\n",
    "3. In other words, the list (or deck) should contain  \n",
    "\n",
    "`[Card(rank=2, suit='clubs'), Card(rank=3, suit='clubs'), Card(rank=4, suit='clubs'), ..., Card(rank='Q', suit='spades'), Card(rank='K', suit='spades'), Card(rank='A', suit='spades')] `"
   ]
  },
  {
   "cell_type": "code",
   "execution_count": null,
   "metadata": {},
   "outputs": [],
   "source": []
  },
  {
   "cell_type": "markdown",
   "metadata": {
    "slideshow": {
     "slide_type": "slide"
    }
   },
   "source": [
    "# The __`collections`__ module: Counters"
   ]
  },
  {
   "cell_type": "markdown",
   "metadata": {
    "slideshow": {
     "slide_type": "subslide"
    }
   },
   "source": [
    "## Counters\n",
    "* __`dict`__ subclass for counting things\n",
    "* unordered collection where things being counted are `dict` keys and the counts are `dict` values\n",
    "* __`Counters`__ can have negative values"
   ]
  },
  {
   "cell_type": "code",
   "execution_count": 15,
   "metadata": {},
   "outputs": [
    {
     "data": {
      "text/plain": [
       "Counter()"
      ]
     },
     "execution_count": 15,
     "metadata": {},
     "output_type": "execute_result"
    }
   ],
   "source": [
    "from collections import Counter\n",
    "c = Counter()\n",
    "c"
   ]
  },
  {
   "cell_type": "code",
   "execution_count": 16,
   "metadata": {},
   "outputs": [
    {
     "data": {
      "text/plain": [
       "Counter({'a': 4,\n",
       "         'n': 3,\n",
       "         't': 3,\n",
       "         'i': 5,\n",
       "         'd': 1,\n",
       "         's': 4,\n",
       "         'e': 2,\n",
       "         'b': 1,\n",
       "         'l': 1,\n",
       "         'h': 1,\n",
       "         'm': 2,\n",
       "         'r': 1})"
      ]
     },
     "execution_count": 16,
     "metadata": {},
     "output_type": "execute_result"
    }
   ],
   "source": [
    "c = Counter('antidisestablishmentarianism')\n",
    "c"
   ]
  },
  {
   "cell_type": "code",
   "execution_count": 17,
   "metadata": {},
   "outputs": [
    {
     "data": {
      "text/plain": [
       "Counter({'a': 14,\n",
       "         'n': 3,\n",
       "         't': 13,\n",
       "         'i': 15,\n",
       "         'd': 1,\n",
       "         's': 24,\n",
       "         'e': 12,\n",
       "         'b': 11,\n",
       "         'l': 11,\n",
       "         'h': 11,\n",
       "         'm': 2,\n",
       "         'r': 1})"
      ]
     },
     "execution_count": 17,
     "metadata": {},
     "output_type": "execute_result"
    }
   ],
   "source": [
    "c.update('establish' * 10)\n",
    "c"
   ]
  },
  {
   "cell_type": "code",
   "execution_count": 18,
   "metadata": {},
   "outputs": [
    {
     "data": {
      "text/plain": [
       "Counter({'red': 5, 'blue': -1})"
      ]
     },
     "execution_count": 18,
     "metadata": {},
     "output_type": "execute_result"
    }
   ],
   "source": [
    "c = Counter({'red': 5, 'blue': -1})\n",
    "c"
   ]
  },
  {
   "cell_type": "code",
   "execution_count": 19,
   "metadata": {},
   "outputs": [
    {
     "data": {
      "text/plain": [
       "Counter({'foo': 1, 'bar': 2})"
      ]
     },
     "execution_count": 19,
     "metadata": {},
     "output_type": "execute_result"
    }
   ],
   "source": [
    "c = Counter(foo=1, bar=2)\n",
    "c"
   ]
  },
  {
   "cell_type": "code",
   "execution_count": 20,
   "metadata": {},
   "outputs": [
    {
     "data": {
      "text/plain": [
       "<itertools.chain at 0x10fd56f10>"
      ]
     },
     "execution_count": 20,
     "metadata": {},
     "output_type": "execute_result"
    }
   ],
   "source": [
    "c = Counter(red=6, blue=5, green=3, pink=1,\n",
    "            yellow=-3)\n",
    "c.elements() # returns an iterator"
   ]
  },
  {
   "cell_type": "code",
   "execution_count": 21,
   "metadata": {
    "tags": []
   },
   "outputs": [
    {
     "name": "stdout",
     "output_type": "stream",
     "text": [
      "red red red red red red blue blue blue blue blue green green green pink "
     ]
    }
   ],
   "source": [
    "for thing in c.elements(): # cf. list(...)\n",
    "    print(thing, end=' ')\n",
    "\n",
    "# What about yellow?"
   ]
  },
  {
   "cell_type": "code",
   "execution_count": 22,
   "metadata": {},
   "outputs": [
    {
     "data": {
      "text/plain": [
       "[('red', 6), ('blue', 5), ('green', 3)]"
      ]
     },
     "execution_count": 22,
     "metadata": {},
     "output_type": "execute_result"
    }
   ],
   "source": [
    "c.most_common(3) # returns the n most common elements"
   ]
  },
  {
   "cell_type": "code",
   "execution_count": 23,
   "metadata": {},
   "outputs": [
    {
     "data": {
      "text/plain": [
       "Counter({'red': 3,\n",
       "         'blue': 0,\n",
       "         'green': 1,\n",
       "         'pink': 1,\n",
       "         'yellow': -3,\n",
       "         'fuschia': -3})"
      ]
     },
     "execution_count": 23,
     "metadata": {},
     "output_type": "execute_result"
    }
   ],
   "source": [
    "d = Counter(fuschia=3, pink=0, red=3, blue=5, green=2)\n",
    "c.subtract(d) # preserves negative values\n",
    "c"
   ]
  },
  {
   "cell_type": "code",
   "execution_count": 24,
   "metadata": {},
   "outputs": [
    {
     "data": {
      "text/plain": [
       "dict_items([('red', 3), ('blue', 0), ('green', 1), ('pink', 1), ('yellow', -3), ('fuschia', -3)])"
      ]
     },
     "execution_count": 24,
     "metadata": {},
     "output_type": "execute_result"
    }
   ],
   "source": [
    "c.items() # remember that under the hood, this is a dict"
   ]
  },
  {
   "cell_type": "code",
   "execution_count": 25,
   "metadata": {},
   "outputs": [
    {
     "data": {
      "text/plain": [
       "Counter({'red': 3, 'green': 1, 'pink': 1})"
      ]
     },
     "execution_count": 25,
     "metadata": {},
     "output_type": "execute_result"
    }
   ],
   "source": [
    "+c # generates new Counter, discarding 0s or negatives"
   ]
  },
  {
   "cell_type": "code",
   "execution_count": 26,
   "metadata": {},
   "outputs": [
    {
     "data": {
      "text/plain": [
       "Counter({'red': 3, 'green': 1, 'pink': 1})"
      ]
     },
     "execution_count": 26,
     "metadata": {},
     "output_type": "execute_result"
    }
   ],
   "source": [
    "c = +c\n",
    "c"
   ]
  },
  {
   "cell_type": "code",
   "execution_count": 28,
   "metadata": {},
   "outputs": [
    {
     "data": {
      "text/plain": [
       "Counter()"
      ]
     },
     "execution_count": 28,
     "metadata": {},
     "output_type": "execute_result"
    }
   ],
   "source": [
    "c = Counter(red=6, blue=-5, green=3, pink=1, yellow=-3)\n",
    "c = -c # discard positives and multiply remaining negatives by -1\n",
    "c"
   ]
  },
  {
   "cell_type": "code",
   "execution_count": null,
   "metadata": {},
   "outputs": [],
   "source": [
    "d = Counter(red=6, yellow=7, green=9)\n",
    "c.update(d)\n",
    "c"
   ]
  },
  {
   "cell_type": "code",
   "execution_count": null,
   "metadata": {},
   "outputs": [],
   "source": [
    "c = Counter(a=3, b=1, c=4)\n",
    "d = Counter(a=1, b=2, c=5)\n",
    "c + d"
   ]
  },
  {
   "cell_type": "code",
   "execution_count": null,
   "metadata": {},
   "outputs": [],
   "source": [
    "c - d"
   ]
  },
  {
   "cell_type": "code",
   "execution_count": null,
   "metadata": {
    "tags": []
   },
   "outputs": [],
   "source": [
    "print(c, d, sep='\\n')"
   ]
  },
  {
   "cell_type": "markdown",
   "metadata": {
    "slideshow": {
     "slide_type": "subslide"
    }
   },
   "source": [
    "## Lab: Counters\n",
    "* Use a __`Counter`__ to count the words in a file\n",
    "* That is, read in a file, separate it into words, and use a __`Counter`__ to count the number of occurrences of each word in the file.\n",
    "* Print out the 10 most common words in the file"
   ]
  },
  {
   "cell_type": "code",
   "execution_count": null,
   "metadata": {},
   "outputs": [],
   "source": []
  },
  {
   "cell_type": "markdown",
   "metadata": {},
   "source": [
    "# The __`dataclasses`__ module: "
   ]
  },
  {
   "cell_type": "markdown",
   "metadata": {},
   "source": [
    "A newer alternative to Named Tuples is the dataclass (new in Python 3.7).  It works quite similarly, but it has typing built in and is pricipally applied through decorators.  We haven't yet covered these topics so we will revisit the dataclass later.  "
   ]
  },
  {
   "cell_type": "code",
   "execution_count": null,
   "metadata": {},
   "outputs": [],
   "source": []
  }
 ],
 "metadata": {
  "celltoolbar": "Slideshow",
  "kernelspec": {
   "display_name": "Python 3.9.10 ('int_py39')",
   "language": "python",
   "name": "python3"
  },
  "language_info": {
   "codemirror_mode": {
    "name": "ipython",
    "version": 3
   },
   "file_extension": ".py",
   "mimetype": "text/x-python",
   "name": "python",
   "nbconvert_exporter": "python",
   "pygments_lexer": "ipython3",
   "version": "3.9.10"
  },
  "vscode": {
   "interpreter": {
    "hash": "a131790579ebc573d4bbf4cea7f8d82f0b3d82b3d3b1e2f5f9012c96a494e8dc"
   }
  }
 },
 "nbformat": 4,
 "nbformat_minor": 1
}
